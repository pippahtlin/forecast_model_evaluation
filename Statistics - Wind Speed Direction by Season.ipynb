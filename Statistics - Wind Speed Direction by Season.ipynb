{
 "cells": [
  {
   "cell_type": "markdown",
   "id": "a30f6b60-1ffb-413f-b0d1-f11e73d15b06",
   "metadata": {},
   "source": [
    "## Santa Barbara Weather Forecast Model Evaluation\n",
    "### UCSB Climate Variation and Changes Research Group\n",
    "#### Advisor: Professor Charles Jones\n",
    "#### Author: Pippa Lin"
   ]
  },
  {
   "cell_type": "code",
   "execution_count": 1,
   "id": "1623695b-b888-417e-a755-48513a6fc39a",
   "metadata": {},
   "outputs": [],
   "source": [
    "import numpy as np\n",
    "import pandas as pd\n",
    "import altair as alt\n",
    "import math\n",
    "import os\n",
    "import warnings\n",
    "warnings.filterwarnings('ignore')\n",
    "warnings.simplefilter('ignore')"
   ]
  },
  {
   "cell_type": "markdown",
   "id": "0acd39c7-e99c-411d-9465-aeae4ea87332",
   "metadata": {},
   "source": [
    "### Introduction:\n",
    "This research project aims to nterpret present and future climates in Santa Barbara from the Numerical Weather Forecast (NWF) model. The data is collected from https://clivac.eri.ucsb.edu/clivac/wrfreal/index.html. In this project, I performed statistical analysis to compare NWF model data and weather station observation by season, generating root mean square error, mean bias, and correlation by hour to assess model performance.\n",
    "1.Read the data:¶"
   ]
  },
  {
   "cell_type": "markdown",
   "id": "4588afc3-619e-4d47-9db5-67bcbd0bedde",
   "metadata": {},
   "source": [
    "### 1.Projection Function\n",
    "This function combines wind speed and wind direction and projects it onto two perpendicular values: zonal and meridional."
   ]
  },
  {
   "cell_type": "code",
   "execution_count": 2,
   "id": "ea965231-430c-45cc-a1e9-a868b89f1203",
   "metadata": {},
   "outputs": [],
   "source": [
    "def projection(direction, speed):\n",
    "    zonal = 0  # Default value for zonal\n",
    "    meridional = 0\n",
    "    \n",
    "    if (speed == 9999. or direction == 9999.):\n",
    "        zonal = 9999\n",
    "        meridional = 9999\n",
    "     \n",
    "    elif direction == 360.0:\n",
    "        direction == 0.0\n",
    "        \n",
    "    elif (direction >= 0 and direction < 90):\n",
    "        zonal = -speed * np.sin(direction)\n",
    "        meridional = -speed * np.cos(direction)\n",
    "    \n",
    "    elif (direction >= 90 and direction < 180):\n",
    "        beta = 180 - direction\n",
    "        zonal = -speed * np.sin(beta)\n",
    "        meridional = speed * np.cos(beta)\n",
    "        \n",
    "    elif (direction >= 180 and direction < 270):\n",
    "        beta  = 270.0 - direction\n",
    "        zonal =  speed * np.cos(beta)\n",
    "        meridional =  speed * np.sin(beta)\n",
    "    \n",
    "    elif (direction >= 270 and direction < 360):\n",
    "        beta = 360 - direction\n",
    "        zonal = speed * np.sin(beta)\n",
    "        meridional = -speed * np.cos(beta)\n",
    "    \n",
    "    else:\n",
    "        zonal = np.nan\n",
    "        meridional = np.nan\n",
    "\n",
    "    return zonal, meridional\n",
    "\n",
    "\n",
    "\n",
    "def projectionList(Listdirection, Listspeed):\n",
    "    Listzonal = []\n",
    "    Listmeridional = []\n",
    "    for d,s in zip(Listdirection, Listspeed):\n",
    "        Listzonal.append(projection(d,s)[0])\n",
    "        Listmeridional.append(projection(d,s)[1])\n",
    "    return Listzonal, Listmeridional"
   ]
  },
  {
   "cell_type": "markdown",
   "id": "b1abb177-1263-4478-ae5e-b650f6671959",
   "metadata": {
    "tags": []
   },
   "source": [
    "### 2.Read the data:\n",
    "Read and tidy the data"
   ]
  },
  {
   "cell_type": "code",
   "execution_count": 3,
   "id": "6dc2e39a-cefa-4ca7-a1b8-918e2e294b5c",
   "metadata": {},
   "outputs": [],
   "source": [
    "folder_path = '/Users/pippalin/Desktop/Climate Research/xskill-mtic1/' \n",
    "file_names = os.listdir(folder_path)\n",
    "\n",
    "# Initialize an empty list to store the data frames\n",
    "dfs = []\n",
    "\n",
    "# Loop through the list of file names and read each file into a Pandas DataFrame\n",
    "for file_name in file_names:\n",
    "    # Check if the file is a CSV file\n",
    "    if file_name.endswith('.txt'):\n",
    "        # Read the file into a Pandas DataFrame\n",
    "        file_path = os.path.join(folder_path, file_name)\n",
    "        df = pd.read_csv(file_path, skiprows = 7,nrows = 73) # since files with > 73 rows has nan values after row 73\n",
    "        # Change the column name of the data frame\n",
    "        df.set_axis(['yyyy','mm', 'dd', 'hh', 'min','ss','modtemp','modrh','modwsp','modwd','yyyy1','mm1', 'dd1', 'hh1', 'mm1','ss1','obstemp','obsrh','obswsp','obswd'], axis=1, inplace=True)\n",
    "        \n",
    "        # Frist, move the obs-part up by one, covering the first row, and drop the last row:\n",
    "        df.loc[0:len(df)-2, 'yyyy1':'obswd'] = df.loc[1:len(df)-1, 'yyyy1':'obswd'].values\n",
    "        df = df.drop(df.index[-1])\n",
    "\n",
    "        # Add a column hour\n",
    "        df[\"hour\"] = range(len(df))\n",
    "        \n",
    "        dfs.append(df)\n",
    "        \n",
    "# Concatenate the data frames into a single data frame\n",
    "merged_df = pd.concat(dfs).sort_values(by=['yyyy','mm']).reset_index(drop=True)"
   ]
  },
  {
   "cell_type": "markdown",
   "id": "37ecb4c4-f19e-4273-aa1d-1a6a5a11d26e",
   "metadata": {},
   "source": [
    "### 3.Create the Zonal and Meridional columns:"
   ]
  },
  {
   "cell_type": "code",
   "execution_count": 4,
   "id": "48a0193a-0d3c-4bca-bba9-e065df1224b7",
   "metadata": {},
   "outputs": [],
   "source": [
    "merged_df[\"modzonal\"],merged_df[\"modmeridional\"] = projectionList(merged_df[\"modwd\"], merged_df[\"modwsp\"])\n",
    "merged_df[\"obszonal\"],merged_df[\"obsmeridional\"] = projectionList(merged_df[\"obswd\"], merged_df[\"obswsp\"])"
   ]
  },
  {
   "cell_type": "markdown",
   "id": "45a34465-8616-4df2-9fc2-b32d84e07efb",
   "metadata": {},
   "source": [
    "### 4.Group by Season\n",
    "* March - May: Spring\n",
    "* June - August: Summer\n",
    "* September - November: Fall\n",
    "* December - Feburary: Winter"
   ]
  },
  {
   "cell_type": "code",
   "execution_count": 5,
   "id": "d92457ff-3c56-4c86-af41-1dd931cf2e92",
   "metadata": {},
   "outputs": [],
   "source": [
    "Spr = merged_df[(merged_df.mm == 3) | (merged_df.mm == 4) | (merged_df.mm == 5)]\n",
    "Sum = merged_df[(merged_df.mm == 6) | (merged_df.mm == 7) | (merged_df.mm == 8)]\n",
    "Fal = merged_df[(merged_df.mm == 9) | (merged_df.mm == 10) | (merged_df.mm == 11)]\n",
    "Win = merged_df[(merged_df.mm == 12) | (merged_df.mm == 1) | (merged_df.mm == 2)]"
   ]
  },
  {
   "cell_type": "markdown",
   "id": "3a521c38-1ecc-4528-ad51-9743e65fae2b",
   "metadata": {},
   "source": [
    "<br>\n",
    "\n",
    "### 5.Calculate each Seasons's statistics"
   ]
  },
  {
   "cell_type": "markdown",
   "id": "4b9a1611-e7e6-40b4-a164-5fcc8fe70134",
   "metadata": {},
   "source": [
    "### Spring:\n",
    "#### RMSE:\n",
    "1. Calcualte $(mod-obs)^2$\n",
    "2. Group by hour and sum up $(mod-obs)^2$\n",
    "3. Divide the sum by n and take square root"
   ]
  },
  {
   "cell_type": "code",
   "execution_count": 6,
   "id": "77f1fed6-af4d-4f82-bfe2-1746bda8e5ba",
   "metadata": {},
   "outputs": [],
   "source": [
    "# 1. Calculate the square difference\n",
    "Spr[\"zonal_dif\"] = (Spr[\"obszonal\"] - Spr[\"modzonal\"])**2\n",
    "Spr[\"meridional_dif\"] = (Spr[\"obsmeridional\"] - Spr[\"modmeridional\"])**2"
   ]
  },
  {
   "cell_type": "code",
   "execution_count": 7,
   "id": "98e2d17c-45ec-42cc-9251-b23b4d7917c9",
   "metadata": {},
   "outputs": [],
   "source": [
    "# 2. Group by hour and sum\n",
    "Spr_sum_zonal = Spr.groupby(\"hour\")[\"zonal_dif\"].sum()\n",
    "Spr_sum_meridional = Spr.groupby(\"hour\")[\"meridional_dif\"].sum()"
   ]
  },
  {
   "cell_type": "code",
   "execution_count": 9,
   "id": "501c5d8d-6221-444f-9ec6-e382aa91f577",
   "metadata": {},
   "outputs": [],
   "source": [
    "# 3. Divide the sums by n and take square root, calculate rmse and make it a dataframe\n",
    "count = Spr.groupby(\"hour\").count()\n",
    "\n",
    "# First, write a function to calculate rmse and return rmse\n",
    "def rmse(data,count):\n",
    "    rmse = []\n",
    "    for i in range(len(data)):\n",
    "        rmse.append(np.sqrt(data[i]/count[i]))\n",
    "    rmse = pd.DataFrame(rmse,columns = ['rmse'])\n",
    "    rmse['hour'] = range(0,72)\n",
    "    return rmse\n",
    "\n",
    "# Now we calculate rmse for each variable\n",
    "Spr_rmse_zonal = rmse(Spr_sum_zonal,count[\"obszonal\"])\n",
    "Spr_rmse_meridional = rmse(Spr_sum_zonal,count[\"obsmeridional\"])"
   ]
  },
  {
   "cell_type": "markdown",
   "id": "0b4e8417-b69f-492a-b7fa-b159e5e68ad4",
   "metadata": {},
   "source": [
    "#### Write a funtcion of plotting"
   ]
  },
  {
   "cell_type": "code",
   "execution_count": 10,
   "id": "e738197c-4011-4543-a76b-99cae7a1065f",
   "metadata": {},
   "outputs": [],
   "source": [
    "def plotrmse(dataframe,yname,plotname,subtitle):\n",
    "    # A straight line\n",
    "    rule = alt.Chart(pd.DataFrame({'Component': [24,48,72]})).mark_rule(color='#D2386C').encode(x='Component')\n",
    "    \n",
    "    # Plotting\n",
    "    plt = alt.Chart(dataframe).mark_line().encode(\n",
    "    x = 'hour:Q',\n",
    "    y = str(yname),\n",
    "    color=alt.value(\"#FFAA00\")\n",
    ").properties(\n",
    "    width = 800,\n",
    "    height = 300,\n",
    "    title={\n",
    "      \"text\": [plotname],\n",
    "      \"subtitle\": [str(subtitle)],\n",
    "      \"color\": \"green\"\n",
    "    })\n",
    "    return plt + rule"
   ]
  },
  {
   "cell_type": "code",
   "execution_count": 11,
   "id": "59235835-5097-4da5-8226-81268619097b",
   "metadata": {},
   "outputs": [
    {
     "data": {
      "text/html": [
       "\n",
       "<div id=\"altair-viz-22a7bb890486412a8422a8dade2a6a93\"></div>\n",
       "<script type=\"text/javascript\">\n",
       "  var VEGA_DEBUG = (typeof VEGA_DEBUG == \"undefined\") ? {} : VEGA_DEBUG;\n",
       "  (function(spec, embedOpt){\n",
       "    let outputDiv = document.currentScript.previousElementSibling;\n",
       "    if (outputDiv.id !== \"altair-viz-22a7bb890486412a8422a8dade2a6a93\") {\n",
       "      outputDiv = document.getElementById(\"altair-viz-22a7bb890486412a8422a8dade2a6a93\");\n",
       "    }\n",
       "    const paths = {\n",
       "      \"vega\": \"https://cdn.jsdelivr.net/npm//vega@5?noext\",\n",
       "      \"vega-lib\": \"https://cdn.jsdelivr.net/npm//vega-lib?noext\",\n",
       "      \"vega-lite\": \"https://cdn.jsdelivr.net/npm//vega-lite@4.17.0?noext\",\n",
       "      \"vega-embed\": \"https://cdn.jsdelivr.net/npm//vega-embed@6?noext\",\n",
       "    };\n",
       "\n",
       "    function maybeLoadScript(lib, version) {\n",
       "      var key = `${lib.replace(\"-\", \"\")}_version`;\n",
       "      return (VEGA_DEBUG[key] == version) ?\n",
       "        Promise.resolve(paths[lib]) :\n",
       "        new Promise(function(resolve, reject) {\n",
       "          var s = document.createElement('script');\n",
       "          document.getElementsByTagName(\"head\")[0].appendChild(s);\n",
       "          s.async = true;\n",
       "          s.onload = () => {\n",
       "            VEGA_DEBUG[key] = version;\n",
       "            return resolve(paths[lib]);\n",
       "          };\n",
       "          s.onerror = () => reject(`Error loading script: ${paths[lib]}`);\n",
       "          s.src = paths[lib];\n",
       "        });\n",
       "    }\n",
       "\n",
       "    function showError(err) {\n",
       "      outputDiv.innerHTML = `<div class=\"error\" style=\"color:red;\">${err}</div>`;\n",
       "      throw err;\n",
       "    }\n",
       "\n",
       "    function displayChart(vegaEmbed) {\n",
       "      vegaEmbed(outputDiv, spec, embedOpt)\n",
       "        .catch(err => showError(`Javascript Error: ${err.message}<br>This usually means there's a typo in your chart specification. See the javascript console for the full traceback.`));\n",
       "    }\n",
       "\n",
       "    if(typeof define === \"function\" && define.amd) {\n",
       "      requirejs.config({paths});\n",
       "      require([\"vega-embed\"], displayChart, err => showError(`Error loading script: ${err.message}`));\n",
       "    } else {\n",
       "      maybeLoadScript(\"vega\", \"5\")\n",
       "        .then(() => maybeLoadScript(\"vega-lite\", \"4.17.0\"))\n",
       "        .then(() => maybeLoadScript(\"vega-embed\", \"6\"))\n",
       "        .catch(showError)\n",
       "        .then(() => displayChart(vegaEmbed));\n",
       "    }\n",
       "  })({\"config\": {\"view\": {\"continuousWidth\": 400, \"continuousHeight\": 300}}, \"layer\": [{\"data\": {\"name\": \"data-e4b7fc1fb5b7b804c6c8b3f2da06a22c\"}, \"mark\": \"line\", \"encoding\": {\"color\": {\"value\": \"#FFAA00\"}, \"x\": {\"field\": \"hour\", \"type\": \"quantitative\"}, \"y\": {\"field\": \"rmse\", \"type\": \"quantitative\"}}, \"height\": 300, \"title\": {\"text\": [\"RMSE plot of Zonal in Spring\"], \"subtitle\": [\"sample size:14553\"], \"color\": \"green\"}, \"width\": 800}, {\"data\": {\"name\": \"data-b9dd60dc560f7891b967d8e82c37ad0c\"}, \"mark\": {\"type\": \"rule\", \"color\": \"#D2386C\"}, \"encoding\": {\"x\": {\"field\": \"Component\", \"type\": \"quantitative\"}}}], \"$schema\": \"https://vega.github.io/schema/vega-lite/v4.17.0.json\", \"datasets\": {\"data-e4b7fc1fb5b7b804c6c8b3f2da06a22c\": [{\"rmse\": 3.093323688581352, \"hour\": 0}, {\"rmse\": 3.6579865599467642, \"hour\": 1}, {\"rmse\": 6.204729113714258, \"hour\": 2}, {\"rmse\": 6.442344293718664, \"hour\": 3}, {\"rmse\": 6.477841984898999, \"hour\": 4}, {\"rmse\": 6.0173861748996, \"hour\": 5}, {\"rmse\": 6.777951232027666, \"hour\": 6}, {\"rmse\": 7.700676010687805, \"hour\": 7}, {\"rmse\": 6.751678883406737, \"hour\": 8}, {\"rmse\": 6.660188110207637, \"hour\": 9}, {\"rmse\": 6.670646711915258, \"hour\": 10}, {\"rmse\": 6.277206148723173, \"hour\": 11}, {\"rmse\": 5.6649689200262205, \"hour\": 12}, {\"rmse\": 4.76948871779854, \"hour\": 13}, {\"rmse\": 4.9103661090273, \"hour\": 14}, {\"rmse\": 3.6237956472536923, \"hour\": 15}, {\"rmse\": 2.7040824658353544, \"hour\": 16}, {\"rmse\": 2.788224864232723, \"hour\": 17}, {\"rmse\": 3.117861267127352, \"hour\": 18}, {\"rmse\": 2.7433718242203855, \"hour\": 19}, {\"rmse\": 2.9645137609590018, \"hour\": 20}, {\"rmse\": 3.0031956299522236, \"hour\": 21}, {\"rmse\": 3.424463042812165, \"hour\": 22}, {\"rmse\": 3.5609004049162465, \"hour\": 23}, {\"rmse\": 3.7680024647236308, \"hour\": 24}, {\"rmse\": 4.064353568567975, \"hour\": 25}, {\"rmse\": 5.757340203710606, \"hour\": 26}, {\"rmse\": 6.57322315085797, \"hour\": 27}, {\"rmse\": 7.393804013332543, \"hour\": 28}, {\"rmse\": 6.421612856985941, \"hour\": 29}, {\"rmse\": 6.652586827932037, \"hour\": 30}, {\"rmse\": 7.144572826995178, \"hour\": 31}, {\"rmse\": 7.500152317928113, \"hour\": 32}, {\"rmse\": 7.002958589500795, \"hour\": 33}, {\"rmse\": 6.548510911048289, \"hour\": 34}, {\"rmse\": 6.337640337372264, \"hour\": 35}, {\"rmse\": 6.60169236810092, \"hour\": 36}, {\"rmse\": 4.972621995189659, \"hour\": 37}, {\"rmse\": 5.263225032415193, \"hour\": 38}, {\"rmse\": 4.242281322418554, \"hour\": 39}, {\"rmse\": 2.4931172946616273, \"hour\": 40}, {\"rmse\": 2.6904744641582226, \"hour\": 41}, {\"rmse\": 2.962772089488121, \"hour\": 42}, {\"rmse\": 2.678943569004652, \"hour\": 43}, {\"rmse\": 3.2671281812433506, \"hour\": 44}, {\"rmse\": 3.040054242499444, \"hour\": 45}, {\"rmse\": 3.21858642712715, \"hour\": 46}, {\"rmse\": 3.1436116397491447, \"hour\": 47}, {\"rmse\": 3.3560908210077, \"hour\": 48}, {\"rmse\": 4.2660397980183635, \"hour\": 49}, {\"rmse\": 6.554691052264861, \"hour\": 50}, {\"rmse\": 6.051629824367384, \"hour\": 51}, {\"rmse\": 5.91595755576966, \"hour\": 52}, {\"rmse\": 6.698386109659291, \"hour\": 53}, {\"rmse\": 6.906640098725222, \"hour\": 54}, {\"rmse\": 7.019833324692716, \"hour\": 55}, {\"rmse\": 6.674170095685753, \"hour\": 56}, {\"rmse\": 6.575085095581625, \"hour\": 57}, {\"rmse\": 6.695702434097526, \"hour\": 58}, {\"rmse\": 6.318956937960725, \"hour\": 59}, {\"rmse\": 5.664347079061689, \"hour\": 60}, {\"rmse\": 5.04348497726915, \"hour\": 61}, {\"rmse\": 5.599884784099968, \"hour\": 62}, {\"rmse\": 4.265384891322973, \"hour\": 63}, {\"rmse\": 2.5636216796165865, \"hour\": 64}, {\"rmse\": 3.0796335203295357, \"hour\": 65}, {\"rmse\": 3.0131526252287415, \"hour\": 66}, {\"rmse\": 2.8138314402774327, \"hour\": 67}, {\"rmse\": 3.0341123521063516, \"hour\": 68}, {\"rmse\": 2.9911219233325763, \"hour\": 69}, {\"rmse\": 3.17518123346498, \"hour\": 70}, {\"rmse\": 3.0424029751372883, \"hour\": 71}], \"data-b9dd60dc560f7891b967d8e82c37ad0c\": [{\"Component\": 24}, {\"Component\": 48}, {\"Component\": 72}]}}, {\"mode\": \"vega-lite\"});\n",
       "</script>"
      ],
      "text/plain": [
       "alt.LayerChart(...)"
      ]
     },
     "execution_count": 11,
     "metadata": {},
     "output_type": "execute_result"
    }
   ],
   "source": [
    "plotrmse(Spr_rmse_zonal,'rmse',\"RMSE plot of Zonal in Spring\",\"sample size:\" +  str(Spr[\"zonal_dif\"].count()))"
   ]
  },
  {
   "cell_type": "code",
   "execution_count": 12,
   "id": "aeacd44f-b6d5-4a8f-8e1a-0f9d556fd263",
   "metadata": {},
   "outputs": [
    {
     "data": {
      "text/html": [
       "\n",
       "<div id=\"altair-viz-1ce2739bcb9c44118c543a861b78d1d4\"></div>\n",
       "<script type=\"text/javascript\">\n",
       "  var VEGA_DEBUG = (typeof VEGA_DEBUG == \"undefined\") ? {} : VEGA_DEBUG;\n",
       "  (function(spec, embedOpt){\n",
       "    let outputDiv = document.currentScript.previousElementSibling;\n",
       "    if (outputDiv.id !== \"altair-viz-1ce2739bcb9c44118c543a861b78d1d4\") {\n",
       "      outputDiv = document.getElementById(\"altair-viz-1ce2739bcb9c44118c543a861b78d1d4\");\n",
       "    }\n",
       "    const paths = {\n",
       "      \"vega\": \"https://cdn.jsdelivr.net/npm//vega@5?noext\",\n",
       "      \"vega-lib\": \"https://cdn.jsdelivr.net/npm//vega-lib?noext\",\n",
       "      \"vega-lite\": \"https://cdn.jsdelivr.net/npm//vega-lite@4.17.0?noext\",\n",
       "      \"vega-embed\": \"https://cdn.jsdelivr.net/npm//vega-embed@6?noext\",\n",
       "    };\n",
       "\n",
       "    function maybeLoadScript(lib, version) {\n",
       "      var key = `${lib.replace(\"-\", \"\")}_version`;\n",
       "      return (VEGA_DEBUG[key] == version) ?\n",
       "        Promise.resolve(paths[lib]) :\n",
       "        new Promise(function(resolve, reject) {\n",
       "          var s = document.createElement('script');\n",
       "          document.getElementsByTagName(\"head\")[0].appendChild(s);\n",
       "          s.async = true;\n",
       "          s.onload = () => {\n",
       "            VEGA_DEBUG[key] = version;\n",
       "            return resolve(paths[lib]);\n",
       "          };\n",
       "          s.onerror = () => reject(`Error loading script: ${paths[lib]}`);\n",
       "          s.src = paths[lib];\n",
       "        });\n",
       "    }\n",
       "\n",
       "    function showError(err) {\n",
       "      outputDiv.innerHTML = `<div class=\"error\" style=\"color:red;\">${err}</div>`;\n",
       "      throw err;\n",
       "    }\n",
       "\n",
       "    function displayChart(vegaEmbed) {\n",
       "      vegaEmbed(outputDiv, spec, embedOpt)\n",
       "        .catch(err => showError(`Javascript Error: ${err.message}<br>This usually means there's a typo in your chart specification. See the javascript console for the full traceback.`));\n",
       "    }\n",
       "\n",
       "    if(typeof define === \"function\" && define.amd) {\n",
       "      requirejs.config({paths});\n",
       "      require([\"vega-embed\"], displayChart, err => showError(`Error loading script: ${err.message}`));\n",
       "    } else {\n",
       "      maybeLoadScript(\"vega\", \"5\")\n",
       "        .then(() => maybeLoadScript(\"vega-lite\", \"4.17.0\"))\n",
       "        .then(() => maybeLoadScript(\"vega-embed\", \"6\"))\n",
       "        .catch(showError)\n",
       "        .then(() => displayChart(vegaEmbed));\n",
       "    }\n",
       "  })({\"config\": {\"view\": {\"continuousWidth\": 400, \"continuousHeight\": 300}}, \"layer\": [{\"data\": {\"name\": \"data-e4b7fc1fb5b7b804c6c8b3f2da06a22c\"}, \"mark\": \"line\", \"encoding\": {\"color\": {\"value\": \"#FFAA00\"}, \"x\": {\"field\": \"hour\", \"type\": \"quantitative\"}, \"y\": {\"field\": \"rmse\", \"type\": \"quantitative\"}}, \"height\": 300, \"title\": {\"text\": [\"RMSE plot of Meridional in Spring\"], \"subtitle\": [\"sample size:14553\"], \"color\": \"green\"}, \"width\": 800}, {\"data\": {\"name\": \"data-b9dd60dc560f7891b967d8e82c37ad0c\"}, \"mark\": {\"type\": \"rule\", \"color\": \"#D2386C\"}, \"encoding\": {\"x\": {\"field\": \"Component\", \"type\": \"quantitative\"}}}], \"$schema\": \"https://vega.github.io/schema/vega-lite/v4.17.0.json\", \"datasets\": {\"data-e4b7fc1fb5b7b804c6c8b3f2da06a22c\": [{\"rmse\": 3.093323688581352, \"hour\": 0}, {\"rmse\": 3.6579865599467642, \"hour\": 1}, {\"rmse\": 6.204729113714258, \"hour\": 2}, {\"rmse\": 6.442344293718664, \"hour\": 3}, {\"rmse\": 6.477841984898999, \"hour\": 4}, {\"rmse\": 6.0173861748996, \"hour\": 5}, {\"rmse\": 6.777951232027666, \"hour\": 6}, {\"rmse\": 7.700676010687805, \"hour\": 7}, {\"rmse\": 6.751678883406737, \"hour\": 8}, {\"rmse\": 6.660188110207637, \"hour\": 9}, {\"rmse\": 6.670646711915258, \"hour\": 10}, {\"rmse\": 6.277206148723173, \"hour\": 11}, {\"rmse\": 5.6649689200262205, \"hour\": 12}, {\"rmse\": 4.76948871779854, \"hour\": 13}, {\"rmse\": 4.9103661090273, \"hour\": 14}, {\"rmse\": 3.6237956472536923, \"hour\": 15}, {\"rmse\": 2.7040824658353544, \"hour\": 16}, {\"rmse\": 2.788224864232723, \"hour\": 17}, {\"rmse\": 3.117861267127352, \"hour\": 18}, {\"rmse\": 2.7433718242203855, \"hour\": 19}, {\"rmse\": 2.9645137609590018, \"hour\": 20}, {\"rmse\": 3.0031956299522236, \"hour\": 21}, {\"rmse\": 3.424463042812165, \"hour\": 22}, {\"rmse\": 3.5609004049162465, \"hour\": 23}, {\"rmse\": 3.7680024647236308, \"hour\": 24}, {\"rmse\": 4.064353568567975, \"hour\": 25}, {\"rmse\": 5.757340203710606, \"hour\": 26}, {\"rmse\": 6.57322315085797, \"hour\": 27}, {\"rmse\": 7.393804013332543, \"hour\": 28}, {\"rmse\": 6.421612856985941, \"hour\": 29}, {\"rmse\": 6.652586827932037, \"hour\": 30}, {\"rmse\": 7.144572826995178, \"hour\": 31}, {\"rmse\": 7.500152317928113, \"hour\": 32}, {\"rmse\": 7.002958589500795, \"hour\": 33}, {\"rmse\": 6.548510911048289, \"hour\": 34}, {\"rmse\": 6.337640337372264, \"hour\": 35}, {\"rmse\": 6.60169236810092, \"hour\": 36}, {\"rmse\": 4.972621995189659, \"hour\": 37}, {\"rmse\": 5.263225032415193, \"hour\": 38}, {\"rmse\": 4.242281322418554, \"hour\": 39}, {\"rmse\": 2.4931172946616273, \"hour\": 40}, {\"rmse\": 2.6904744641582226, \"hour\": 41}, {\"rmse\": 2.962772089488121, \"hour\": 42}, {\"rmse\": 2.678943569004652, \"hour\": 43}, {\"rmse\": 3.2671281812433506, \"hour\": 44}, {\"rmse\": 3.040054242499444, \"hour\": 45}, {\"rmse\": 3.21858642712715, \"hour\": 46}, {\"rmse\": 3.1436116397491447, \"hour\": 47}, {\"rmse\": 3.3560908210077, \"hour\": 48}, {\"rmse\": 4.2660397980183635, \"hour\": 49}, {\"rmse\": 6.554691052264861, \"hour\": 50}, {\"rmse\": 6.051629824367384, \"hour\": 51}, {\"rmse\": 5.91595755576966, \"hour\": 52}, {\"rmse\": 6.698386109659291, \"hour\": 53}, {\"rmse\": 6.906640098725222, \"hour\": 54}, {\"rmse\": 7.019833324692716, \"hour\": 55}, {\"rmse\": 6.674170095685753, \"hour\": 56}, {\"rmse\": 6.575085095581625, \"hour\": 57}, {\"rmse\": 6.695702434097526, \"hour\": 58}, {\"rmse\": 6.318956937960725, \"hour\": 59}, {\"rmse\": 5.664347079061689, \"hour\": 60}, {\"rmse\": 5.04348497726915, \"hour\": 61}, {\"rmse\": 5.599884784099968, \"hour\": 62}, {\"rmse\": 4.265384891322973, \"hour\": 63}, {\"rmse\": 2.5636216796165865, \"hour\": 64}, {\"rmse\": 3.0796335203295357, \"hour\": 65}, {\"rmse\": 3.0131526252287415, \"hour\": 66}, {\"rmse\": 2.8138314402774327, \"hour\": 67}, {\"rmse\": 3.0341123521063516, \"hour\": 68}, {\"rmse\": 2.9911219233325763, \"hour\": 69}, {\"rmse\": 3.17518123346498, \"hour\": 70}, {\"rmse\": 3.0424029751372883, \"hour\": 71}], \"data-b9dd60dc560f7891b967d8e82c37ad0c\": [{\"Component\": 24}, {\"Component\": 48}, {\"Component\": 72}]}}, {\"mode\": \"vega-lite\"});\n",
       "</script>"
      ],
      "text/plain": [
       "alt.LayerChart(...)"
      ]
     },
     "execution_count": 12,
     "metadata": {},
     "output_type": "execute_result"
    }
   ],
   "source": [
    "plotrmse(Spr_rmse_meridional,'rmse',\"RMSE plot of Meridional in Spring\",\"sample size:\" +  str(Spr[\"meridional_dif\"].count()))"
   ]
  },
  {
   "cell_type": "markdown",
   "id": "4df378be-2c3c-4ad7-a9f3-2dafc3ee9126",
   "metadata": {},
   "source": [
    "<br>\n",
    "\n",
    "#### MB:\n",
    "1. Calcualte $(mod-obs)$\n",
    "2. Group by hour and sum up $(mod-obs)$\n",
    "3. Divide the sum by n"
   ]
  },
  {
   "cell_type": "code",
   "execution_count": 13,
   "id": "f6e44907-7e4a-4278-aaf7-0cef509203d3",
   "metadata": {},
   "outputs": [],
   "source": [
    "# 1. Calculate the difference\n",
    "Spr[\"zonal_dif\"] = Spr[\"modzonal\"] - Spr[\"obszonal\"]\n",
    "Spr[\"meridional_dif\"] = Spr[\"modmeridional\"] - Spr[\"obsmeridional\"]"
   ]
  },
  {
   "cell_type": "code",
   "execution_count": 14,
   "id": "6845c0bf-5222-4f5d-8683-27ca5d36d754",
   "metadata": {},
   "outputs": [],
   "source": [
    "# 2. Group by hour and sum\n",
    "Spr_sum_zonal = Spr.groupby(\"hour\")[\"zonal_dif\"].sum()\n",
    "Spr_sum_meridional = Spr.groupby(\"hour\")[\"meridional_dif\"].sum()"
   ]
  },
  {
   "cell_type": "code",
   "execution_count": 15,
   "id": "cd207a54-a610-4484-8f58-72ce60d936cd",
   "metadata": {},
   "outputs": [],
   "source": [
    "# 3. Divide the sums by n and take square root, calculate rmse and make it a dataframe\n",
    "count = Spr.groupby(\"hour\").count()\n",
    "\n",
    "# First, write a function to calculate rmse and return rmse\n",
    "def mb(data,count):\n",
    "    mb = []\n",
    "    for i in range(len(data)):\n",
    "        mb.append(data[i]/count[i])\n",
    "    mb = pd.DataFrame(mb,columns = ['mb'])\n",
    "    mb['hour'] = range(0,72)\n",
    "    return mb\n",
    "\n",
    "# Now we calculate rmse for each variable\n",
    "Spr_mb_zonal = mb(Spr_sum_zonal,count[\"obszonal\"])\n",
    "Spr_mb_meridional = mb(Spr_sum_meridional,count[\"obsmeridional\"])"
   ]
  },
  {
   "cell_type": "markdown",
   "id": "b64289fa-569a-45dd-991b-6f36c99c28e0",
   "metadata": {},
   "source": [
    "#### Plotting"
   ]
  },
  {
   "cell_type": "code",
   "execution_count": 16,
   "id": "e66771f8-2e69-4a08-94df-4245ddd1aaff",
   "metadata": {},
   "outputs": [
    {
     "data": {
      "text/html": [
       "\n",
       "<div id=\"altair-viz-6e80bcc3991a4167b02652c08250a68d\"></div>\n",
       "<script type=\"text/javascript\">\n",
       "  var VEGA_DEBUG = (typeof VEGA_DEBUG == \"undefined\") ? {} : VEGA_DEBUG;\n",
       "  (function(spec, embedOpt){\n",
       "    let outputDiv = document.currentScript.previousElementSibling;\n",
       "    if (outputDiv.id !== \"altair-viz-6e80bcc3991a4167b02652c08250a68d\") {\n",
       "      outputDiv = document.getElementById(\"altair-viz-6e80bcc3991a4167b02652c08250a68d\");\n",
       "    }\n",
       "    const paths = {\n",
       "      \"vega\": \"https://cdn.jsdelivr.net/npm//vega@5?noext\",\n",
       "      \"vega-lib\": \"https://cdn.jsdelivr.net/npm//vega-lib?noext\",\n",
       "      \"vega-lite\": \"https://cdn.jsdelivr.net/npm//vega-lite@4.17.0?noext\",\n",
       "      \"vega-embed\": \"https://cdn.jsdelivr.net/npm//vega-embed@6?noext\",\n",
       "    };\n",
       "\n",
       "    function maybeLoadScript(lib, version) {\n",
       "      var key = `${lib.replace(\"-\", \"\")}_version`;\n",
       "      return (VEGA_DEBUG[key] == version) ?\n",
       "        Promise.resolve(paths[lib]) :\n",
       "        new Promise(function(resolve, reject) {\n",
       "          var s = document.createElement('script');\n",
       "          document.getElementsByTagName(\"head\")[0].appendChild(s);\n",
       "          s.async = true;\n",
       "          s.onload = () => {\n",
       "            VEGA_DEBUG[key] = version;\n",
       "            return resolve(paths[lib]);\n",
       "          };\n",
       "          s.onerror = () => reject(`Error loading script: ${paths[lib]}`);\n",
       "          s.src = paths[lib];\n",
       "        });\n",
       "    }\n",
       "\n",
       "    function showError(err) {\n",
       "      outputDiv.innerHTML = `<div class=\"error\" style=\"color:red;\">${err}</div>`;\n",
       "      throw err;\n",
       "    }\n",
       "\n",
       "    function displayChart(vegaEmbed) {\n",
       "      vegaEmbed(outputDiv, spec, embedOpt)\n",
       "        .catch(err => showError(`Javascript Error: ${err.message}<br>This usually means there's a typo in your chart specification. See the javascript console for the full traceback.`));\n",
       "    }\n",
       "\n",
       "    if(typeof define === \"function\" && define.amd) {\n",
       "      requirejs.config({paths});\n",
       "      require([\"vega-embed\"], displayChart, err => showError(`Error loading script: ${err.message}`));\n",
       "    } else {\n",
       "      maybeLoadScript(\"vega\", \"5\")\n",
       "        .then(() => maybeLoadScript(\"vega-lite\", \"4.17.0\"))\n",
       "        .then(() => maybeLoadScript(\"vega-embed\", \"6\"))\n",
       "        .catch(showError)\n",
       "        .then(() => displayChart(vegaEmbed));\n",
       "    }\n",
       "  })({\"config\": {\"view\": {\"continuousWidth\": 400, \"continuousHeight\": 300}}, \"layer\": [{\"data\": {\"name\": \"data-e798aec15455f677ad43f74711225378\"}, \"mark\": \"line\", \"encoding\": {\"color\": {\"value\": \"#FFAA00\"}, \"x\": {\"field\": \"hour\", \"type\": \"quantitative\"}, \"y\": {\"field\": \"mb\", \"type\": \"quantitative\"}}, \"height\": 300, \"title\": {\"text\": [\"Mean Bias plot of Zonal in Spring\"], \"subtitle\": [\"sample size:14553\"], \"color\": \"green\"}, \"width\": 800}, {\"data\": {\"name\": \"data-b9dd60dc560f7891b967d8e82c37ad0c\"}, \"mark\": {\"type\": \"rule\", \"color\": \"#D2386C\"}, \"encoding\": {\"x\": {\"field\": \"Component\", \"type\": \"quantitative\"}}}], \"$schema\": \"https://vega.github.io/schema/vega-lite/v4.17.0.json\", \"datasets\": {\"data-e798aec15455f677ad43f74711225378\": [{\"mb\": -0.01014473293339836, \"hour\": 0}, {\"mb\": -0.23368225127788164, \"hour\": 1}, {\"mb\": 0.8310501710388668, \"hour\": 2}, {\"mb\": -0.6474969946364895, \"hour\": 3}, {\"mb\": 0.7145910874906224, \"hour\": 4}, {\"mb\": 0.14144340913708378, \"hour\": 5}, {\"mb\": 0.07064534902323573, \"hour\": 6}, {\"mb\": -0.3164141506700611, \"hour\": 7}, {\"mb\": 0.06897550941757648, \"hour\": 8}, {\"mb\": -0.816860512884825, \"hour\": 9}, {\"mb\": -0.5431504703585744, \"hour\": 10}, {\"mb\": -0.11136142026796253, \"hour\": 11}, {\"mb\": 0.5026754748410894, \"hour\": 12}, {\"mb\": -0.24623364604680978, \"hour\": 13}, {\"mb\": -0.12705440861896872, \"hour\": 14}, {\"mb\": 0.08344488821194862, \"hour\": 15}, {\"mb\": 0.04553146518521787, \"hour\": 16}, {\"mb\": 0.21294244617912456, \"hour\": 17}, {\"mb\": 0.016076050512535217, \"hour\": 18}, {\"mb\": 0.07435897355107744, \"hour\": 19}, {\"mb\": -0.005991522249621046, \"hour\": 20}, {\"mb\": 0.08883649316801015, \"hour\": 21}, {\"mb\": 0.703759432302103, \"hour\": 22}, {\"mb\": -0.2752110636717071, \"hour\": 23}, {\"mb\": -0.0035675095750894495, \"hour\": 24}, {\"mb\": 0.06498558934341675, \"hour\": 25}, {\"mb\": -0.059909985368604035, \"hour\": 26}, {\"mb\": -0.11384467151840258, \"hour\": 27}, {\"mb\": 0.15663393107851256, \"hour\": 28}, {\"mb\": -0.08935852667272232, \"hour\": 29}, {\"mb\": -0.6696103707511079, \"hour\": 30}, {\"mb\": -0.5330798881062174, \"hour\": 31}, {\"mb\": -0.16433108386333006, \"hour\": 32}, {\"mb\": -0.37954964115685724, \"hour\": 33}, {\"mb\": -0.32529406326841404, \"hour\": 34}, {\"mb\": 0.06433322500760114, \"hour\": 35}, {\"mb\": -0.027252922286086567, \"hour\": 36}, {\"mb\": -0.11614426657249981, \"hour\": 37}, {\"mb\": 0.2432575077417398, \"hour\": 38}, {\"mb\": -0.46077957029280703, \"hour\": 39}, {\"mb\": -0.14725700543823966, \"hour\": 40}, {\"mb\": 0.021493025279254434, \"hour\": 41}, {\"mb\": 0.34604756146103977, \"hour\": 42}, {\"mb\": 0.19448456455105936, \"hour\": 43}, {\"mb\": -0.06237990325968593, \"hour\": 44}, {\"mb\": -0.01292742323799989, \"hour\": 45}, {\"mb\": 0.6304721517618901, \"hour\": 46}, {\"mb\": -0.26874044039848155, \"hour\": 47}, {\"mb\": 0.13819984009926664, \"hour\": 48}, {\"mb\": -0.12583035910691454, \"hour\": 49}, {\"mb\": 0.7342226103271613, \"hour\": 50}, {\"mb\": 0.0008316564456407342, \"hour\": 51}, {\"mb\": 0.23147614079667544, \"hour\": 52}, {\"mb\": 0.18239532432436276, \"hour\": 53}, {\"mb\": 0.0676854041578316, \"hour\": 54}, {\"mb\": -0.0265824325373399, \"hour\": 55}, {\"mb\": 0.5117012293451827, \"hour\": 56}, {\"mb\": -0.35310432935272457, \"hour\": 57}, {\"mb\": -0.5666146173669137, \"hour\": 58}, {\"mb\": 0.2218105042829568, \"hour\": 59}, {\"mb\": 0.358242644689477, \"hour\": 60}, {\"mb\": -0.7465138184661244, \"hour\": 61}, {\"mb\": 0.011117264092399248, \"hour\": 62}, {\"mb\": 0.11248162384531829, \"hour\": 63}, {\"mb\": -0.11250126583065659, \"hour\": 64}, {\"mb\": 0.005191928728565707, \"hour\": 65}, {\"mb\": -0.04099107513664436, \"hour\": 66}, {\"mb\": 0.14299176055678953, \"hour\": 67}, {\"mb\": -0.00032745175630630267, \"hour\": 68}, {\"mb\": -0.006959598020896291, \"hour\": 69}, {\"mb\": 0.3009188599457882, \"hour\": 70}, {\"mb\": -0.3455049755236812, \"hour\": 71}], \"data-b9dd60dc560f7891b967d8e82c37ad0c\": [{\"Component\": 24}, {\"Component\": 48}, {\"Component\": 72}]}}, {\"mode\": \"vega-lite\"});\n",
       "</script>"
      ],
      "text/plain": [
       "alt.LayerChart(...)"
      ]
     },
     "execution_count": 16,
     "metadata": {},
     "output_type": "execute_result"
    }
   ],
   "source": [
    "plotrmse(Spr_mb_zonal,'mb',\"Mean Bias plot of Zonal in Spring\",\"sample size:\" +  str(Spr[\"zonal_dif\"].count()))"
   ]
  },
  {
   "cell_type": "code",
   "execution_count": 17,
   "id": "cca3ac5e-da46-4a67-af1c-52e430437634",
   "metadata": {},
   "outputs": [
    {
     "data": {
      "text/html": [
       "\n",
       "<div id=\"altair-viz-bf669395f43f41418db0a6c4d0c7842a\"></div>\n",
       "<script type=\"text/javascript\">\n",
       "  var VEGA_DEBUG = (typeof VEGA_DEBUG == \"undefined\") ? {} : VEGA_DEBUG;\n",
       "  (function(spec, embedOpt){\n",
       "    let outputDiv = document.currentScript.previousElementSibling;\n",
       "    if (outputDiv.id !== \"altair-viz-bf669395f43f41418db0a6c4d0c7842a\") {\n",
       "      outputDiv = document.getElementById(\"altair-viz-bf669395f43f41418db0a6c4d0c7842a\");\n",
       "    }\n",
       "    const paths = {\n",
       "      \"vega\": \"https://cdn.jsdelivr.net/npm//vega@5?noext\",\n",
       "      \"vega-lib\": \"https://cdn.jsdelivr.net/npm//vega-lib?noext\",\n",
       "      \"vega-lite\": \"https://cdn.jsdelivr.net/npm//vega-lite@4.17.0?noext\",\n",
       "      \"vega-embed\": \"https://cdn.jsdelivr.net/npm//vega-embed@6?noext\",\n",
       "    };\n",
       "\n",
       "    function maybeLoadScript(lib, version) {\n",
       "      var key = `${lib.replace(\"-\", \"\")}_version`;\n",
       "      return (VEGA_DEBUG[key] == version) ?\n",
       "        Promise.resolve(paths[lib]) :\n",
       "        new Promise(function(resolve, reject) {\n",
       "          var s = document.createElement('script');\n",
       "          document.getElementsByTagName(\"head\")[0].appendChild(s);\n",
       "          s.async = true;\n",
       "          s.onload = () => {\n",
       "            VEGA_DEBUG[key] = version;\n",
       "            return resolve(paths[lib]);\n",
       "          };\n",
       "          s.onerror = () => reject(`Error loading script: ${paths[lib]}`);\n",
       "          s.src = paths[lib];\n",
       "        });\n",
       "    }\n",
       "\n",
       "    function showError(err) {\n",
       "      outputDiv.innerHTML = `<div class=\"error\" style=\"color:red;\">${err}</div>`;\n",
       "      throw err;\n",
       "    }\n",
       "\n",
       "    function displayChart(vegaEmbed) {\n",
       "      vegaEmbed(outputDiv, spec, embedOpt)\n",
       "        .catch(err => showError(`Javascript Error: ${err.message}<br>This usually means there's a typo in your chart specification. See the javascript console for the full traceback.`));\n",
       "    }\n",
       "\n",
       "    if(typeof define === \"function\" && define.amd) {\n",
       "      requirejs.config({paths});\n",
       "      require([\"vega-embed\"], displayChart, err => showError(`Error loading script: ${err.message}`));\n",
       "    } else {\n",
       "      maybeLoadScript(\"vega\", \"5\")\n",
       "        .then(() => maybeLoadScript(\"vega-lite\", \"4.17.0\"))\n",
       "        .then(() => maybeLoadScript(\"vega-embed\", \"6\"))\n",
       "        .catch(showError)\n",
       "        .then(() => displayChart(vegaEmbed));\n",
       "    }\n",
       "  })({\"config\": {\"view\": {\"continuousWidth\": 400, \"continuousHeight\": 300}}, \"layer\": [{\"data\": {\"name\": \"data-5abbe9d3033f3758b9fc53e336383a04\"}, \"mark\": \"line\", \"encoding\": {\"color\": {\"value\": \"#FFAA00\"}, \"x\": {\"field\": \"hour\", \"type\": \"quantitative\"}, \"y\": {\"field\": \"mb\", \"type\": \"quantitative\"}}, \"height\": 300, \"title\": {\"text\": [\"Mean Bias plot of Meridional in Spring\"], \"subtitle\": [\"sample size:14553\"], \"color\": \"green\"}, \"width\": 800}, {\"data\": {\"name\": \"data-b9dd60dc560f7891b967d8e82c37ad0c\"}, \"mark\": {\"type\": \"rule\", \"color\": \"#D2386C\"}, \"encoding\": {\"x\": {\"field\": \"Component\", \"type\": \"quantitative\"}}}], \"$schema\": \"https://vega.github.io/schema/vega-lite/v4.17.0.json\", \"datasets\": {\"data-5abbe9d3033f3758b9fc53e336383a04\": [{\"mb\": -0.05562694348388448, \"hour\": 0}, {\"mb\": -0.007229135088482293, \"hour\": 1}, {\"mb\": -0.11805732371061955, \"hour\": 2}, {\"mb\": 0.3358747790531935, \"hour\": 3}, {\"mb\": 0.6419739227247885, \"hour\": 4}, {\"mb\": -0.5677410595370502, \"hour\": 5}, {\"mb\": -1.105695126013655, \"hour\": 6}, {\"mb\": -0.22065014238446115, \"hour\": 7}, {\"mb\": 0.2092688181925031, \"hour\": 8}, {\"mb\": -0.04049118607095322, \"hour\": 9}, {\"mb\": 0.5000414009474508, \"hour\": 10}, {\"mb\": 0.27666850154206435, \"hour\": 11}, {\"mb\": -0.2804057157149981, \"hour\": 12}, {\"mb\": -0.1667367996919412, \"hour\": 13}, {\"mb\": 0.18629991314776745, \"hour\": 14}, {\"mb\": 0.0934801463566009, \"hour\": 15}, {\"mb\": 0.008508010499462705, \"hour\": 16}, {\"mb\": -0.039868440600787404, \"hour\": 17}, {\"mb\": 0.20977650024386174, \"hour\": 18}, {\"mb\": 0.2209747977681302, \"hour\": 19}, {\"mb\": 0.35386222489830077, \"hour\": 20}, {\"mb\": 0.1178286534569755, \"hour\": 21}, {\"mb\": 0.2789172605247392, \"hour\": 22}, {\"mb\": -0.1531069764337779, \"hour\": 23}, {\"mb\": 0.03702853713285738, \"hour\": 24}, {\"mb\": -0.2859542798922747, \"hour\": 25}, {\"mb\": -0.1090245561539573, \"hour\": 26}, {\"mb\": 0.46283158759394366, \"hour\": 27}, {\"mb\": 0.29845369845898173, \"hour\": 28}, {\"mb\": -1.1763033160405019, \"hour\": 29}, {\"mb\": -0.3035232926379117, \"hour\": 30}, {\"mb\": 0.6953313564934376, \"hour\": 31}, {\"mb\": 0.04158412757347254, \"hour\": 32}, {\"mb\": 0.20647439038652202, \"hour\": 33}, {\"mb\": 0.3801038647666971, \"hour\": 34}, {\"mb\": 0.4641777762437099, \"hour\": 35}, {\"mb\": -0.08250374934424784, \"hour\": 36}, {\"mb\": -0.15411114796623157, \"hour\": 37}, {\"mb\": 0.016045164773744534, \"hour\": 38}, {\"mb\": -0.20288251637444354, \"hour\": 39}, {\"mb\": 0.1271217862808416, \"hour\": 40}, {\"mb\": -0.01829428509367445, \"hour\": 41}, {\"mb\": 0.19828716503092808, \"hour\": 42}, {\"mb\": 0.15081569292669, \"hour\": 43}, {\"mb\": 0.3347962278391988, \"hour\": 44}, {\"mb\": 0.06859546789553661, \"hour\": 45}, {\"mb\": 0.019654083675530228, \"hour\": 46}, {\"mb\": -0.28030053458138066, \"hour\": 47}, {\"mb\": -0.07126439640583464, \"hour\": 48}, {\"mb\": -0.02396163725844476, \"hour\": 49}, {\"mb\": -0.13581743897824444, \"hour\": 50}, {\"mb\": 0.41227046300422726, \"hour\": 51}, {\"mb\": -0.16806730121709557, \"hour\": 52}, {\"mb\": -0.9532329222600276, \"hour\": 53}, {\"mb\": -0.24768759011040886, \"hour\": 54}, {\"mb\": -0.26718359295786254, \"hour\": 55}, {\"mb\": 0.3198566924304143, \"hour\": 56}, {\"mb\": -0.04272663596399113, \"hour\": 57}, {\"mb\": 0.4082173718918228, \"hour\": 58}, {\"mb\": 0.25292261179534364, \"hour\": 59}, {\"mb\": 0.37465923811175544, \"hour\": 60}, {\"mb\": 0.13420375054753805, \"hour\": 61}, {\"mb\": 0.05293013290678737, \"hour\": 62}, {\"mb\": -0.14042388596242988, \"hour\": 63}, {\"mb\": -0.15161169275753877, \"hour\": 64}, {\"mb\": -0.2969379960677431, \"hour\": 65}, {\"mb\": 0.24574527390332507, \"hour\": 66}, {\"mb\": 0.21936992089866997, \"hour\": 67}, {\"mb\": 0.410382937544359, \"hour\": 68}, {\"mb\": 0.41148422209024044, \"hour\": 69}, {\"mb\": 0.060867730137290854, \"hour\": 70}, {\"mb\": -0.4703774090370435, \"hour\": 71}], \"data-b9dd60dc560f7891b967d8e82c37ad0c\": [{\"Component\": 24}, {\"Component\": 48}, {\"Component\": 72}]}}, {\"mode\": \"vega-lite\"});\n",
       "</script>"
      ],
      "text/plain": [
       "alt.LayerChart(...)"
      ]
     },
     "execution_count": 17,
     "metadata": {},
     "output_type": "execute_result"
    }
   ],
   "source": [
    "plotrmse(Spr_mb_meridional,'mb',\"Mean Bias plot of Meridional in Spring\",\"sample size:\" +  str(Spr[\"meridional_dif\"].count()))"
   ]
  },
  {
   "cell_type": "markdown",
   "id": "49baa1c0-06d1-4235-bb34-811bdaa279e0",
   "metadata": {},
   "source": [
    "<br>\n",
    "\n",
    "#### Correlation:\n",
    "1. Create a matrix with:\n",
    "$$\\begin{bmatrix} [mod0h] & [mod1h] & ... & [mod84h] \\\\ [obs0h] & [obs1h] & ... & [obs84h] \\end{bmatrix}$$\n",
    "where [mod0h] contains a list of all values from 0h\n",
    "* Note: If the list contains None type value, then the correlation will be None. Therefore, we need to remove the null value in a list and also remove the corresponding obs/mod value. We can write a function to do so:\n",
    "2. Calculate correlation function between mod_nh and obs_nh"
   ]
  },
  {
   "cell_type": "code",
   "execution_count": 18,
   "id": "652b3a8a-fa51-49f0-9db2-716378d8da90",
   "metadata": {},
   "outputs": [],
   "source": [
    "# 1. Define a function which create lists with all values of that hour, also removing null values\n",
    "def create_list(Season,var):\n",
    "    return Season.groupby(\"hour\")[var].apply(lambda x: x.tolist())\n",
    "\n",
    "# Calculate the list\n",
    "modzonal_list = create_list(Spr,\"modzonal\")\n",
    "obszonal_list = create_list(Spr,\"obszonal\")\n",
    "modmeridional_list = create_list(Spr,\"modmeridional\")\n",
    "obsmeridional_list = create_list(Spr,\"obsmeridional\")"
   ]
  },
  {
   "cell_type": "code",
   "execution_count": 19,
   "id": "3ee6c028-2a5c-4d2f-aed5-8dac5845853f",
   "metadata": {},
   "outputs": [],
   "source": [
    "# 2. Since there are NaN for each list, we need to remove nan value and the corresponding index, \n",
    "# we first record the index of the missing value and remove i\n",
    "def index(modlist,obslist):\n",
    "    # Get the index matrix\n",
    "    index = [[] for _ in range(len(modlist))]\n",
    "    for i in range(len(modlist)):\n",
    "        for j in range(len(modlist[i])):\n",
    "            if pd.isna(modlist[i][j]) or pd.isna(obslist[i][j]):\n",
    "                index[i].append(j)\n",
    "    return index"
   ]
  },
  {
   "cell_type": "code",
   "execution_count": 20,
   "id": "9e70813d-a55a-490d-879e-1763290517d7",
   "metadata": {},
   "outputs": [],
   "source": [
    "# 3. Remove the corresponding value from the index\n",
    "def removeNan(index,modlist,obslist):\n",
    "    update_mod = [[] for _ in range(len(modlist))]\n",
    "    update_obs = [[] for _ in range(len(obslist))]\n",
    "    \n",
    "    for i in range(len(modlist)):\n",
    "        for j in range(len(modlist[i])):\n",
    "            if j not in index[i]:\n",
    "                update_mod[i].append(modlist[i][j])\n",
    "                update_obs[i].append(obslist[i][j])\n",
    "    return update_mod,update_obs"
   ]
  },
  {
   "cell_type": "code",
   "execution_count": 21,
   "id": "575da2be-cf65-4e59-a759-2fe00e88c077",
   "metadata": {},
   "outputs": [],
   "source": [
    "up_modzonal_list,up_obszonal_list = removeNan(index(modzonal_list,obszonal_list),modzonal_list,obszonal_list)\n",
    "up_modmeridional_list,up_obsmeridional_list = removeNan(index(modmeridional_list,obsmeridional_list),modmeridional_list,obsmeridional_list)"
   ]
  },
  {
   "cell_type": "code",
   "execution_count": 22,
   "id": "3c74ca99-bea7-40f3-bd8d-151b052115ef",
   "metadata": {},
   "outputs": [],
   "source": [
    "# 4. Create a function to calculate correlation and create a list\n",
    "def correlation(modlist,obslist):\n",
    "    correlation = []\n",
    "    for i in range(len(modlist)):\n",
    "        correlation.append(np.corrcoef(modlist[i],obslist[i])[0][1])\n",
    "        \n",
    "    # Turn into dataframe\n",
    "    correlation = pd.DataFrame(correlation,columns = ['corr'])\n",
    "    correlation['hour'] = range(0,72)\n",
    "    return correlation"
   ]
  },
  {
   "cell_type": "code",
   "execution_count": 23,
   "id": "f351e08f-3b98-481b-a1a8-aea2f0b8d3c9",
   "metadata": {},
   "outputs": [],
   "source": [
    "corr_zonal = correlation(up_modzonal_list,up_obszonal_list)\n",
    "corr_meridional = correlation(up_modmeridional_list,up_obsmeridional_list)"
   ]
  },
  {
   "cell_type": "code",
   "execution_count": 24,
   "id": "58343128-b3d4-47a4-a0a5-7bd6d2f448e6",
   "metadata": {},
   "outputs": [],
   "source": [
    "# 5. Create a function to calculate the sample size\n",
    "def size(Alist):\n",
    "    return sum(len(element) for element in Alist)"
   ]
  },
  {
   "cell_type": "markdown",
   "id": "f09a47b4-62b8-4155-a3a1-3bf7092d961e",
   "metadata": {},
   "source": [
    "#### Plotting"
   ]
  },
  {
   "cell_type": "code",
   "execution_count": 25,
   "id": "2b0107bb-4ba1-404e-964b-3f87124fd035",
   "metadata": {},
   "outputs": [
    {
     "data": {
      "text/html": [
       "\n",
       "<div id=\"altair-viz-fa1cddbd39e64ea8830717f508721de8\"></div>\n",
       "<script type=\"text/javascript\">\n",
       "  var VEGA_DEBUG = (typeof VEGA_DEBUG == \"undefined\") ? {} : VEGA_DEBUG;\n",
       "  (function(spec, embedOpt){\n",
       "    let outputDiv = document.currentScript.previousElementSibling;\n",
       "    if (outputDiv.id !== \"altair-viz-fa1cddbd39e64ea8830717f508721de8\") {\n",
       "      outputDiv = document.getElementById(\"altair-viz-fa1cddbd39e64ea8830717f508721de8\");\n",
       "    }\n",
       "    const paths = {\n",
       "      \"vega\": \"https://cdn.jsdelivr.net/npm//vega@5?noext\",\n",
       "      \"vega-lib\": \"https://cdn.jsdelivr.net/npm//vega-lib?noext\",\n",
       "      \"vega-lite\": \"https://cdn.jsdelivr.net/npm//vega-lite@4.17.0?noext\",\n",
       "      \"vega-embed\": \"https://cdn.jsdelivr.net/npm//vega-embed@6?noext\",\n",
       "    };\n",
       "\n",
       "    function maybeLoadScript(lib, version) {\n",
       "      var key = `${lib.replace(\"-\", \"\")}_version`;\n",
       "      return (VEGA_DEBUG[key] == version) ?\n",
       "        Promise.resolve(paths[lib]) :\n",
       "        new Promise(function(resolve, reject) {\n",
       "          var s = document.createElement('script');\n",
       "          document.getElementsByTagName(\"head\")[0].appendChild(s);\n",
       "          s.async = true;\n",
       "          s.onload = () => {\n",
       "            VEGA_DEBUG[key] = version;\n",
       "            return resolve(paths[lib]);\n",
       "          };\n",
       "          s.onerror = () => reject(`Error loading script: ${paths[lib]}`);\n",
       "          s.src = paths[lib];\n",
       "        });\n",
       "    }\n",
       "\n",
       "    function showError(err) {\n",
       "      outputDiv.innerHTML = `<div class=\"error\" style=\"color:red;\">${err}</div>`;\n",
       "      throw err;\n",
       "    }\n",
       "\n",
       "    function displayChart(vegaEmbed) {\n",
       "      vegaEmbed(outputDiv, spec, embedOpt)\n",
       "        .catch(err => showError(`Javascript Error: ${err.message}<br>This usually means there's a typo in your chart specification. See the javascript console for the full traceback.`));\n",
       "    }\n",
       "\n",
       "    if(typeof define === \"function\" && define.amd) {\n",
       "      requirejs.config({paths});\n",
       "      require([\"vega-embed\"], displayChart, err => showError(`Error loading script: ${err.message}`));\n",
       "    } else {\n",
       "      maybeLoadScript(\"vega\", \"5\")\n",
       "        .then(() => maybeLoadScript(\"vega-lite\", \"4.17.0\"))\n",
       "        .then(() => maybeLoadScript(\"vega-embed\", \"6\"))\n",
       "        .catch(showError)\n",
       "        .then(() => displayChart(vegaEmbed));\n",
       "    }\n",
       "  })({\"config\": {\"view\": {\"continuousWidth\": 400, \"continuousHeight\": 300}}, \"layer\": [{\"data\": {\"name\": \"data-389d75d6c7f09292d681dbb94e33130f\"}, \"mark\": \"line\", \"encoding\": {\"color\": {\"value\": \"#FFAA00\"}, \"x\": {\"field\": \"hour\", \"type\": \"quantitative\"}, \"y\": {\"field\": \"corr\", \"type\": \"quantitative\"}}, \"height\": 300, \"title\": {\"text\": [\"Correlation plot of Zonal in Spring\"], \"subtitle\": [\"sample size:14553\"], \"color\": \"green\"}, \"width\": 800}, {\"data\": {\"name\": \"data-b9dd60dc560f7891b967d8e82c37ad0c\"}, \"mark\": {\"type\": \"rule\", \"color\": \"#D2386C\"}, \"encoding\": {\"x\": {\"field\": \"Component\", \"type\": \"quantitative\"}}}], \"$schema\": \"https://vega.github.io/schema/vega-lite/v4.17.0.json\", \"datasets\": {\"data-389d75d6c7f09292d681dbb94e33130f\": [{\"corr\": 0.055058398974473996, \"hour\": 0}, {\"corr\": 0.017529971337072393, \"hour\": 1}, {\"corr\": -0.22592804588610127, \"hour\": 2}, {\"corr\": -0.2315411852406325, \"hour\": 3}, {\"corr\": 0.019344512339321447, \"hour\": 4}, {\"corr\": 0.038686940921117435, \"hour\": 5}, {\"corr\": -0.03873846598631047, \"hour\": 6}, {\"corr\": -0.039916237934372024, \"hour\": 7}, {\"corr\": 0.10613394056870107, \"hour\": 8}, {\"corr\": 0.098102180124195, \"hour\": 9}, {\"corr\": -0.06588481352231727, \"hour\": 10}, {\"corr\": 0.024760764210537477, \"hour\": 11}, {\"corr\": 0.0760753892613152, \"hour\": 12}, {\"corr\": 0.035229480737490534, \"hour\": 13}, {\"corr\": -0.14828275743024713, \"hour\": 14}, {\"corr\": 0.06280374057665897, \"hour\": 15}, {\"corr\": 0.055075831924118676, \"hour\": 16}, {\"corr\": 0.029740273602750122, \"hour\": 17}, {\"corr\": -0.12203335948554513, \"hour\": 18}, {\"corr\": 0.010783228565467472, \"hour\": 19}, {\"corr\": 0.013881098472793466, \"hour\": 20}, {\"corr\": -0.020377011577003105, \"hour\": 21}, {\"corr\": -0.06921412947481573, \"hour\": 22}, {\"corr\": -0.10906122752289422, \"hour\": 23}, {\"corr\": -0.12459211353369831, \"hour\": 24}, {\"corr\": 0.015036993377845616, \"hour\": 25}, {\"corr\": 0.05806286594563873, \"hour\": 26}, {\"corr\": -0.08473709941452039, \"hour\": 27}, {\"corr\": -0.15771619608061968, \"hour\": 28}, {\"corr\": 0.019331638957784673, \"hour\": 29}, {\"corr\": 0.0675453355040794, \"hour\": 30}, {\"corr\": 0.13212158592649773, \"hour\": 31}, {\"corr\": -0.02458874017524819, \"hour\": 32}, {\"corr\": 0.012874920390073501, \"hour\": 33}, {\"corr\": 0.033776184424648824, \"hour\": 34}, {\"corr\": 0.0954100428740812, \"hour\": 35}, {\"corr\": -0.16953221161565404, \"hour\": 36}, {\"corr\": 0.02198354692272999, \"hour\": 37}, {\"corr\": -0.18343238056032926, \"hour\": 38}, {\"corr\": -0.02402597619261558, \"hour\": 39}, {\"corr\": 0.31902376867659554, \"hour\": 40}, {\"corr\": 0.16036547362417727, \"hour\": 41}, {\"corr\": -0.08703605299656704, \"hour\": 42}, {\"corr\": 0.0762911462194038, \"hour\": 43}, {\"corr\": -0.16803337875106322, \"hour\": 44}, {\"corr\": -0.10458885937354909, \"hour\": 45}, {\"corr\": 0.020450468126710777, \"hour\": 46}, {\"corr\": 0.06151117479090346, \"hour\": 47}, {\"corr\": 0.086034461324196, \"hour\": 48}, {\"corr\": -0.07996234596025484, \"hour\": 49}, {\"corr\": -0.19365577332306236, \"hour\": 50}, {\"corr\": 0.03599262828912184, \"hour\": 51}, {\"corr\": 0.28639273534618614, \"hour\": 52}, {\"corr\": -0.07890318994902339, \"hour\": 53}, {\"corr\": -0.02355941329923683, \"hour\": 54}, {\"corr\": 0.13336892397117087, \"hour\": 55}, {\"corr\": 0.20857697841582706, \"hour\": 56}, {\"corr\": 0.12058458493925898, \"hour\": 57}, {\"corr\": 0.014960980741645731, \"hour\": 58}, {\"corr\": 0.06544531525260243, \"hour\": 59}, {\"corr\": 0.08120602166864758, \"hour\": 60}, {\"corr\": 0.040020947239386484, \"hour\": 61}, {\"corr\": -0.3140651548434915, \"hour\": 62}, {\"corr\": -0.05171129348394295, \"hour\": 63}, {\"corr\": 0.24282317016710891, \"hour\": 64}, {\"corr\": -0.1395431595714078, \"hour\": 65}, {\"corr\": -0.0964055561601108, \"hour\": 66}, {\"corr\": -0.0869146240836139, \"hour\": 67}, {\"corr\": 0.06293920610948983, \"hour\": 68}, {\"corr\": 0.02916860911976778, \"hour\": 69}, {\"corr\": 0.02536163853713794, \"hour\": 70}, {\"corr\": 0.13767429281448246, \"hour\": 71}], \"data-b9dd60dc560f7891b967d8e82c37ad0c\": [{\"Component\": 24}, {\"Component\": 48}, {\"Component\": 72}]}}, {\"mode\": \"vega-lite\"});\n",
       "</script>"
      ],
      "text/plain": [
       "alt.LayerChart(...)"
      ]
     },
     "execution_count": 25,
     "metadata": {},
     "output_type": "execute_result"
    }
   ],
   "source": [
    "plotrmse(corr_zonal,'corr',\"Correlation plot of Zonal in Spring\",\"sample size:\" + str(size(up_obszonal_list)))"
   ]
  },
  {
   "cell_type": "code",
   "execution_count": 26,
   "id": "a1e083b0-1d42-41b7-9c75-a0b6cd08af22",
   "metadata": {},
   "outputs": [
    {
     "data": {
      "text/html": [
       "\n",
       "<div id=\"altair-viz-3b568bced8e045149dbf1655681e6b23\"></div>\n",
       "<script type=\"text/javascript\">\n",
       "  var VEGA_DEBUG = (typeof VEGA_DEBUG == \"undefined\") ? {} : VEGA_DEBUG;\n",
       "  (function(spec, embedOpt){\n",
       "    let outputDiv = document.currentScript.previousElementSibling;\n",
       "    if (outputDiv.id !== \"altair-viz-3b568bced8e045149dbf1655681e6b23\") {\n",
       "      outputDiv = document.getElementById(\"altair-viz-3b568bced8e045149dbf1655681e6b23\");\n",
       "    }\n",
       "    const paths = {\n",
       "      \"vega\": \"https://cdn.jsdelivr.net/npm//vega@5?noext\",\n",
       "      \"vega-lib\": \"https://cdn.jsdelivr.net/npm//vega-lib?noext\",\n",
       "      \"vega-lite\": \"https://cdn.jsdelivr.net/npm//vega-lite@4.17.0?noext\",\n",
       "      \"vega-embed\": \"https://cdn.jsdelivr.net/npm//vega-embed@6?noext\",\n",
       "    };\n",
       "\n",
       "    function maybeLoadScript(lib, version) {\n",
       "      var key = `${lib.replace(\"-\", \"\")}_version`;\n",
       "      return (VEGA_DEBUG[key] == version) ?\n",
       "        Promise.resolve(paths[lib]) :\n",
       "        new Promise(function(resolve, reject) {\n",
       "          var s = document.createElement('script');\n",
       "          document.getElementsByTagName(\"head\")[0].appendChild(s);\n",
       "          s.async = true;\n",
       "          s.onload = () => {\n",
       "            VEGA_DEBUG[key] = version;\n",
       "            return resolve(paths[lib]);\n",
       "          };\n",
       "          s.onerror = () => reject(`Error loading script: ${paths[lib]}`);\n",
       "          s.src = paths[lib];\n",
       "        });\n",
       "    }\n",
       "\n",
       "    function showError(err) {\n",
       "      outputDiv.innerHTML = `<div class=\"error\" style=\"color:red;\">${err}</div>`;\n",
       "      throw err;\n",
       "    }\n",
       "\n",
       "    function displayChart(vegaEmbed) {\n",
       "      vegaEmbed(outputDiv, spec, embedOpt)\n",
       "        .catch(err => showError(`Javascript Error: ${err.message}<br>This usually means there's a typo in your chart specification. See the javascript console for the full traceback.`));\n",
       "    }\n",
       "\n",
       "    if(typeof define === \"function\" && define.amd) {\n",
       "      requirejs.config({paths});\n",
       "      require([\"vega-embed\"], displayChart, err => showError(`Error loading script: ${err.message}`));\n",
       "    } else {\n",
       "      maybeLoadScript(\"vega\", \"5\")\n",
       "        .then(() => maybeLoadScript(\"vega-lite\", \"4.17.0\"))\n",
       "        .then(() => maybeLoadScript(\"vega-embed\", \"6\"))\n",
       "        .catch(showError)\n",
       "        .then(() => displayChart(vegaEmbed));\n",
       "    }\n",
       "  })({\"config\": {\"view\": {\"continuousWidth\": 400, \"continuousHeight\": 300}}, \"layer\": [{\"data\": {\"name\": \"data-a7fa2966a60e7fcba147ff2cab6c807c\"}, \"mark\": \"line\", \"encoding\": {\"color\": {\"value\": \"#FFAA00\"}, \"x\": {\"field\": \"hour\", \"type\": \"quantitative\"}, \"y\": {\"field\": \"corr\", \"type\": \"quantitative\"}}, \"height\": 300, \"title\": {\"text\": [\"Correlation plot of Meridional in Spring\"], \"subtitle\": [\"sample size:14553\"], \"color\": \"green\"}, \"width\": 800}, {\"data\": {\"name\": \"data-b9dd60dc560f7891b967d8e82c37ad0c\"}, \"mark\": {\"type\": \"rule\", \"color\": \"#D2386C\"}, \"encoding\": {\"x\": {\"field\": \"Component\", \"type\": \"quantitative\"}}}], \"$schema\": \"https://vega.github.io/schema/vega-lite/v4.17.0.json\", \"datasets\": {\"data-a7fa2966a60e7fcba147ff2cab6c807c\": [{\"corr\": 0.07453483647301276, \"hour\": 0}, {\"corr\": -0.09433169980200466, \"hour\": 1}, {\"corr\": -0.03718445130720973, \"hour\": 2}, {\"corr\": -0.09172432585055999, \"hour\": 3}, {\"corr\": -0.045772856718717954, \"hour\": 4}, {\"corr\": 0.07121407150369663, \"hour\": 5}, {\"corr\": 0.1147517336238816, \"hour\": 6}, {\"corr\": 0.028695194704882947, \"hour\": 7}, {\"corr\": 0.009535530150503468, \"hour\": 8}, {\"corr\": 0.23087367713657833, \"hour\": 9}, {\"corr\": 0.08642545703255518, \"hour\": 10}, {\"corr\": 0.020285407683791338, \"hour\": 11}, {\"corr\": 0.04275350295408377, \"hour\": 12}, {\"corr\": -0.11688443409686518, \"hour\": 13}, {\"corr\": -0.2063027168402888, \"hour\": 14}, {\"corr\": 0.25021842105570324, \"hour\": 15}, {\"corr\": 0.3527099594326651, \"hour\": 16}, {\"corr\": 0.1743524203035611, \"hour\": 17}, {\"corr\": -0.021078556777669757, \"hour\": 18}, {\"corr\": 0.04886319333587181, \"hour\": 19}, {\"corr\": -0.09237368515178125, \"hour\": 20}, {\"corr\": -0.11229455603785718, \"hour\": 21}, {\"corr\": 0.08818762671930337, \"hour\": 22}, {\"corr\": 0.10824501805607456, \"hour\": 23}, {\"corr\": -0.10761560289660668, \"hour\": 24}, {\"corr\": -0.10291351285667744, \"hour\": 25}, {\"corr\": 0.01961606044425858, \"hour\": 26}, {\"corr\": 0.07906977531530933, \"hour\": 27}, {\"corr\": 0.182857692229328, \"hour\": 28}, {\"corr\": 0.04743611072419607, \"hour\": 29}, {\"corr\": 0.04045590812207485, \"hour\": 30}, {\"corr\": -0.17058763433469445, \"hour\": 31}, {\"corr\": -0.05430832168501731, \"hour\": 32}, {\"corr\": 0.05947228056536943, \"hour\": 33}, {\"corr\": -0.04707332664880966, \"hour\": 34}, {\"corr\": -0.019300363280615813, \"hour\": 35}, {\"corr\": -0.05633347505097059, \"hour\": 36}, {\"corr\": 0.03814063810308728, \"hour\": 37}, {\"corr\": 0.015251723280545887, \"hour\": 38}, {\"corr\": 0.0030609129052954305, \"hour\": 39}, {\"corr\": -0.43026771782124845, \"hour\": 40}, {\"corr\": 0.20186233476534318, \"hour\": 41}, {\"corr\": 0.04229237167154974, \"hour\": 42}, {\"corr\": 0.0897022998423142, \"hour\": 43}, {\"corr\": -0.2113216980874387, \"hour\": 44}, {\"corr\": 0.10058905572826428, \"hour\": 45}, {\"corr\": -0.047103842631446485, \"hour\": 46}, {\"corr\": -0.1603847136347326, \"hour\": 47}, {\"corr\": -0.1450449679172894, \"hour\": 48}, {\"corr\": -0.0658261953586651, \"hour\": 49}, {\"corr\": 0.03446046345836783, \"hour\": 50}, {\"corr\": 0.1034479583866785, \"hour\": 51}, {\"corr\": -0.0035678723319921826, \"hour\": 52}, {\"corr\": -0.10544784606322188, \"hour\": 53}, {\"corr\": 0.022646231687256286, \"hour\": 54}, {\"corr\": -0.1525429205578412, \"hour\": 55}, {\"corr\": -0.19345876603898787, \"hour\": 56}, {\"corr\": 0.022758671779319648, \"hour\": 57}, {\"corr\": 0.006741677767366616, \"hour\": 58}, {\"corr\": -0.20462125447923885, \"hour\": 59}, {\"corr\": -0.03525020504501736, \"hour\": 60}, {\"corr\": -0.04035934137142397, \"hour\": 61}, {\"corr\": 0.010819157690247157, \"hour\": 62}, {\"corr\": -0.019229542188539242, \"hour\": 63}, {\"corr\": 0.22224725957480648, \"hour\": 64}, {\"corr\": -0.13236733843343226, \"hour\": 65}, {\"corr\": 0.02840943433063242, \"hour\": 66}, {\"corr\": 0.08849081891804324, \"hour\": 67}, {\"corr\": -0.17576885895784017, \"hour\": 68}, {\"corr\": 0.0044585816823684565, \"hour\": 69}, {\"corr\": -0.0989914204760478, \"hour\": 70}, {\"corr\": -0.1274655788942983, \"hour\": 71}], \"data-b9dd60dc560f7891b967d8e82c37ad0c\": [{\"Component\": 24}, {\"Component\": 48}, {\"Component\": 72}]}}, {\"mode\": \"vega-lite\"});\n",
       "</script>"
      ],
      "text/plain": [
       "alt.LayerChart(...)"
      ]
     },
     "execution_count": 26,
     "metadata": {},
     "output_type": "execute_result"
    }
   ],
   "source": [
    "plotrmse(corr_meridional,'corr',\"Correlation plot of Meridional in Spring\",\"sample size:\" + str(size(up_obsmeridional_list)))"
   ]
  },
  {
   "cell_type": "markdown",
   "id": "bae8873c-7c35-4468-98a5-de8694921440",
   "metadata": {},
   "source": [
    "<br>\n",
    "\n",
    "### Summer:\n",
    "#### RMSE:"
   ]
  },
  {
   "cell_type": "code",
   "execution_count": 52,
   "id": "8a6f31c8-5ae3-4e30-9112-8a08fd92849f",
   "metadata": {},
   "outputs": [],
   "source": [
    "# 1. Calculate the square difference\n",
    "Sum[\"zonal_dif\"] = (Sum[\"obszonal\"] - Sum[\"modzonal\"])**2\n",
    "Sum[\"meridional_dif\"] = (Sum[\"obsmeridional\"] - Sum[\"modmeridional\"])**2"
   ]
  },
  {
   "cell_type": "code",
   "execution_count": 53,
   "id": "e6395e0e-066a-4678-975f-97eac289f6a0",
   "metadata": {},
   "outputs": [],
   "source": [
    "# 2. Group by hour and sum\n",
    "Sum_sum_zonal = Sum.groupby(\"hour\")[\"zonal_dif\"].sum()\n",
    "Sum_sum_meridional = Sum.groupby(\"hour\")[\"meridional_dif\"].sum()"
   ]
  },
  {
   "cell_type": "code",
   "execution_count": 54,
   "id": "f90f4b37-6f5a-4376-912c-0c6d00c10723",
   "metadata": {},
   "outputs": [],
   "source": [
    "# 3. Divide the sums by n and take square root, calculate rmse and make it a dataframe\n",
    "count = Sum.groupby(\"hour\").count()\n",
    "\n",
    "# Now we calculate rmse for each variable\n",
    "Sum_rmse_zonal = rmse(Sum_sum_zonal,count[\"obszonal\"])\n",
    "Sum_rmse_meridional = rmse(Sum_sum_meridional,count[\"obsmeridional\"])"
   ]
  },
  {
   "cell_type": "code",
   "execution_count": 55,
   "id": "4abf15c3-e09a-494a-b882-158b0cf4e778",
   "metadata": {},
   "outputs": [
    {
     "data": {
      "text/html": [
       "\n",
       "<div id=\"altair-viz-f7cbe11cbd6548bd84b0390248a9c3ba\"></div>\n",
       "<script type=\"text/javascript\">\n",
       "  var VEGA_DEBUG = (typeof VEGA_DEBUG == \"undefined\") ? {} : VEGA_DEBUG;\n",
       "  (function(spec, embedOpt){\n",
       "    let outputDiv = document.currentScript.previousElementSibling;\n",
       "    if (outputDiv.id !== \"altair-viz-f7cbe11cbd6548bd84b0390248a9c3ba\") {\n",
       "      outputDiv = document.getElementById(\"altair-viz-f7cbe11cbd6548bd84b0390248a9c3ba\");\n",
       "    }\n",
       "    const paths = {\n",
       "      \"vega\": \"https://cdn.jsdelivr.net/npm//vega@5?noext\",\n",
       "      \"vega-lib\": \"https://cdn.jsdelivr.net/npm//vega-lib?noext\",\n",
       "      \"vega-lite\": \"https://cdn.jsdelivr.net/npm//vega-lite@4.17.0?noext\",\n",
       "      \"vega-embed\": \"https://cdn.jsdelivr.net/npm//vega-embed@6?noext\",\n",
       "    };\n",
       "\n",
       "    function maybeLoadScript(lib, version) {\n",
       "      var key = `${lib.replace(\"-\", \"\")}_version`;\n",
       "      return (VEGA_DEBUG[key] == version) ?\n",
       "        Promise.resolve(paths[lib]) :\n",
       "        new Promise(function(resolve, reject) {\n",
       "          var s = document.createElement('script');\n",
       "          document.getElementsByTagName(\"head\")[0].appendChild(s);\n",
       "          s.async = true;\n",
       "          s.onload = () => {\n",
       "            VEGA_DEBUG[key] = version;\n",
       "            return resolve(paths[lib]);\n",
       "          };\n",
       "          s.onerror = () => reject(`Error loading script: ${paths[lib]}`);\n",
       "          s.src = paths[lib];\n",
       "        });\n",
       "    }\n",
       "\n",
       "    function showError(err) {\n",
       "      outputDiv.innerHTML = `<div class=\"error\" style=\"color:red;\">${err}</div>`;\n",
       "      throw err;\n",
       "    }\n",
       "\n",
       "    function displayChart(vegaEmbed) {\n",
       "      vegaEmbed(outputDiv, spec, embedOpt)\n",
       "        .catch(err => showError(`Javascript Error: ${err.message}<br>This usually means there's a typo in your chart specification. See the javascript console for the full traceback.`));\n",
       "    }\n",
       "\n",
       "    if(typeof define === \"function\" && define.amd) {\n",
       "      requirejs.config({paths});\n",
       "      require([\"vega-embed\"], displayChart, err => showError(`Error loading script: ${err.message}`));\n",
       "    } else {\n",
       "      maybeLoadScript(\"vega\", \"5\")\n",
       "        .then(() => maybeLoadScript(\"vega-lite\", \"4.17.0\"))\n",
       "        .then(() => maybeLoadScript(\"vega-embed\", \"6\"))\n",
       "        .catch(showError)\n",
       "        .then(() => displayChart(vegaEmbed));\n",
       "    }\n",
       "  })({\"config\": {\"view\": {\"continuousWidth\": 400, \"continuousHeight\": 300}}, \"layer\": [{\"data\": {\"name\": \"data-64fb14bd13649a7f898f51870b770a74\"}, \"mark\": \"line\", \"encoding\": {\"color\": {\"value\": \"#FFAA00\"}, \"x\": {\"field\": \"hour\", \"type\": \"quantitative\"}, \"y\": {\"field\": \"rmse\", \"type\": \"quantitative\"}}, \"height\": 300, \"title\": {\"text\": [\"RMSE plot of Zonal in Summer\"], \"subtitle\": [\"sample size:12414\"], \"color\": \"green\"}, \"width\": 800}, {\"data\": {\"name\": \"data-b9dd60dc560f7891b967d8e82c37ad0c\"}, \"mark\": {\"type\": \"rule\", \"color\": \"#D2386C\"}, \"encoding\": {\"x\": {\"field\": \"Component\", \"type\": \"quantitative\"}}}], \"$schema\": \"https://vega.github.io/schema/vega-lite/v4.17.0.json\", \"datasets\": {\"data-64fb14bd13649a7f898f51870b770a74\": [{\"rmse\": 1.8994618662798204, \"hour\": 0}, {\"rmse\": 1.668747843228928, \"hour\": 1}, {\"rmse\": 1.9245591348019988, \"hour\": 2}, {\"rmse\": 2.7707077660374493, \"hour\": 3}, {\"rmse\": 2.3183541627894564, \"hour\": 4}, {\"rmse\": 3.3383412345872236, \"hour\": 5}, {\"rmse\": 2.207514816580967, \"hour\": 6}, {\"rmse\": 2.7918216200984043, \"hour\": 7}, {\"rmse\": 2.468603769658821, \"hour\": 8}, {\"rmse\": 2.5914805892911614, \"hour\": 9}, {\"rmse\": 1.921454449600337, \"hour\": 10}, {\"rmse\": 1.8284892189972668, \"hour\": 11}, {\"rmse\": 1.6415279985090643, \"hour\": 12}, {\"rmse\": 1.6802270769679497, \"hour\": 13}, {\"rmse\": 1.3121534119249467, \"hour\": 14}, {\"rmse\": 1.1197232283335727, \"hour\": 15}, {\"rmse\": 1.2085694844710124, \"hour\": 16}, {\"rmse\": 1.4775223209157589, \"hour\": 17}, {\"rmse\": 1.796431291114442, \"hour\": 18}, {\"rmse\": 2.0514356970874017, \"hour\": 19}, {\"rmse\": 2.257770595444564, \"hour\": 20}, {\"rmse\": 2.1629296277734227, \"hour\": 21}, {\"rmse\": 2.145657336438288, \"hour\": 22}, {\"rmse\": 1.8913347576006199, \"hour\": 23}, {\"rmse\": 1.5994473363061459, \"hour\": 24}, {\"rmse\": 1.3075782267763965, \"hour\": 25}, {\"rmse\": 1.9060536494868816, \"hour\": 26}, {\"rmse\": 2.1389312079278375, \"hour\": 27}, {\"rmse\": 2.861069559370061, \"hour\": 28}, {\"rmse\": 3.7085414001951142, \"hour\": 29}, {\"rmse\": 2.9922249275887274, \"hour\": 30}, {\"rmse\": 2.365881254353806, \"hour\": 31}, {\"rmse\": 2.8961191644667563, \"hour\": 32}, {\"rmse\": 2.4427632798564716, \"hour\": 33}, {\"rmse\": 2.4504392332222045, \"hour\": 34}, {\"rmse\": 2.3732604645124042, \"hour\": 35}, {\"rmse\": 1.9162485311908337, \"hour\": 36}, {\"rmse\": 2.1248289314557063, \"hour\": 37}, {\"rmse\": 1.4381707335235563, \"hour\": 38}, {\"rmse\": 1.0483552077878162, \"hour\": 39}, {\"rmse\": 1.1437711149335843, \"hour\": 40}, {\"rmse\": 1.5511382337670399, \"hour\": 41}, {\"rmse\": 1.7573744482074707, \"hour\": 42}, {\"rmse\": 2.1148210359780877, \"hour\": 43}, {\"rmse\": 2.162209160028357, \"hour\": 44}, {\"rmse\": 2.107249714421449, \"hour\": 45}, {\"rmse\": 2.14782744179814, \"hour\": 46}, {\"rmse\": 2.004895640971985, \"hour\": 47}, {\"rmse\": 1.5078003889832727, \"hour\": 48}, {\"rmse\": 1.5130308868758464, \"hour\": 49}, {\"rmse\": 1.929958907192272, \"hour\": 50}, {\"rmse\": 2.4724821209878, \"hour\": 51}, {\"rmse\": 2.5238905023642966, \"hour\": 52}, {\"rmse\": 3.5383996938475955, \"hour\": 53}, {\"rmse\": 2.4764342518917952, \"hour\": 54}, {\"rmse\": 2.020025491929198, \"hour\": 55}, {\"rmse\": 2.107400483671138, \"hour\": 56}, {\"rmse\": 2.723046856991918, \"hour\": 57}, {\"rmse\": 2.716967503166455, \"hour\": 58}, {\"rmse\": 2.2309771309058593, \"hour\": 59}, {\"rmse\": 2.259905234935201, \"hour\": 60}, {\"rmse\": 1.6668475304268824, \"hour\": 61}, {\"rmse\": 1.5909148097325798, \"hour\": 62}, {\"rmse\": 1.2352967383712392, \"hour\": 63}, {\"rmse\": 1.2806062770275428, \"hour\": 64}, {\"rmse\": 1.6025661742412434, \"hour\": 65}, {\"rmse\": 1.733802455719426, \"hour\": 66}, {\"rmse\": 2.018270658749378, \"hour\": 67}, {\"rmse\": 2.1410714127043424, \"hour\": 68}, {\"rmse\": 2.225358783329326, \"hour\": 69}, {\"rmse\": 2.1404974281979285, \"hour\": 70}, {\"rmse\": 2.0159051853868557, \"hour\": 71}], \"data-b9dd60dc560f7891b967d8e82c37ad0c\": [{\"Component\": 24}, {\"Component\": 48}, {\"Component\": 72}]}}, {\"mode\": \"vega-lite\"});\n",
       "</script>"
      ],
      "text/plain": [
       "alt.LayerChart(...)"
      ]
     },
     "execution_count": 55,
     "metadata": {},
     "output_type": "execute_result"
    }
   ],
   "source": [
    "plotrmse(Sum_rmse_zonal,'rmse',\"RMSE plot of Zonal in Summer\",\"sample size:\" +  str(Sum[\"zonal_dif\"].count()))"
   ]
  },
  {
   "cell_type": "code",
   "execution_count": 56,
   "id": "ab7ac953-a5f9-4f2c-b989-9f6436f0f9e1",
   "metadata": {
    "tags": []
   },
   "outputs": [
    {
     "data": {
      "text/html": [
       "\n",
       "<div id=\"altair-viz-affa8da5b85742f48cf282fe9e610085\"></div>\n",
       "<script type=\"text/javascript\">\n",
       "  var VEGA_DEBUG = (typeof VEGA_DEBUG == \"undefined\") ? {} : VEGA_DEBUG;\n",
       "  (function(spec, embedOpt){\n",
       "    let outputDiv = document.currentScript.previousElementSibling;\n",
       "    if (outputDiv.id !== \"altair-viz-affa8da5b85742f48cf282fe9e610085\") {\n",
       "      outputDiv = document.getElementById(\"altair-viz-affa8da5b85742f48cf282fe9e610085\");\n",
       "    }\n",
       "    const paths = {\n",
       "      \"vega\": \"https://cdn.jsdelivr.net/npm//vega@5?noext\",\n",
       "      \"vega-lib\": \"https://cdn.jsdelivr.net/npm//vega-lib?noext\",\n",
       "      \"vega-lite\": \"https://cdn.jsdelivr.net/npm//vega-lite@4.17.0?noext\",\n",
       "      \"vega-embed\": \"https://cdn.jsdelivr.net/npm//vega-embed@6?noext\",\n",
       "    };\n",
       "\n",
       "    function maybeLoadScript(lib, version) {\n",
       "      var key = `${lib.replace(\"-\", \"\")}_version`;\n",
       "      return (VEGA_DEBUG[key] == version) ?\n",
       "        Promise.resolve(paths[lib]) :\n",
       "        new Promise(function(resolve, reject) {\n",
       "          var s = document.createElement('script');\n",
       "          document.getElementsByTagName(\"head\")[0].appendChild(s);\n",
       "          s.async = true;\n",
       "          s.onload = () => {\n",
       "            VEGA_DEBUG[key] = version;\n",
       "            return resolve(paths[lib]);\n",
       "          };\n",
       "          s.onerror = () => reject(`Error loading script: ${paths[lib]}`);\n",
       "          s.src = paths[lib];\n",
       "        });\n",
       "    }\n",
       "\n",
       "    function showError(err) {\n",
       "      outputDiv.innerHTML = `<div class=\"error\" style=\"color:red;\">${err}</div>`;\n",
       "      throw err;\n",
       "    }\n",
       "\n",
       "    function displayChart(vegaEmbed) {\n",
       "      vegaEmbed(outputDiv, spec, embedOpt)\n",
       "        .catch(err => showError(`Javascript Error: ${err.message}<br>This usually means there's a typo in your chart specification. See the javascript console for the full traceback.`));\n",
       "    }\n",
       "\n",
       "    if(typeof define === \"function\" && define.amd) {\n",
       "      requirejs.config({paths});\n",
       "      require([\"vega-embed\"], displayChart, err => showError(`Error loading script: ${err.message}`));\n",
       "    } else {\n",
       "      maybeLoadScript(\"vega\", \"5\")\n",
       "        .then(() => maybeLoadScript(\"vega-lite\", \"4.17.0\"))\n",
       "        .then(() => maybeLoadScript(\"vega-embed\", \"6\"))\n",
       "        .catch(showError)\n",
       "        .then(() => displayChart(vegaEmbed));\n",
       "    }\n",
       "  })({\"config\": {\"view\": {\"continuousWidth\": 400, \"continuousHeight\": 300}}, \"layer\": [{\"data\": {\"name\": \"data-cc85272144ef2fc69fd6c8e38872981f\"}, \"mark\": \"line\", \"encoding\": {\"color\": {\"value\": \"#FFAA00\"}, \"x\": {\"field\": \"hour\", \"type\": \"quantitative\"}, \"y\": {\"field\": \"rmse\", \"type\": \"quantitative\"}}, \"height\": 300, \"title\": {\"text\": [\"RMSE plot of Meridional in Summer\"], \"subtitle\": [\"sample size:12414\"], \"color\": \"green\"}, \"width\": 800}, {\"data\": {\"name\": \"data-b9dd60dc560f7891b967d8e82c37ad0c\"}, \"mark\": {\"type\": \"rule\", \"color\": \"#D2386C\"}, \"encoding\": {\"x\": {\"field\": \"Component\", \"type\": \"quantitative\"}}}], \"$schema\": \"https://vega.github.io/schema/vega-lite/v4.17.0.json\", \"datasets\": {\"data-cc85272144ef2fc69fd6c8e38872981f\": [{\"rmse\": 1.8991731033780865, \"hour\": 0}, {\"rmse\": 1.4520813016068481, \"hour\": 1}, {\"rmse\": 1.9189504046629688, \"hour\": 2}, {\"rmse\": 2.149403945769052, \"hour\": 3}, {\"rmse\": 3.9674198793837006, \"hour\": 4}, {\"rmse\": 2.1759969175255196, \"hour\": 5}, {\"rmse\": 3.732668298395523, \"hour\": 6}, {\"rmse\": 2.5393257826648314, \"hour\": 7}, {\"rmse\": 1.8270319876669505, \"hour\": 8}, {\"rmse\": 2.386209727572956, \"hour\": 9}, {\"rmse\": 2.7713823558130692, \"hour\": 10}, {\"rmse\": 1.9443152876891454, \"hour\": 11}, {\"rmse\": 1.864195925816848, \"hour\": 12}, {\"rmse\": 1.761462851020081, \"hour\": 13}, {\"rmse\": 1.4037947359266483, \"hour\": 14}, {\"rmse\": 1.0149608349207124, \"hour\": 15}, {\"rmse\": 1.2437332445173208, \"hour\": 16}, {\"rmse\": 1.4744436067914362, \"hour\": 17}, {\"rmse\": 1.924836915764261, \"hour\": 18}, {\"rmse\": 1.8755720965879408, \"hour\": 19}, {\"rmse\": 2.103467217205015, \"hour\": 20}, {\"rmse\": 2.1262405281318406, \"hour\": 21}, {\"rmse\": 1.9923329484653243, \"hour\": 22}, {\"rmse\": 1.8161406990176843, \"hour\": 23}, {\"rmse\": 1.6532206922308068, \"hour\": 24}, {\"rmse\": 1.2904506379560594, \"hour\": 25}, {\"rmse\": 1.6611011254761054, \"hour\": 26}, {\"rmse\": 2.584076470848445, \"hour\": 27}, {\"rmse\": 3.1951157856220465, \"hour\": 28}, {\"rmse\": 2.3492747226768413, \"hour\": 29}, {\"rmse\": 2.735753225956579, \"hour\": 30}, {\"rmse\": 2.49471151629368, \"hour\": 31}, {\"rmse\": 2.052692532412793, \"hour\": 32}, {\"rmse\": 2.6730827953249694, \"hour\": 33}, {\"rmse\": 2.263604987280264, \"hour\": 34}, {\"rmse\": 2.053794119962612, \"hour\": 35}, {\"rmse\": 1.9973509048128624, \"hour\": 36}, {\"rmse\": 1.8307050441042725, \"hour\": 37}, {\"rmse\": 1.5869244752738894, \"hour\": 38}, {\"rmse\": 1.0593310073004671, \"hour\": 39}, {\"rmse\": 1.2955226025252657, \"hour\": 40}, {\"rmse\": 1.4688222290427049, \"hour\": 41}, {\"rmse\": 1.8102849149586917, \"hour\": 42}, {\"rmse\": 1.8765300411236414, \"hour\": 43}, {\"rmse\": 2.1298854558512716, \"hour\": 44}, {\"rmse\": 2.277352276097323, \"hour\": 45}, {\"rmse\": 2.015757425317905, \"hour\": 46}, {\"rmse\": 1.8749714741247367, \"hour\": 47}, {\"rmse\": 1.6393496729862511, \"hour\": 48}, {\"rmse\": 1.4676187399716896, \"hour\": 49}, {\"rmse\": 1.6568313820525415, \"hour\": 50}, {\"rmse\": 2.442036266012626, \"hour\": 51}, {\"rmse\": 2.9824762807774032, \"hour\": 52}, {\"rmse\": 2.1155314019180844, \"hour\": 53}, {\"rmse\": 2.4170505285425157, \"hour\": 54}, {\"rmse\": 2.4100194566834516, \"hour\": 55}, {\"rmse\": 2.5536335412843254, \"hour\": 56}, {\"rmse\": 2.5327425229239067, \"hour\": 57}, {\"rmse\": 1.8908108468978195, \"hour\": 58}, {\"rmse\": 2.0132642059498416, \"hour\": 59}, {\"rmse\": 2.002271884266136, \"hour\": 60}, {\"rmse\": 1.7903391551147232, \"hour\": 61}, {\"rmse\": 1.3326904860215372, \"hour\": 62}, {\"rmse\": 1.1597329067057178, \"hour\": 63}, {\"rmse\": 1.3275490288578378, \"hour\": 64}, {\"rmse\": 1.326017008279359, \"hour\": 65}, {\"rmse\": 1.7446755018083075, \"hour\": 66}, {\"rmse\": 1.9337718997830835, \"hour\": 67}, {\"rmse\": 2.0992404475304207, \"hour\": 68}, {\"rmse\": 2.220304027392026, \"hour\": 69}, {\"rmse\": 1.8706656665210275, \"hour\": 70}, {\"rmse\": 1.8473786620952473, \"hour\": 71}], \"data-b9dd60dc560f7891b967d8e82c37ad0c\": [{\"Component\": 24}, {\"Component\": 48}, {\"Component\": 72}]}}, {\"mode\": \"vega-lite\"});\n",
       "</script>"
      ],
      "text/plain": [
       "alt.LayerChart(...)"
      ]
     },
     "execution_count": 56,
     "metadata": {},
     "output_type": "execute_result"
    }
   ],
   "source": [
    "plotrmse(Sum_rmse_meridional,'rmse',\"RMSE plot of Meridional in Summer\",\"sample size:\" +  str(Sum[\"meridional_dif\"].count()))"
   ]
  },
  {
   "cell_type": "markdown",
   "id": "4eead5b6-82fc-42db-8fc4-aad0a282b36a",
   "metadata": {},
   "source": [
    "#### MB:"
   ]
  },
  {
   "cell_type": "code",
   "execution_count": 38,
   "id": "d2d7474f-a89e-4b93-9383-9a7d0901f555",
   "metadata": {},
   "outputs": [],
   "source": [
    "# 1. Calculate the difference\n",
    "Sum[\"zonal_dif\"] = Sum[\"modzonal\"] - Sum[\"obszonal\"]\n",
    "Sum[\"meridional_dif\"] = Sum[\"modmeridional\"] - Sum[\"obsmeridional\"]"
   ]
  },
  {
   "cell_type": "code",
   "execution_count": 39,
   "id": "f1f26b40-1d13-4850-9dca-8a02a897ebb4",
   "metadata": {},
   "outputs": [],
   "source": [
    "# 2. Group by hour and sum\n",
    "Sum_sum_zonal = Sum.groupby(\"hour\")[\"zonal_dif\"].sum()\n",
    "Sum_sum_meridional = Sum.groupby(\"hour\")[\"meridional_dif\"].sum()"
   ]
  },
  {
   "cell_type": "code",
   "execution_count": 62,
   "id": "d69d0ea3-eace-441f-a455-be9afdcd4149",
   "metadata": {},
   "outputs": [],
   "source": [
    "# 3. Divide the sums by n and take square root, calculate rmse and make it a dataframe\n",
    "count = Sum.groupby(\"hour\").count()\n",
    "\n",
    "# Now we calculate rmse for each variable\n",
    "Sum_mb_zonal = mb(Sum_sum_zonal,count[\"obszonal\"])\n",
    "Sum_mb_meridional = mb(Sum_sum_meridional,count[\"obsmeridional\"])"
   ]
  },
  {
   "cell_type": "code",
   "execution_count": 63,
   "id": "c99cc1f4-56be-4d00-aa86-9ca0f7e3b06e",
   "metadata": {},
   "outputs": [
    {
     "data": {
      "text/html": [
       "\n",
       "<div id=\"altair-viz-e6e12ab932604d2a9dac6abbee61cec4\"></div>\n",
       "<script type=\"text/javascript\">\n",
       "  var VEGA_DEBUG = (typeof VEGA_DEBUG == \"undefined\") ? {} : VEGA_DEBUG;\n",
       "  (function(spec, embedOpt){\n",
       "    let outputDiv = document.currentScript.previousElementSibling;\n",
       "    if (outputDiv.id !== \"altair-viz-e6e12ab932604d2a9dac6abbee61cec4\") {\n",
       "      outputDiv = document.getElementById(\"altair-viz-e6e12ab932604d2a9dac6abbee61cec4\");\n",
       "    }\n",
       "    const paths = {\n",
       "      \"vega\": \"https://cdn.jsdelivr.net/npm//vega@5?noext\",\n",
       "      \"vega-lib\": \"https://cdn.jsdelivr.net/npm//vega-lib?noext\",\n",
       "      \"vega-lite\": \"https://cdn.jsdelivr.net/npm//vega-lite@4.17.0?noext\",\n",
       "      \"vega-embed\": \"https://cdn.jsdelivr.net/npm//vega-embed@6?noext\",\n",
       "    };\n",
       "\n",
       "    function maybeLoadScript(lib, version) {\n",
       "      var key = `${lib.replace(\"-\", \"\")}_version`;\n",
       "      return (VEGA_DEBUG[key] == version) ?\n",
       "        Promise.resolve(paths[lib]) :\n",
       "        new Promise(function(resolve, reject) {\n",
       "          var s = document.createElement('script');\n",
       "          document.getElementsByTagName(\"head\")[0].appendChild(s);\n",
       "          s.async = true;\n",
       "          s.onload = () => {\n",
       "            VEGA_DEBUG[key] = version;\n",
       "            return resolve(paths[lib]);\n",
       "          };\n",
       "          s.onerror = () => reject(`Error loading script: ${paths[lib]}`);\n",
       "          s.src = paths[lib];\n",
       "        });\n",
       "    }\n",
       "\n",
       "    function showError(err) {\n",
       "      outputDiv.innerHTML = `<div class=\"error\" style=\"color:red;\">${err}</div>`;\n",
       "      throw err;\n",
       "    }\n",
       "\n",
       "    function displayChart(vegaEmbed) {\n",
       "      vegaEmbed(outputDiv, spec, embedOpt)\n",
       "        .catch(err => showError(`Javascript Error: ${err.message}<br>This usually means there's a typo in your chart specification. See the javascript console for the full traceback.`));\n",
       "    }\n",
       "\n",
       "    if(typeof define === \"function\" && define.amd) {\n",
       "      requirejs.config({paths});\n",
       "      require([\"vega-embed\"], displayChart, err => showError(`Error loading script: ${err.message}`));\n",
       "    } else {\n",
       "      maybeLoadScript(\"vega\", \"5\")\n",
       "        .then(() => maybeLoadScript(\"vega-lite\", \"4.17.0\"))\n",
       "        .then(() => maybeLoadScript(\"vega-embed\", \"6\"))\n",
       "        .catch(showError)\n",
       "        .then(() => displayChart(vegaEmbed));\n",
       "    }\n",
       "  })({\"config\": {\"view\": {\"continuousWidth\": 400, \"continuousHeight\": 300}}, \"layer\": [{\"data\": {\"name\": \"data-220743b18a8f30a83ec1b5940ea24db3\"}, \"mark\": \"line\", \"encoding\": {\"color\": {\"value\": \"#FFAA00\"}, \"x\": {\"field\": \"hour\", \"type\": \"quantitative\"}, \"y\": {\"field\": \"mb\", \"type\": \"quantitative\"}}, \"height\": 300, \"title\": {\"text\": [\"Mean Bias plot of Zonal in Summer\"], \"subtitle\": [\"sample size:12414\"], \"color\": \"green\"}, \"width\": 800}, {\"data\": {\"name\": \"data-b9dd60dc560f7891b967d8e82c37ad0c\"}, \"mark\": {\"type\": \"rule\", \"color\": \"#D2386C\"}, \"encoding\": {\"x\": {\"field\": \"Component\", \"type\": \"quantitative\"}}}], \"$schema\": \"https://vega.github.io/schema/vega-lite/v4.17.0.json\", \"datasets\": {\"data-220743b18a8f30a83ec1b5940ea24db3\": [{\"mb\": 3.607955381451218, \"hour\": 0}, {\"mb\": 2.7847193642811985, \"hour\": 1}, {\"mb\": 3.703927863349818, \"hour\": 2}, {\"mb\": 7.676821524780234, \"hour\": 3}, {\"mb\": 5.374766024123202, \"hour\": 4}, {\"mb\": 11.144522198545348, \"hour\": 5}, {\"mb\": 4.8731216654245015, \"hour\": 6}, {\"mb\": 7.794267958448879, \"hour\": 7}, {\"mb\": 6.094004571573742, \"hour\": 8}, {\"mb\": 6.715771644672865, \"hour\": 9}, {\"mb\": 3.691987201888934, \"hour\": 10}, {\"mb\": 3.343372823989235, \"hour\": 11}, {\"mb\": 2.6946141698891743, \"hour\": 12}, {\"mb\": 2.8231630301762602, \"hour\": 13}, {\"mb\": 1.7217465764262787, \"hour\": 14}, {\"mb\": 1.2537801080697584, \"hour\": 15}, {\"mb\": 1.4606401987945288, \"hour\": 16}, {\"mb\": 2.1830722088042904, \"hour\": 17}, {\"mb\": 3.2271653836951013, \"hour\": 18}, {\"mb\": 4.208388419284474, \"hour\": 19}, {\"mb\": 5.097528061654101, \"hour\": 20}, {\"mb\": 4.678264574700076, \"hour\": 21}, {\"mb\": 4.603845405411447, \"hour\": 22}, {\"mb\": 3.577147165308195, \"hour\": 23}, {\"mb\": 2.5582317816168256, \"hour\": 24}, {\"mb\": 1.7097608191397051, \"hour\": 25}, {\"mb\": 3.6330405147222598, \"hour\": 26}, {\"mb\": 4.575026712247638, \"hour\": 27}, {\"mb\": 8.185719023553995, \"hour\": 28}, {\"mb\": 13.753279316961137, \"hour\": 29}, {\"mb\": 8.953410017283364, \"hour\": 30}, {\"mb\": 5.597394109702737, \"hour\": 31}, {\"mb\": 8.387506214791623, \"hour\": 32}, {\"mb\": 5.967092441415146, \"hour\": 33}, {\"mb\": 6.004652435714626, \"hour\": 34}, {\"mb\": 5.632365232417633, \"hour\": 35}, {\"mb\": 3.672008433291028, \"hour\": 36}, {\"mb\": 4.514897987951198, \"hour\": 37}, {\"mb\": 2.068335058763684, \"hour\": 38}, {\"mb\": 1.0990486416958352, \"hour\": 39}, {\"mb\": 1.3082123633564144, \"hour\": 40}, {\"mb\": 2.406029820253932, \"hour\": 41}, {\"mb\": 3.0883649512125118, \"hour\": 42}, {\"mb\": 4.472468014215432, \"hour\": 43}, {\"mb\": 4.675148451710534, \"hour\": 44}, {\"mb\": 4.440501358929279, \"hour\": 45}, {\"mb\": 4.613162719741142, \"hour\": 46}, {\"mb\": 4.019606531188467, \"hour\": 47}, {\"mb\": 2.2734620130181087, \"hour\": 48}, {\"mb\": 2.28926246464031, \"hour\": 49}, {\"mb\": 3.7247413834507888, \"hour\": 50}, {\"mb\": 6.113167838604331, \"hour\": 51}, {\"mb\": 6.370023267924701, \"hour\": 52}, {\"mb\": 12.520272393420756, \"hour\": 53}, {\"mb\": 6.132726603942876, \"hour\": 54}, {\"mb\": 4.080502988043797, \"hour\": 55}, {\"mb\": 4.441136798577347, \"hour\": 56}, {\"mb\": 7.414984185373563, \"hour\": 57}, {\"mb\": 7.381912413262561, \"hour\": 58}, {\"mb\": 4.977258958624939, \"hour\": 59}, {\"mb\": 5.107171670887526, \"hour\": 60}, {\"mb\": 2.7783806896901964, \"hour\": 61}, {\"mb\": 2.5310099318264507, \"hour\": 62}, {\"mb\": 1.5259580318306218, \"hour\": 63}, {\"mb\": 1.6399524367623437, \"hour\": 64}, {\"mb\": 2.5682183428222154, \"hour\": 65}, {\"mb\": 3.0060709554587124, \"hour\": 66}, {\"mb\": 4.073416451968647, \"hour\": 67}, {\"mb\": 4.584186794299768, \"hour\": 68}, {\"mb\": 4.952221714540977, \"hour\": 69}, {\"mb\": 4.5817292401219465, \"hour\": 70}, {\"mb\": 4.0638737164696135, \"hour\": 71}], \"data-b9dd60dc560f7891b967d8e82c37ad0c\": [{\"Component\": 24}, {\"Component\": 48}, {\"Component\": 72}]}}, {\"mode\": \"vega-lite\"});\n",
       "</script>"
      ],
      "text/plain": [
       "alt.LayerChart(...)"
      ]
     },
     "execution_count": 63,
     "metadata": {},
     "output_type": "execute_result"
    }
   ],
   "source": [
    "plotrmse(Sum_mb_zonal,'mb',\"Mean Bias plot of Zonal in Summer\",\"sample size:\" +  str(Sum[\"zonal_dif\"].count()))"
   ]
  },
  {
   "cell_type": "code",
   "execution_count": 64,
   "id": "b00067d9-f6c7-43aa-829d-95896e8d7858",
   "metadata": {},
   "outputs": [
    {
     "data": {
      "text/html": [
       "\n",
       "<div id=\"altair-viz-3ec1b90569254ccead6398ee86ec5779\"></div>\n",
       "<script type=\"text/javascript\">\n",
       "  var VEGA_DEBUG = (typeof VEGA_DEBUG == \"undefined\") ? {} : VEGA_DEBUG;\n",
       "  (function(spec, embedOpt){\n",
       "    let outputDiv = document.currentScript.previousElementSibling;\n",
       "    if (outputDiv.id !== \"altair-viz-3ec1b90569254ccead6398ee86ec5779\") {\n",
       "      outputDiv = document.getElementById(\"altair-viz-3ec1b90569254ccead6398ee86ec5779\");\n",
       "    }\n",
       "    const paths = {\n",
       "      \"vega\": \"https://cdn.jsdelivr.net/npm//vega@5?noext\",\n",
       "      \"vega-lib\": \"https://cdn.jsdelivr.net/npm//vega-lib?noext\",\n",
       "      \"vega-lite\": \"https://cdn.jsdelivr.net/npm//vega-lite@4.17.0?noext\",\n",
       "      \"vega-embed\": \"https://cdn.jsdelivr.net/npm//vega-embed@6?noext\",\n",
       "    };\n",
       "\n",
       "    function maybeLoadScript(lib, version) {\n",
       "      var key = `${lib.replace(\"-\", \"\")}_version`;\n",
       "      return (VEGA_DEBUG[key] == version) ?\n",
       "        Promise.resolve(paths[lib]) :\n",
       "        new Promise(function(resolve, reject) {\n",
       "          var s = document.createElement('script');\n",
       "          document.getElementsByTagName(\"head\")[0].appendChild(s);\n",
       "          s.async = true;\n",
       "          s.onload = () => {\n",
       "            VEGA_DEBUG[key] = version;\n",
       "            return resolve(paths[lib]);\n",
       "          };\n",
       "          s.onerror = () => reject(`Error loading script: ${paths[lib]}`);\n",
       "          s.src = paths[lib];\n",
       "        });\n",
       "    }\n",
       "\n",
       "    function showError(err) {\n",
       "      outputDiv.innerHTML = `<div class=\"error\" style=\"color:red;\">${err}</div>`;\n",
       "      throw err;\n",
       "    }\n",
       "\n",
       "    function displayChart(vegaEmbed) {\n",
       "      vegaEmbed(outputDiv, spec, embedOpt)\n",
       "        .catch(err => showError(`Javascript Error: ${err.message}<br>This usually means there's a typo in your chart specification. See the javascript console for the full traceback.`));\n",
       "    }\n",
       "\n",
       "    if(typeof define === \"function\" && define.amd) {\n",
       "      requirejs.config({paths});\n",
       "      require([\"vega-embed\"], displayChart, err => showError(`Error loading script: ${err.message}`));\n",
       "    } else {\n",
       "      maybeLoadScript(\"vega\", \"5\")\n",
       "        .then(() => maybeLoadScript(\"vega-lite\", \"4.17.0\"))\n",
       "        .then(() => maybeLoadScript(\"vega-embed\", \"6\"))\n",
       "        .catch(showError)\n",
       "        .then(() => displayChart(vegaEmbed));\n",
       "    }\n",
       "  })({\"config\": {\"view\": {\"continuousWidth\": 400, \"continuousHeight\": 300}}, \"layer\": [{\"data\": {\"name\": \"data-263576c86512b7a3ae44ca5a92d434ba\"}, \"mark\": \"line\", \"encoding\": {\"color\": {\"value\": \"#FFAA00\"}, \"x\": {\"field\": \"hour\", \"type\": \"quantitative\"}, \"y\": {\"field\": \"mb\", \"type\": \"quantitative\"}}, \"height\": 300, \"title\": {\"text\": [\"Mean Bias plot of Meridional in Summer\"], \"subtitle\": [\"sample size:12414\"], \"color\": \"green\"}, \"width\": 800}, {\"data\": {\"name\": \"data-b9dd60dc560f7891b967d8e82c37ad0c\"}, \"mark\": {\"type\": \"rule\", \"color\": \"#D2386C\"}, \"encoding\": {\"x\": {\"field\": \"Component\", \"type\": \"quantitative\"}}}], \"$schema\": \"https://vega.github.io/schema/vega-lite/v4.17.0.json\", \"datasets\": {\"data-263576c86512b7a3ae44ca5a92d434ba\": [{\"mb\": 3.6068584765947524, \"hour\": 0}, {\"mb\": 2.108540106476238, \"hour\": 1}, {\"mb\": 3.682370655556172, \"hour\": 2}, {\"mb\": 4.61993732208757, \"hour\": 3}, {\"mb\": 15.740420499328977, \"hour\": 4}, {\"mb\": 4.734962585080562, \"hour\": 5}, {\"mb\": 13.932812625846926, \"hour\": 6}, {\"mb\": 6.4481754305063586, \"hour\": 7}, {\"mb\": 3.3380458839582476, \"hour\": 8}, {\"mb\": 5.693996863963801, \"hour\": 9}, {\"mb\": 7.680560162111998, \"hour\": 10}, {\"mb\": 3.7803619379417244, \"hour\": 11}, {\"mb\": 3.4752264498321344, \"hour\": 12}, {\"mb\": 3.102751375523792, \"hour\": 13}, {\"mb\": 1.9706396606153682, \"hour\": 14}, {\"mb\": 1.0301454964229495, \"hour\": 15}, {\"mb\": 1.5468723835175815, \"hour\": 16}, {\"mb\": 2.173983949608139, \"hour\": 17}, {\"mb\": 3.7049971522888727, \"hour\": 18}, {\"mb\": 3.517770689499284, \"hour\": 19}, {\"mb\": 4.424574333856211, \"hour\": 20}, {\"mb\": 4.520898783470369, \"hour\": 21}, {\"mb\": 3.9693905775405325, \"hour\": 22}, {\"mb\": 3.298367038628443, \"hour\": 23}, {\"mb\": 2.733138657220108, \"hour\": 24}, {\"mb\": 1.6652628490012007, \"hour\": 25}, {\"mb\": 2.7592569490579844, \"hour\": 26}, {\"mb\": 6.677451207192556, \"hour\": 27}, {\"mb\": 10.208764883531188, \"hour\": 28}, {\"mb\": 5.51909172260835, \"hour\": 29}, {\"mb\": 7.4843457133318285, \"hour\": 30}, {\"mb\": 6.223585549528312, \"hour\": 31}, {\"mb\": 4.2135466326232445, \"hour\": 32}, {\"mb\": 7.145371630662353, \"hour\": 33}, {\"mb\": 5.123907538440085, \"hour\": 34}, {\"mb\": 4.218070287193001, \"hour\": 35}, {\"mb\": 3.98941063695676, \"hour\": 36}, {\"mb\": 3.351480958508826, \"hour\": 37}, {\"mb\": 2.518329290223309, \"hour\": 38}, {\"mb\": 1.1221821830282224, \"hour\": 39}, {\"mb\": 1.6783788136538378, \"hour\": 40}, {\"mb\": 2.1574387405299804, \"hour\": 41}, {\"mb\": 3.2771314733269974, \"hour\": 42}, {\"mb\": 3.521364995239495, \"hour\": 43}, {\"mb\": 4.53641205504678, \"hour\": 44}, {\"mb\": 5.1863333894456565, \"hour\": 45}, {\"mb\": 4.06327799772427, \"hour\": 46}, {\"mb\": 3.515518028781488, \"hour\": 47}, {\"mb\": 2.6874673503201283, \"hour\": 48}, {\"mb\": 2.1539047659160895, \"hour\": 49}, {\"mb\": 2.745090228554135, \"hour\": 50}, {\"mb\": 5.963541124520889, \"hour\": 51}, {\"mb\": 8.895164765399812, \"hour\": 52}, {\"mb\": 4.475473112501496, \"hour\": 53}, {\"mb\": 5.842133257527655, \"hour\": 54}, {\"mb\": 5.8081937815928, \"hour\": 55}, {\"mb\": 6.521044263172324, \"hour\": 56}, {\"mb\": 6.414784687426955, \"hour\": 57}, {\"mb\": 3.5751656587464495, \"hour\": 58}, {\"mb\": 4.053232762958847, \"hour\": 59}, {\"mb\": 4.009092698522662, \"hour\": 60}, {\"mb\": 3.2053142903369007, \"hour\": 61}, {\"mb\": 1.7760639315323212, \"hour\": 62}, {\"mb\": 1.344980414896093, \"hour\": 63}, {\"mb\": 1.7623864240213885, \"hour\": 64}, {\"mb\": 1.7583211062461415, \"hour\": 65}, {\"mb\": 3.0438926066100698, \"hour\": 66}, {\"mb\": 3.739473760390676, \"hour\": 67}, {\"mb\": 4.4068104565477215, \"hour\": 68}, {\"mb\": 4.929749974053251, \"hour\": 69}, {\"mb\": 3.49939003590056, \"hour\": 70}, {\"mb\": 3.412807921164826, \"hour\": 71}], \"data-b9dd60dc560f7891b967d8e82c37ad0c\": [{\"Component\": 24}, {\"Component\": 48}, {\"Component\": 72}]}}, {\"mode\": \"vega-lite\"});\n",
       "</script>"
      ],
      "text/plain": [
       "alt.LayerChart(...)"
      ]
     },
     "execution_count": 64,
     "metadata": {},
     "output_type": "execute_result"
    }
   ],
   "source": [
    "plotrmse(Sum_mb_meridional,'mb',\"Mean Bias plot of Meridional in Summer\",\"sample size:\" +  str(Sum[\"meridional_dif\"].count()))"
   ]
  },
  {
   "cell_type": "markdown",
   "id": "bdfa89e7-d6be-4f99-b8e0-6a3dc0cb5efb",
   "metadata": {},
   "source": [
    "#### Correlation:"
   ]
  },
  {
   "cell_type": "code",
   "execution_count": 43,
   "id": "bb8569c2-a7ba-4548-882a-d59545172441",
   "metadata": {},
   "outputs": [],
   "source": [
    "# Calculate the list\n",
    "modzonal_list = create_list(Sum,\"modzonal\")\n",
    "obszonal_list = create_list(Sum,\"obszonal\")\n",
    "modmeridional_list = create_list(Sum,\"modmeridional\")\n",
    "obsmeridional_list = create_list(Sum,\"obsmeridional\")"
   ]
  },
  {
   "cell_type": "code",
   "execution_count": 44,
   "id": "3bb0a96c-c6dc-421c-956a-ce521bce0df1",
   "metadata": {},
   "outputs": [],
   "source": [
    "up_modzonal_list,up_obszonal_list = removeNan(index(modzonal_list,obszonal_list),modzonal_list,obszonal_list)\n",
    "up_modmeridional_list,up_obsmeridional_list = removeNan(index(modmeridional_list,obsmeridional_list),modmeridional_list,obsmeridional_list)"
   ]
  },
  {
   "cell_type": "code",
   "execution_count": 45,
   "id": "92541135-bd70-4e99-a476-03562e4a800e",
   "metadata": {},
   "outputs": [],
   "source": [
    "corr_zonal = correlation(up_modzonal_list,up_obszonal_list)\n",
    "corr_meridional = correlation(up_modmeridional_list,up_obsmeridional_list)"
   ]
  },
  {
   "cell_type": "code",
   "execution_count": 46,
   "id": "88111775-6240-440c-aafb-e9e7765a5503",
   "metadata": {},
   "outputs": [
    {
     "data": {
      "text/html": [
       "\n",
       "<div id=\"altair-viz-d221d8611cd04ba2b5a3e81301c57b07\"></div>\n",
       "<script type=\"text/javascript\">\n",
       "  var VEGA_DEBUG = (typeof VEGA_DEBUG == \"undefined\") ? {} : VEGA_DEBUG;\n",
       "  (function(spec, embedOpt){\n",
       "    let outputDiv = document.currentScript.previousElementSibling;\n",
       "    if (outputDiv.id !== \"altair-viz-d221d8611cd04ba2b5a3e81301c57b07\") {\n",
       "      outputDiv = document.getElementById(\"altair-viz-d221d8611cd04ba2b5a3e81301c57b07\");\n",
       "    }\n",
       "    const paths = {\n",
       "      \"vega\": \"https://cdn.jsdelivr.net/npm//vega@5?noext\",\n",
       "      \"vega-lib\": \"https://cdn.jsdelivr.net/npm//vega-lib?noext\",\n",
       "      \"vega-lite\": \"https://cdn.jsdelivr.net/npm//vega-lite@4.17.0?noext\",\n",
       "      \"vega-embed\": \"https://cdn.jsdelivr.net/npm//vega-embed@6?noext\",\n",
       "    };\n",
       "\n",
       "    function maybeLoadScript(lib, version) {\n",
       "      var key = `${lib.replace(\"-\", \"\")}_version`;\n",
       "      return (VEGA_DEBUG[key] == version) ?\n",
       "        Promise.resolve(paths[lib]) :\n",
       "        new Promise(function(resolve, reject) {\n",
       "          var s = document.createElement('script');\n",
       "          document.getElementsByTagName(\"head\")[0].appendChild(s);\n",
       "          s.async = true;\n",
       "          s.onload = () => {\n",
       "            VEGA_DEBUG[key] = version;\n",
       "            return resolve(paths[lib]);\n",
       "          };\n",
       "          s.onerror = () => reject(`Error loading script: ${paths[lib]}`);\n",
       "          s.src = paths[lib];\n",
       "        });\n",
       "    }\n",
       "\n",
       "    function showError(err) {\n",
       "      outputDiv.innerHTML = `<div class=\"error\" style=\"color:red;\">${err}</div>`;\n",
       "      throw err;\n",
       "    }\n",
       "\n",
       "    function displayChart(vegaEmbed) {\n",
       "      vegaEmbed(outputDiv, spec, embedOpt)\n",
       "        .catch(err => showError(`Javascript Error: ${err.message}<br>This usually means there's a typo in your chart specification. See the javascript console for the full traceback.`));\n",
       "    }\n",
       "\n",
       "    if(typeof define === \"function\" && define.amd) {\n",
       "      requirejs.config({paths});\n",
       "      require([\"vega-embed\"], displayChart, err => showError(`Error loading script: ${err.message}`));\n",
       "    } else {\n",
       "      maybeLoadScript(\"vega\", \"5\")\n",
       "        .then(() => maybeLoadScript(\"vega-lite\", \"4.17.0\"))\n",
       "        .then(() => maybeLoadScript(\"vega-embed\", \"6\"))\n",
       "        .catch(showError)\n",
       "        .then(() => displayChart(vegaEmbed));\n",
       "    }\n",
       "  })({\"config\": {\"view\": {\"continuousWidth\": 400, \"continuousHeight\": 300}}, \"layer\": [{\"data\": {\"name\": \"data-7bc68e51f99ea217c93c2c24b65ff259\"}, \"mark\": \"line\", \"encoding\": {\"color\": {\"value\": \"#FFAA00\"}, \"x\": {\"field\": \"hour\", \"type\": \"quantitative\"}, \"y\": {\"field\": \"corr\", \"type\": \"quantitative\"}}, \"height\": 300, \"title\": {\"text\": [\"Correlation plot of Zonal in Summer\"], \"subtitle\": [\"sample size:12414\"], \"color\": \"green\"}, \"width\": 800}, {\"data\": {\"name\": \"data-b9dd60dc560f7891b967d8e82c37ad0c\"}, \"mark\": {\"type\": \"rule\", \"color\": \"#D2386C\"}, \"encoding\": {\"x\": {\"field\": \"Component\", \"type\": \"quantitative\"}}}], \"$schema\": \"https://vega.github.io/schema/vega-lite/v4.17.0.json\", \"datasets\": {\"data-7bc68e51f99ea217c93c2c24b65ff259\": [{\"corr\": -0.07733982129118554, \"hour\": 0}, {\"corr\": 0.06288799537476532, \"hour\": 1}, {\"corr\": -0.10452874599110464, \"hour\": 2}, {\"corr\": -0.01367504183807198, \"hour\": 3}, {\"corr\": -0.04922307340337788, \"hour\": 4}, {\"corr\": -0.010383029148726713, \"hour\": 5}, {\"corr\": 0.1948172214103448, \"hour\": 6}, {\"corr\": -0.11714829341147469, \"hour\": 7}, {\"corr\": 0.2481503731680776, \"hour\": 8}, {\"corr\": -0.10219959302759792, \"hour\": 9}, {\"corr\": 0.15722212680193318, \"hour\": 10}, {\"corr\": -0.003969021306336752, \"hour\": 11}, {\"corr\": 0.10139553124374868, \"hour\": 12}, {\"corr\": -0.027482463981590776, \"hour\": 13}, {\"corr\": 0.005300859889136462, \"hour\": 14}, {\"corr\": 0.02119549453332136, \"hour\": 15}, {\"corr\": 0.04816648048941701, \"hour\": 16}, {\"corr\": 0.1152522554177866, \"hour\": 17}, {\"corr\": 0.019551261395954096, \"hour\": 18}, {\"corr\": 0.006447989620131866, \"hour\": 19}, {\"corr\": -0.04644454012557854, \"hour\": 20}, {\"corr\": 0.019708609889765357, \"hour\": 21}, {\"corr\": -0.03256141050977389, \"hour\": 22}, {\"corr\": 0.0964861467283946, \"hour\": 23}, {\"corr\": -0.018781553982583937, \"hour\": 24}, {\"corr\": 0.3292395785904479, \"hour\": 25}, {\"corr\": 0.09885623795413635, \"hour\": 26}, {\"corr\": 0.09571472961439194, \"hour\": 27}, {\"corr\": -0.15951411652968053, \"hour\": 28}, {\"corr\": -0.20906103504543216, \"hour\": 29}, {\"corr\": -0.41122235345431146, \"hour\": 30}, {\"corr\": 0.032472213520414434, \"hour\": 31}, {\"corr\": -0.1341413123180268, \"hour\": 32}, {\"corr\": -0.02449301965760435, \"hour\": 33}, {\"corr\": 0.06998521329624982, \"hour\": 34}, {\"corr\": -0.08685265703546563, \"hour\": 35}, {\"corr\": 0.07948680849497156, \"hour\": 36}, {\"corr\": -0.18289102522349604, \"hour\": 37}, {\"corr\": -0.14576018487493353, \"hour\": 38}, {\"corr\": 0.013292594831466664, \"hour\": 39}, {\"corr\": 0.10190153172568726, \"hour\": 40}, {\"corr\": 0.008920889497819643, \"hour\": 41}, {\"corr\": 0.10001438047282213, \"hour\": 42}, {\"corr\": -0.05375970577724142, \"hour\": 43}, {\"corr\": 0.03800868113638498, \"hour\": 44}, {\"corr\": 0.009211703234894703, \"hour\": 45}, {\"corr\": -0.004900077000247735, \"hour\": 46}, {\"corr\": -0.008579221611341163, \"hour\": 47}, {\"corr\": 0.1003407058025426, \"hour\": 48}, {\"corr\": 0.13375834441260526, \"hour\": 49}, {\"corr\": 0.05392623647891436, \"hour\": 50}, {\"corr\": 0.020480258881452135, \"hour\": 51}, {\"corr\": 0.021718568593984477, \"hour\": 52}, {\"corr\": -0.2582785452509791, \"hour\": 53}, {\"corr\": -0.030514513148495077, \"hour\": 54}, {\"corr\": 0.311472658351799, \"hour\": 55}, {\"corr\": 0.33323304190202785, \"hour\": 56}, {\"corr\": -0.03125022972183205, \"hour\": 57}, {\"corr\": -0.05730792810290155, \"hour\": 58}, {\"corr\": 0.22217172229530688, \"hour\": 59}, {\"corr\": -0.05597541824460566, \"hour\": 60}, {\"corr\": 0.3586389686348758, \"hour\": 61}, {\"corr\": 0.17500425439182177, \"hour\": 62}, {\"corr\": -0.03887721957354102, \"hour\": 63}, {\"corr\": -0.017766650155975266, \"hour\": 64}, {\"corr\": -0.06555452885964341, \"hour\": 65}, {\"corr\": 0.12435324990326728, \"hour\": 66}, {\"corr\": 0.0205489647381081, \"hour\": 67}, {\"corr\": 0.09102821628619068, \"hour\": 68}, {\"corr\": -0.02830935211106655, \"hour\": 69}, {\"corr\": 0.025840192027126806, \"hour\": 70}, {\"corr\": -0.04418324334987651, \"hour\": 71}], \"data-b9dd60dc560f7891b967d8e82c37ad0c\": [{\"Component\": 24}, {\"Component\": 48}, {\"Component\": 72}]}}, {\"mode\": \"vega-lite\"});\n",
       "</script>"
      ],
      "text/plain": [
       "alt.LayerChart(...)"
      ]
     },
     "execution_count": 46,
     "metadata": {},
     "output_type": "execute_result"
    }
   ],
   "source": [
    "plotrmse(corr_zonal,'corr',\"Correlation plot of Zonal in Summer\",\"sample size:\" + str(size(up_obszonal_list)))"
   ]
  },
  {
   "cell_type": "code",
   "execution_count": 47,
   "id": "8b37c9f8-9296-4b54-b895-711356e51351",
   "metadata": {},
   "outputs": [
    {
     "data": {
      "text/html": [
       "\n",
       "<div id=\"altair-viz-431a28391b6b464aa0bd7b92486451e1\"></div>\n",
       "<script type=\"text/javascript\">\n",
       "  var VEGA_DEBUG = (typeof VEGA_DEBUG == \"undefined\") ? {} : VEGA_DEBUG;\n",
       "  (function(spec, embedOpt){\n",
       "    let outputDiv = document.currentScript.previousElementSibling;\n",
       "    if (outputDiv.id !== \"altair-viz-431a28391b6b464aa0bd7b92486451e1\") {\n",
       "      outputDiv = document.getElementById(\"altair-viz-431a28391b6b464aa0bd7b92486451e1\");\n",
       "    }\n",
       "    const paths = {\n",
       "      \"vega\": \"https://cdn.jsdelivr.net/npm//vega@5?noext\",\n",
       "      \"vega-lib\": \"https://cdn.jsdelivr.net/npm//vega-lib?noext\",\n",
       "      \"vega-lite\": \"https://cdn.jsdelivr.net/npm//vega-lite@4.17.0?noext\",\n",
       "      \"vega-embed\": \"https://cdn.jsdelivr.net/npm//vega-embed@6?noext\",\n",
       "    };\n",
       "\n",
       "    function maybeLoadScript(lib, version) {\n",
       "      var key = `${lib.replace(\"-\", \"\")}_version`;\n",
       "      return (VEGA_DEBUG[key] == version) ?\n",
       "        Promise.resolve(paths[lib]) :\n",
       "        new Promise(function(resolve, reject) {\n",
       "          var s = document.createElement('script');\n",
       "          document.getElementsByTagName(\"head\")[0].appendChild(s);\n",
       "          s.async = true;\n",
       "          s.onload = () => {\n",
       "            VEGA_DEBUG[key] = version;\n",
       "            return resolve(paths[lib]);\n",
       "          };\n",
       "          s.onerror = () => reject(`Error loading script: ${paths[lib]}`);\n",
       "          s.src = paths[lib];\n",
       "        });\n",
       "    }\n",
       "\n",
       "    function showError(err) {\n",
       "      outputDiv.innerHTML = `<div class=\"error\" style=\"color:red;\">${err}</div>`;\n",
       "      throw err;\n",
       "    }\n",
       "\n",
       "    function displayChart(vegaEmbed) {\n",
       "      vegaEmbed(outputDiv, spec, embedOpt)\n",
       "        .catch(err => showError(`Javascript Error: ${err.message}<br>This usually means there's a typo in your chart specification. See the javascript console for the full traceback.`));\n",
       "    }\n",
       "\n",
       "    if(typeof define === \"function\" && define.amd) {\n",
       "      requirejs.config({paths});\n",
       "      require([\"vega-embed\"], displayChart, err => showError(`Error loading script: ${err.message}`));\n",
       "    } else {\n",
       "      maybeLoadScript(\"vega\", \"5\")\n",
       "        .then(() => maybeLoadScript(\"vega-lite\", \"4.17.0\"))\n",
       "        .then(() => maybeLoadScript(\"vega-embed\", \"6\"))\n",
       "        .catch(showError)\n",
       "        .then(() => displayChart(vegaEmbed));\n",
       "    }\n",
       "  })({\"config\": {\"view\": {\"continuousWidth\": 400, \"continuousHeight\": 300}}, \"layer\": [{\"data\": {\"name\": \"data-c767c71506fd4d300ec3d850b630bc51\"}, \"mark\": \"line\", \"encoding\": {\"color\": {\"value\": \"#FFAA00\"}, \"x\": {\"field\": \"hour\", \"type\": \"quantitative\"}, \"y\": {\"field\": \"corr\", \"type\": \"quantitative\"}}, \"height\": 300, \"title\": {\"text\": [\"Correlation plot of Meridional in Summer\"], \"subtitle\": [\"sample size:12414\"], \"color\": \"green\"}, \"width\": 800}, {\"data\": {\"name\": \"data-b9dd60dc560f7891b967d8e82c37ad0c\"}, \"mark\": {\"type\": \"rule\", \"color\": \"#D2386C\"}, \"encoding\": {\"x\": {\"field\": \"Component\", \"type\": \"quantitative\"}}}], \"$schema\": \"https://vega.github.io/schema/vega-lite/v4.17.0.json\", \"datasets\": {\"data-c767c71506fd4d300ec3d850b630bc51\": [{\"corr\": -0.0007041840958530952, \"hour\": 0}, {\"corr\": -0.02253796015374998, \"hour\": 1}, {\"corr\": -0.23110569704239312, \"hour\": 2}, {\"corr\": 0.11355781685675385, \"hour\": 3}, {\"corr\": -0.4090682308304569, \"hour\": 4}, {\"corr\": 0.2886518003230184, \"hour\": 5}, {\"corr\": -0.4734124450426214, \"hour\": 6}, {\"corr\": -0.24253195327112537, \"hour\": 7}, {\"corr\": 0.17603921470823256, \"hour\": 8}, {\"corr\": 0.048784579008403314, \"hour\": 9}, {\"corr\": -0.1953122702856685, \"hour\": 10}, {\"corr\": 0.2887497855388288, \"hour\": 11}, {\"corr\": 0.15468294643391312, \"hour\": 12}, {\"corr\": -0.06347902661097118, \"hour\": 13}, {\"corr\": -0.13093823371580862, \"hour\": 14}, {\"corr\": 0.058707020607159266, \"hour\": 15}, {\"corr\": 0.10015489644880224, \"hour\": 16}, {\"corr\": 0.009007261480923234, \"hour\": 17}, {\"corr\": -0.12651851244531864, \"hour\": 18}, {\"corr\": 0.0411945277769492, \"hour\": 19}, {\"corr\": 0.0073873809317860336, \"hour\": 20}, {\"corr\": 0.03930483191643715, \"hour\": 21}, {\"corr\": 0.02354007171937128, \"hour\": 22}, {\"corr\": 0.05972491036724174, \"hour\": 23}, {\"corr\": 0.004353258289139126, \"hour\": 24}, {\"corr\": 0.15228559688416227, \"hour\": 25}, {\"corr\": 0.12343189310238555, \"hour\": 26}, {\"corr\": -0.06527135271961584, \"hour\": 27}, {\"corr\": -0.10696744097286674, \"hour\": 28}, {\"corr\": 0.08911947208989775, \"hour\": 29}, {\"corr\": 0.028660347455136726, \"hour\": 30}, {\"corr\": -0.1083136654808691, \"hour\": 31}, {\"corr\": 0.2336287344372257, \"hour\": 32}, {\"corr\": -0.07371054835940165, \"hour\": 33}, {\"corr\": -0.0026965439332805358, \"hour\": 34}, {\"corr\": -0.04004063062795633, \"hour\": 35}, {\"corr\": 0.09230891358876307, \"hour\": 36}, {\"corr\": -0.0890893599184629, \"hour\": 37}, {\"corr\": -0.17009982880425617, \"hour\": 38}, {\"corr\": 0.06399428944007499, \"hour\": 39}, {\"corr\": 0.023933106020204604, \"hour\": 40}, {\"corr\": 0.06325436781000168, \"hour\": 41}, {\"corr\": -0.015280767513533008, \"hour\": 42}, {\"corr\": 0.07517477162234107, \"hour\": 43}, {\"corr\": -0.005675104504901004, \"hour\": 44}, {\"corr\": -0.026147069469367373, \"hour\": 45}, {\"corr\": -0.031240806028993914, \"hour\": 46}, {\"corr\": -0.004650353402177544, \"hour\": 47}, {\"corr\": 0.06923851109327901, \"hour\": 48}, {\"corr\": -0.11418281909402761, \"hour\": 49}, {\"corr\": 0.22755012563336707, \"hour\": 50}, {\"corr\": 0.0211844441300732, \"hour\": 51}, {\"corr\": 0.005698713134413, \"hour\": 52}, {\"corr\": 0.24188854968922016, \"hour\": 53}, {\"corr\": 0.20704100435858133, \"hour\": 54}, {\"corr\": 0.05988180005280878, \"hour\": 55}, {\"corr\": 0.138335556200827, \"hour\": 56}, {\"corr\": -0.14471328256425875, \"hour\": 57}, {\"corr\": 0.1955526880912817, \"hour\": 58}, {\"corr\": 0.017802425234913113, \"hour\": 59}, {\"corr\": 0.11564123439611959, \"hour\": 60}, {\"corr\": 0.21077614591643498, \"hour\": 61}, {\"corr\": 0.21408090207402106, \"hour\": 62}, {\"corr\": 0.23428325297553704, \"hour\": 63}, {\"corr\": 0.011162679924841344, \"hour\": 64}, {\"corr\": 0.25291010064030467, \"hour\": 65}, {\"corr\": 0.059226267164367304, \"hour\": 66}, {\"corr\": 0.047221750049911485, \"hour\": 67}, {\"corr\": 0.017898486193421347, \"hour\": 68}, {\"corr\": -0.023636979587637223, \"hour\": 69}, {\"corr\": 0.12185673500245267, \"hour\": 70}, {\"corr\": 0.04691283517022114, \"hour\": 71}], \"data-b9dd60dc560f7891b967d8e82c37ad0c\": [{\"Component\": 24}, {\"Component\": 48}, {\"Component\": 72}]}}, {\"mode\": \"vega-lite\"});\n",
       "</script>"
      ],
      "text/plain": [
       "alt.LayerChart(...)"
      ]
     },
     "execution_count": 47,
     "metadata": {},
     "output_type": "execute_result"
    }
   ],
   "source": [
    "plotrmse(corr_meridional,'corr',\"Correlation plot of Meridional in Summer\",\"sample size:\" + str(size(up_obsmeridional_list)))"
   ]
  },
  {
   "cell_type": "markdown",
   "id": "c48a231a-a875-4e10-b516-6bf4429efc3f",
   "metadata": {},
   "source": [
    "<br>\n",
    "\n",
    "### Fall:\n",
    "#### RMSE:"
   ]
  },
  {
   "cell_type": "code",
   "execution_count": 48,
   "id": "ea98ea39-0a3d-43d7-a830-016980e4cc7d",
   "metadata": {},
   "outputs": [],
   "source": [
    "# 1. Calculate the square difference\n",
    "Fal[\"zonal_dif\"] = (Fal[\"obszonal\"] - Fal[\"modzonal\"])**2\n",
    "Fal[\"meridional_dif\"] = (Fal[\"obsmeridional\"] - Fal[\"modmeridional\"])**2"
   ]
  },
  {
   "cell_type": "code",
   "execution_count": 49,
   "id": "261227f4-2baa-470c-beb7-1fecdbdc40bc",
   "metadata": {},
   "outputs": [],
   "source": [
    "# 2. Group by hour and sum\n",
    "Fal_sum_zonal = Fal.groupby(\"hour\")[\"zonal_dif\"].sum()\n",
    "Fal_sum_meridional = Fal.groupby(\"hour\")[\"meridional_dif\"].sum()"
   ]
  },
  {
   "cell_type": "code",
   "execution_count": 57,
   "id": "2c747ac6-4c2b-4525-849b-1a16a471648e",
   "metadata": {},
   "outputs": [],
   "source": [
    "# 3. Divide the sums by n and take square root, calculate rmse and make it a dataframe\n",
    "count = Fal.groupby(\"hour\").count()\n",
    "\n",
    "# Now we calculate rmse for each variable\n",
    "Fal_rmse_zonal = rmse(Fal_sum_zonal,count[\"obszonal\"])\n",
    "Fal_rmse_meridional = rmse(Fal_sum_meridional,count[\"obsmeridional\"])"
   ]
  },
  {
   "cell_type": "code",
   "execution_count": 58,
   "id": "d1fac28e-c574-4a21-bbab-db096dd606de",
   "metadata": {},
   "outputs": [
    {
     "data": {
      "text/html": [
       "\n",
       "<div id=\"altair-viz-2a255b1c41b6419f8fbb32249bd0717f\"></div>\n",
       "<script type=\"text/javascript\">\n",
       "  var VEGA_DEBUG = (typeof VEGA_DEBUG == \"undefined\") ? {} : VEGA_DEBUG;\n",
       "  (function(spec, embedOpt){\n",
       "    let outputDiv = document.currentScript.previousElementSibling;\n",
       "    if (outputDiv.id !== \"altair-viz-2a255b1c41b6419f8fbb32249bd0717f\") {\n",
       "      outputDiv = document.getElementById(\"altair-viz-2a255b1c41b6419f8fbb32249bd0717f\");\n",
       "    }\n",
       "    const paths = {\n",
       "      \"vega\": \"https://cdn.jsdelivr.net/npm//vega@5?noext\",\n",
       "      \"vega-lib\": \"https://cdn.jsdelivr.net/npm//vega-lib?noext\",\n",
       "      \"vega-lite\": \"https://cdn.jsdelivr.net/npm//vega-lite@4.17.0?noext\",\n",
       "      \"vega-embed\": \"https://cdn.jsdelivr.net/npm//vega-embed@6?noext\",\n",
       "    };\n",
       "\n",
       "    function maybeLoadScript(lib, version) {\n",
       "      var key = `${lib.replace(\"-\", \"\")}_version`;\n",
       "      return (VEGA_DEBUG[key] == version) ?\n",
       "        Promise.resolve(paths[lib]) :\n",
       "        new Promise(function(resolve, reject) {\n",
       "          var s = document.createElement('script');\n",
       "          document.getElementsByTagName(\"head\")[0].appendChild(s);\n",
       "          s.async = true;\n",
       "          s.onload = () => {\n",
       "            VEGA_DEBUG[key] = version;\n",
       "            return resolve(paths[lib]);\n",
       "          };\n",
       "          s.onerror = () => reject(`Error loading script: ${paths[lib]}`);\n",
       "          s.src = paths[lib];\n",
       "        });\n",
       "    }\n",
       "\n",
       "    function showError(err) {\n",
       "      outputDiv.innerHTML = `<div class=\"error\" style=\"color:red;\">${err}</div>`;\n",
       "      throw err;\n",
       "    }\n",
       "\n",
       "    function displayChart(vegaEmbed) {\n",
       "      vegaEmbed(outputDiv, spec, embedOpt)\n",
       "        .catch(err => showError(`Javascript Error: ${err.message}<br>This usually means there's a typo in your chart specification. See the javascript console for the full traceback.`));\n",
       "    }\n",
       "\n",
       "    if(typeof define === \"function\" && define.amd) {\n",
       "      requirejs.config({paths});\n",
       "      require([\"vega-embed\"], displayChart, err => showError(`Error loading script: ${err.message}`));\n",
       "    } else {\n",
       "      maybeLoadScript(\"vega\", \"5\")\n",
       "        .then(() => maybeLoadScript(\"vega-lite\", \"4.17.0\"))\n",
       "        .then(() => maybeLoadScript(\"vega-embed\", \"6\"))\n",
       "        .catch(showError)\n",
       "        .then(() => displayChart(vegaEmbed));\n",
       "    }\n",
       "  })({\"config\": {\"view\": {\"continuousWidth\": 400, \"continuousHeight\": 300}}, \"layer\": [{\"data\": {\"name\": \"data-54b8c1e6f03ab943c435af1a4fea0002\"}, \"mark\": \"line\", \"encoding\": {\"color\": {\"value\": \"#FFAA00\"}, \"x\": {\"field\": \"hour\", \"type\": \"quantitative\"}, \"y\": {\"field\": \"rmse\", \"type\": \"quantitative\"}}, \"height\": 300, \"title\": {\"text\": [\"RMSE plot of Zonal in Fall\"], \"subtitle\": [\"sample size:13059\"], \"color\": \"green\"}, \"width\": 800}, {\"data\": {\"name\": \"data-b9dd60dc560f7891b967d8e82c37ad0c\"}, \"mark\": {\"type\": \"rule\", \"color\": \"#D2386C\"}, \"encoding\": {\"x\": {\"field\": \"Component\", \"type\": \"quantitative\"}}}], \"$schema\": \"https://vega.github.io/schema/vega-lite/v4.17.0.json\", \"datasets\": {\"data-54b8c1e6f03ab943c435af1a4fea0002\": [{\"rmse\": 1.6766281111022443, \"hour\": 0}, {\"rmse\": 2.4371598388242184, \"hour\": 1}, {\"rmse\": 3.534869436704723, \"hour\": 2}, {\"rmse\": 3.612643155071653, \"hour\": 3}, {\"rmse\": 4.622961140952292, \"hour\": 4}, {\"rmse\": 4.3144964596790665, \"hour\": 5}, {\"rmse\": 3.9528025276427576, \"hour\": 6}, {\"rmse\": 3.6863705302051417, \"hour\": 7}, {\"rmse\": 3.0948463737461176, \"hour\": 8}, {\"rmse\": 3.593370761059394, \"hour\": 9}, {\"rmse\": 2.997558429340724, \"hour\": 10}, {\"rmse\": 3.179114762663115, \"hour\": 11}, {\"rmse\": 2.940713192822446, \"hour\": 12}, {\"rmse\": 2.709449138826719, \"hour\": 13}, {\"rmse\": 2.9779936257218393, \"hour\": 14}, {\"rmse\": 2.238962344259778, \"hour\": 15}, {\"rmse\": 1.8555033394872038, \"hour\": 16}, {\"rmse\": 1.5899094240106273, \"hour\": 17}, {\"rmse\": 2.348616977808256, \"hour\": 18}, {\"rmse\": 2.283928827997606, \"hour\": 19}, {\"rmse\": 2.3328287925400297, \"hour\": 20}, {\"rmse\": 2.6504368226105064, \"hour\": 21}, {\"rmse\": 2.3107865553208136, \"hour\": 22}, {\"rmse\": 2.4407767098523063, \"hour\": 23}, {\"rmse\": 1.8161766768349006, \"hour\": 24}, {\"rmse\": 3.177514172802412, \"hour\": 25}, {\"rmse\": 4.08916962040858, \"hour\": 26}, {\"rmse\": 3.9136775109955404, \"hour\": 27}, {\"rmse\": 4.582305997257293, \"hour\": 28}, {\"rmse\": 4.368748180661933, \"hour\": 29}, {\"rmse\": 3.3277743582666677, \"hour\": 30}, {\"rmse\": 4.0180422577887285, \"hour\": 31}, {\"rmse\": 4.068433845858174, \"hour\": 32}, {\"rmse\": 3.9279518733119145, \"hour\": 33}, {\"rmse\": 3.2194279567283886, \"hour\": 34}, {\"rmse\": 3.3729706575861225, \"hour\": 35}, {\"rmse\": 3.707012175479938, \"hour\": 36}, {\"rmse\": 2.7339537717392273, \"hour\": 37}, {\"rmse\": 2.4984862868190616, \"hour\": 38}, {\"rmse\": 2.1188772021409137, \"hour\": 39}, {\"rmse\": 1.808025702910107, \"hour\": 40}, {\"rmse\": 1.7105717936339317, \"hour\": 41}, {\"rmse\": 2.1941771322200294, \"hour\": 42}, {\"rmse\": 2.2253562027677822, \"hour\": 43}, {\"rmse\": 2.492350786763749, \"hour\": 44}, {\"rmse\": 2.643951278742837, \"hour\": 45}, {\"rmse\": 2.3746300410112156, \"hour\": 46}, {\"rmse\": 2.4585849011919616, \"hour\": 47}, {\"rmse\": 1.838517614401439, \"hour\": 48}, {\"rmse\": 2.526235429273084, \"hour\": 49}, {\"rmse\": 4.421657641900545, \"hour\": 50}, {\"rmse\": 4.03864602167626, \"hour\": 51}, {\"rmse\": 5.053238668202657, \"hour\": 52}, {\"rmse\": 4.291893043562997, \"hour\": 53}, {\"rmse\": 3.626394568377124, \"hour\": 54}, {\"rmse\": 4.016646687094806, \"hour\": 55}, {\"rmse\": 3.606980125389986, \"hour\": 56}, {\"rmse\": 4.0751585774202574, \"hour\": 57}, {\"rmse\": 3.667909387144367, \"hour\": 58}, {\"rmse\": 3.4245127810112224, \"hour\": 59}, {\"rmse\": 3.7860746764494655, \"hour\": 60}, {\"rmse\": 3.0359847704375698, \"hour\": 61}, {\"rmse\": 2.990842675970594, \"hour\": 62}, {\"rmse\": 2.69727949992232, \"hour\": 63}, {\"rmse\": 2.2294837007723873, \"hour\": 64}, {\"rmse\": 1.8636200243841679, \"hour\": 65}, {\"rmse\": 2.284458007538302, \"hour\": 66}, {\"rmse\": 2.580702158043286, \"hour\": 67}, {\"rmse\": 2.529694851888271, \"hour\": 68}, {\"rmse\": 2.6237513596894138, \"hour\": 69}, {\"rmse\": 2.610890485151398, \"hour\": 70}, {\"rmse\": 2.433315726490662, \"hour\": 71}], \"data-b9dd60dc560f7891b967d8e82c37ad0c\": [{\"Component\": 24}, {\"Component\": 48}, {\"Component\": 72}]}}, {\"mode\": \"vega-lite\"});\n",
       "</script>"
      ],
      "text/plain": [
       "alt.LayerChart(...)"
      ]
     },
     "execution_count": 58,
     "metadata": {},
     "output_type": "execute_result"
    }
   ],
   "source": [
    "plotrmse(Fal_rmse_zonal,'rmse',\"RMSE plot of Zonal in Fall\",\"sample size:\" +  str(Fal[\"zonal_dif\"].count()))"
   ]
  },
  {
   "cell_type": "code",
   "execution_count": 59,
   "id": "40561b51-313d-4665-990a-193577babc83",
   "metadata": {},
   "outputs": [
    {
     "data": {
      "text/html": [
       "\n",
       "<div id=\"altair-viz-fbbfd41a0d3d4e5886213854da9784da\"></div>\n",
       "<script type=\"text/javascript\">\n",
       "  var VEGA_DEBUG = (typeof VEGA_DEBUG == \"undefined\") ? {} : VEGA_DEBUG;\n",
       "  (function(spec, embedOpt){\n",
       "    let outputDiv = document.currentScript.previousElementSibling;\n",
       "    if (outputDiv.id !== \"altair-viz-fbbfd41a0d3d4e5886213854da9784da\") {\n",
       "      outputDiv = document.getElementById(\"altair-viz-fbbfd41a0d3d4e5886213854da9784da\");\n",
       "    }\n",
       "    const paths = {\n",
       "      \"vega\": \"https://cdn.jsdelivr.net/npm//vega@5?noext\",\n",
       "      \"vega-lib\": \"https://cdn.jsdelivr.net/npm//vega-lib?noext\",\n",
       "      \"vega-lite\": \"https://cdn.jsdelivr.net/npm//vega-lite@4.17.0?noext\",\n",
       "      \"vega-embed\": \"https://cdn.jsdelivr.net/npm//vega-embed@6?noext\",\n",
       "    };\n",
       "\n",
       "    function maybeLoadScript(lib, version) {\n",
       "      var key = `${lib.replace(\"-\", \"\")}_version`;\n",
       "      return (VEGA_DEBUG[key] == version) ?\n",
       "        Promise.resolve(paths[lib]) :\n",
       "        new Promise(function(resolve, reject) {\n",
       "          var s = document.createElement('script');\n",
       "          document.getElementsByTagName(\"head\")[0].appendChild(s);\n",
       "          s.async = true;\n",
       "          s.onload = () => {\n",
       "            VEGA_DEBUG[key] = version;\n",
       "            return resolve(paths[lib]);\n",
       "          };\n",
       "          s.onerror = () => reject(`Error loading script: ${paths[lib]}`);\n",
       "          s.src = paths[lib];\n",
       "        });\n",
       "    }\n",
       "\n",
       "    function showError(err) {\n",
       "      outputDiv.innerHTML = `<div class=\"error\" style=\"color:red;\">${err}</div>`;\n",
       "      throw err;\n",
       "    }\n",
       "\n",
       "    function displayChart(vegaEmbed) {\n",
       "      vegaEmbed(outputDiv, spec, embedOpt)\n",
       "        .catch(err => showError(`Javascript Error: ${err.message}<br>This usually means there's a typo in your chart specification. See the javascript console for the full traceback.`));\n",
       "    }\n",
       "\n",
       "    if(typeof define === \"function\" && define.amd) {\n",
       "      requirejs.config({paths});\n",
       "      require([\"vega-embed\"], displayChart, err => showError(`Error loading script: ${err.message}`));\n",
       "    } else {\n",
       "      maybeLoadScript(\"vega\", \"5\")\n",
       "        .then(() => maybeLoadScript(\"vega-lite\", \"4.17.0\"))\n",
       "        .then(() => maybeLoadScript(\"vega-embed\", \"6\"))\n",
       "        .catch(showError)\n",
       "        .then(() => displayChart(vegaEmbed));\n",
       "    }\n",
       "  })({\"config\": {\"view\": {\"continuousWidth\": 400, \"continuousHeight\": 300}}, \"layer\": [{\"data\": {\"name\": \"data-4357f50fbd5ec3c6deb5e30707cdab8d\"}, \"mark\": \"line\", \"encoding\": {\"color\": {\"value\": \"#FFAA00\"}, \"x\": {\"field\": \"hour\", \"type\": \"quantitative\"}, \"y\": {\"field\": \"rmse\", \"type\": \"quantitative\"}}, \"height\": 300, \"title\": {\"text\": [\"RMSE plot of Meridional in Fall\"], \"subtitle\": [\"sample size:13059\"], \"color\": \"green\"}, \"width\": 800}, {\"data\": {\"name\": \"data-b9dd60dc560f7891b967d8e82c37ad0c\"}, \"mark\": {\"type\": \"rule\", \"color\": \"#D2386C\"}, \"encoding\": {\"x\": {\"field\": \"Component\", \"type\": \"quantitative\"}}}], \"$schema\": \"https://vega.github.io/schema/vega-lite/v4.17.0.json\", \"datasets\": {\"data-4357f50fbd5ec3c6deb5e30707cdab8d\": [{\"rmse\": 2.2326753761367777, \"hour\": 0}, {\"rmse\": 2.9306246044691933, \"hour\": 1}, {\"rmse\": 3.3235946799240503, \"hour\": 2}, {\"rmse\": 4.285499847732283, \"hour\": 3}, {\"rmse\": 5.247896123947505, \"hour\": 4}, {\"rmse\": 3.593331120007824, \"hour\": 5}, {\"rmse\": 4.404103455370923, \"hour\": 6}, {\"rmse\": 3.8342054830924184, \"hour\": 7}, {\"rmse\": 3.6841869553282267, \"hour\": 8}, {\"rmse\": 2.9727776285282603, \"hour\": 9}, {\"rmse\": 3.1421641656893047, \"hour\": 10}, {\"rmse\": 2.93121502452041, \"hour\": 11}, {\"rmse\": 2.85803457179487, \"hour\": 12}, {\"rmse\": 3.190834082013024, \"hour\": 13}, {\"rmse\": 2.745964146469394, \"hour\": 14}, {\"rmse\": 2.8169218252905495, \"hour\": 15}, {\"rmse\": 2.00722306742544, \"hour\": 16}, {\"rmse\": 2.062734283336456, \"hour\": 17}, {\"rmse\": 1.9816759882443786, \"hour\": 18}, {\"rmse\": 2.3867488324042276, \"hour\": 19}, {\"rmse\": 2.7119275748489593, \"hour\": 20}, {\"rmse\": 2.468426342680438, \"hour\": 21}, {\"rmse\": 2.4361480305025385, \"hour\": 22}, {\"rmse\": 2.1260264412764855, \"hour\": 23}, {\"rmse\": 2.264993737951405, \"hour\": 24}, {\"rmse\": 3.0824642304376337, \"hour\": 25}, {\"rmse\": 3.668819902151843, \"hour\": 26}, {\"rmse\": 4.326070232068016, \"hour\": 27}, {\"rmse\": 5.090768627544078, \"hour\": 28}, {\"rmse\": 4.719749419217274, \"hour\": 29}, {\"rmse\": 4.634975220585736, \"hour\": 30}, {\"rmse\": 4.484228676502963, \"hour\": 31}, {\"rmse\": 3.586047561690443, \"hour\": 32}, {\"rmse\": 3.7323956178041633, \"hour\": 33}, {\"rmse\": 3.614725917374449, \"hour\": 34}, {\"rmse\": 3.280502293360952, \"hour\": 35}, {\"rmse\": 2.977805662904988, \"hour\": 36}, {\"rmse\": 3.216314740265144, \"hour\": 37}, {\"rmse\": 2.7960330203472314, \"hour\": 38}, {\"rmse\": 2.7502006020475234, \"hour\": 39}, {\"rmse\": 1.8605405328161384, \"hour\": 40}, {\"rmse\": 2.187143519141238, \"hour\": 41}, {\"rmse\": 2.078953179624965, \"hour\": 42}, {\"rmse\": 2.5044911781323957, \"hour\": 43}, {\"rmse\": 2.4390710251094974, \"hour\": 44}, {\"rmse\": 2.5419693439536815, \"hour\": 45}, {\"rmse\": 2.59405618668142, \"hour\": 46}, {\"rmse\": 2.3008201428780404, \"hour\": 47}, {\"rmse\": 2.5392522160326156, \"hour\": 48}, {\"rmse\": 2.9958814409495065, \"hour\": 49}, {\"rmse\": 4.139512456767181, \"hour\": 50}, {\"rmse\": 4.708998237010127, \"hour\": 51}, {\"rmse\": 4.6435058010716865, \"hour\": 52}, {\"rmse\": 4.192387465403928, \"hour\": 53}, {\"rmse\": 4.259396707050628, \"hour\": 54}, {\"rmse\": 4.216913675661526, \"hour\": 55}, {\"rmse\": 3.8045970025692064, \"hour\": 56}, {\"rmse\": 3.2503243681533083, \"hour\": 57}, {\"rmse\": 3.8848194365760245, \"hour\": 58}, {\"rmse\": 2.8369021665405323, \"hour\": 59}, {\"rmse\": 3.3191184940636504, \"hour\": 60}, {\"rmse\": 3.368218487568702, \"hour\": 61}, {\"rmse\": 3.0311367262260474, \"hour\": 62}, {\"rmse\": 2.5777673644671304, \"hour\": 63}, {\"rmse\": 1.9772924702624866, \"hour\": 64}, {\"rmse\": 2.192548052957793, \"hour\": 65}, {\"rmse\": 2.0392403504669816, \"hour\": 66}, {\"rmse\": 2.3587447657395413, \"hour\": 67}, {\"rmse\": 2.5913233672586484, \"hour\": 68}, {\"rmse\": 2.520730229047393, \"hour\": 69}, {\"rmse\": 2.349621582468127, \"hour\": 70}, {\"rmse\": 2.0308646584694228, \"hour\": 71}], \"data-b9dd60dc560f7891b967d8e82c37ad0c\": [{\"Component\": 24}, {\"Component\": 48}, {\"Component\": 72}]}}, {\"mode\": \"vega-lite\"});\n",
       "</script>"
      ],
      "text/plain": [
       "alt.LayerChart(...)"
      ]
     },
     "execution_count": 59,
     "metadata": {},
     "output_type": "execute_result"
    }
   ],
   "source": [
    "plotrmse(Fal_rmse_meridional,'rmse',\"RMSE plot of Meridional in Fall\",\"sample size:\" +  str(Fal[\"meridional_dif\"].count()))"
   ]
  },
  {
   "cell_type": "markdown",
   "id": "110b5214-8788-41cf-9a29-8331789ab0a4",
   "metadata": {},
   "source": [
    "#### MB:"
   ]
  },
  {
   "cell_type": "code",
   "execution_count": 60,
   "id": "f21f1fb6-609a-4747-b01a-5855077b5d41",
   "metadata": {},
   "outputs": [],
   "source": [
    "# 1. Calculate the difference\n",
    "Fal[\"zonal_dif\"] = Fal[\"modzonal\"] - Fal[\"obszonal\"]\n",
    "Fal[\"meridional_dif\"] = Fal[\"modmeridional\"] - Fal[\"obsmeridional\"]"
   ]
  },
  {
   "cell_type": "code",
   "execution_count": 61,
   "id": "ecbb2486-ab0d-42a5-8859-74f5310cc02b",
   "metadata": {},
   "outputs": [],
   "source": [
    "# 2. Group by hour and sum\n",
    "Fal_sum_zonal = Fal.groupby(\"hour\")[\"zonal_dif\"].sum()\n",
    "Fal_sum_meridional = Fal.groupby(\"hour\")[\"meridional_dif\"].sum()"
   ]
  },
  {
   "cell_type": "code",
   "execution_count": 65,
   "id": "082f302e-bcf1-4485-a3c5-b9629615bf4b",
   "metadata": {},
   "outputs": [],
   "source": [
    "# 3. Divide the sums by n and take square root, calculate rmse and make it a dataframe\n",
    "count = Fal.groupby(\"hour\").count()\n",
    "\n",
    "# Now we calculate rmse for each variable\n",
    "Fal_mb_zonal = mb(Fal_sum_zonal,count[\"obszonal\"])\n",
    "Fal_mb_meridional = mb(Fal_sum_meridional,count[\"obsmeridional\"])"
   ]
  },
  {
   "cell_type": "code",
   "execution_count": 66,
   "id": "04f804a1-552d-46e6-801f-805e9113a510",
   "metadata": {},
   "outputs": [
    {
     "data": {
      "text/html": [
       "\n",
       "<div id=\"altair-viz-1e81df15a6ca40169a9193ec9e59292f\"></div>\n",
       "<script type=\"text/javascript\">\n",
       "  var VEGA_DEBUG = (typeof VEGA_DEBUG == \"undefined\") ? {} : VEGA_DEBUG;\n",
       "  (function(spec, embedOpt){\n",
       "    let outputDiv = document.currentScript.previousElementSibling;\n",
       "    if (outputDiv.id !== \"altair-viz-1e81df15a6ca40169a9193ec9e59292f\") {\n",
       "      outputDiv = document.getElementById(\"altair-viz-1e81df15a6ca40169a9193ec9e59292f\");\n",
       "    }\n",
       "    const paths = {\n",
       "      \"vega\": \"https://cdn.jsdelivr.net/npm//vega@5?noext\",\n",
       "      \"vega-lib\": \"https://cdn.jsdelivr.net/npm//vega-lib?noext\",\n",
       "      \"vega-lite\": \"https://cdn.jsdelivr.net/npm//vega-lite@4.17.0?noext\",\n",
       "      \"vega-embed\": \"https://cdn.jsdelivr.net/npm//vega-embed@6?noext\",\n",
       "    };\n",
       "\n",
       "    function maybeLoadScript(lib, version) {\n",
       "      var key = `${lib.replace(\"-\", \"\")}_version`;\n",
       "      return (VEGA_DEBUG[key] == version) ?\n",
       "        Promise.resolve(paths[lib]) :\n",
       "        new Promise(function(resolve, reject) {\n",
       "          var s = document.createElement('script');\n",
       "          document.getElementsByTagName(\"head\")[0].appendChild(s);\n",
       "          s.async = true;\n",
       "          s.onload = () => {\n",
       "            VEGA_DEBUG[key] = version;\n",
       "            return resolve(paths[lib]);\n",
       "          };\n",
       "          s.onerror = () => reject(`Error loading script: ${paths[lib]}`);\n",
       "          s.src = paths[lib];\n",
       "        });\n",
       "    }\n",
       "\n",
       "    function showError(err) {\n",
       "      outputDiv.innerHTML = `<div class=\"error\" style=\"color:red;\">${err}</div>`;\n",
       "      throw err;\n",
       "    }\n",
       "\n",
       "    function displayChart(vegaEmbed) {\n",
       "      vegaEmbed(outputDiv, spec, embedOpt)\n",
       "        .catch(err => showError(`Javascript Error: ${err.message}<br>This usually means there's a typo in your chart specification. See the javascript console for the full traceback.`));\n",
       "    }\n",
       "\n",
       "    if(typeof define === \"function\" && define.amd) {\n",
       "      requirejs.config({paths});\n",
       "      require([\"vega-embed\"], displayChart, err => showError(`Error loading script: ${err.message}`));\n",
       "    } else {\n",
       "      maybeLoadScript(\"vega\", \"5\")\n",
       "        .then(() => maybeLoadScript(\"vega-lite\", \"4.17.0\"))\n",
       "        .then(() => maybeLoadScript(\"vega-embed\", \"6\"))\n",
       "        .catch(showError)\n",
       "        .then(() => displayChart(vegaEmbed));\n",
       "    }\n",
       "  })({\"config\": {\"view\": {\"continuousWidth\": 400, \"continuousHeight\": 300}}, \"layer\": [{\"data\": {\"name\": \"data-540075d0e5fec7f5b33be1b81abc7a90\"}, \"mark\": \"line\", \"encoding\": {\"color\": {\"value\": \"#FFAA00\"}, \"x\": {\"field\": \"hour\", \"type\": \"quantitative\"}, \"y\": {\"field\": \"mb\", \"type\": \"quantitative\"}}, \"height\": 300, \"title\": {\"text\": [\"Mean Bias plot of Zonal in Fall\"], \"subtitle\": [\"sample size:13059\"], \"color\": \"green\"}, \"width\": 800}, {\"data\": {\"name\": \"data-b9dd60dc560f7891b967d8e82c37ad0c\"}, \"mark\": {\"type\": \"rule\", \"color\": \"#D2386C\"}, \"encoding\": {\"x\": {\"field\": \"Component\", \"type\": \"quantitative\"}}}], \"$schema\": \"https://vega.github.io/schema/vega-lite/v4.17.0.json\", \"datasets\": {\"data-540075d0e5fec7f5b33be1b81abc7a90\": [{\"mb\": -0.10697191249774952, \"hour\": 0}, {\"mb\": 0.19754142751126164, \"hour\": 1}, {\"mb\": 0.44040868850667203, \"hour\": 2}, {\"mb\": 0.1902776192199529, \"hour\": 3}, {\"mb\": 0.26768189356366984, \"hour\": 4}, {\"mb\": 0.20285888059929075, \"hour\": 5}, {\"mb\": -0.20830630157597635, \"hour\": 6}, {\"mb\": 0.08143565885013315, \"hour\": 7}, {\"mb\": -0.31508247531164285, \"hour\": 8}, {\"mb\": -0.4153788367482014, \"hour\": 9}, {\"mb\": 0.17571979814824973, \"hour\": 10}, {\"mb\": 0.1512036736251343, \"hour\": 11}, {\"mb\": 0.2041017396807628, \"hour\": 12}, {\"mb\": -0.11084058100954296, \"hour\": 13}, {\"mb\": 0.5029246970177057, \"hour\": 14}, {\"mb\": 0.0973315001879309, \"hour\": 15}, {\"mb\": -0.2013615745146282, \"hour\": 16}, {\"mb\": -0.04286355228584787, \"hour\": 17}, {\"mb\": 0.1580623135797956, \"hour\": 18}, {\"mb\": -0.1614318347749299, \"hour\": 19}, {\"mb\": 0.025113612499316845, \"hour\": 20}, {\"mb\": -0.19896813712673317, \"hour\": 21}, {\"mb\": 0.07692028180087485, \"hour\": 22}, {\"mb\": -0.055619723492657015, \"hour\": 23}, {\"mb\": 0.06038037091205845, \"hour\": 24}, {\"mb\": 0.32303497518234353, \"hour\": 25}, {\"mb\": 0.17020226161455657, \"hour\": 26}, {\"mb\": -0.1947657123230486, \"hour\": 27}, {\"mb\": 0.3954476962521481, \"hour\": 28}, {\"mb\": -0.31782163571645744, \"hour\": 29}, {\"mb\": 0.09833098458293964, \"hour\": 30}, {\"mb\": -0.11840832336626807, \"hour\": 31}, {\"mb\": -0.038590960572198234, \"hour\": 32}, {\"mb\": -0.2637636811664317, \"hour\": 33}, {\"mb\": 0.20334221902548344, \"hour\": 34}, {\"mb\": 0.16299454140613412, \"hour\": 35}, {\"mb\": 0.15693913028855103, \"hour\": 36}, {\"mb\": 0.18678257275740273, \"hour\": 37}, {\"mb\": 0.35521249730645793, \"hour\": 38}, {\"mb\": 0.03502850815754092, \"hour\": 39}, {\"mb\": -0.11783907246733151, \"hour\": 40}, {\"mb\": -0.004090478057329503, \"hour\": 41}, {\"mb\": 0.08824569958060498, \"hour\": 42}, {\"mb\": -0.23796359292215907, \"hour\": 43}, {\"mb\": -0.23515647652133778, \"hour\": 44}, {\"mb\": -0.17062259552748116, \"hour\": 45}, {\"mb\": 0.005621407342959421, \"hour\": 46}, {\"mb\": -0.2661364709828438, \"hour\": 47}, {\"mb\": -0.04122266689966988, \"hour\": 48}, {\"mb\": 0.28783414178833894, \"hour\": 49}, {\"mb\": 0.39010088113452324, \"hour\": 50}, {\"mb\": -0.078001395746728, \"hour\": 51}, {\"mb\": 0.6148047009965893, \"hour\": 52}, {\"mb\": -0.4697462923885426, \"hour\": 53}, {\"mb\": -0.3594383815858402, \"hour\": 54}, {\"mb\": 0.07670273065142207, \"hour\": 55}, {\"mb\": 0.12221275784364989, \"hour\": 56}, {\"mb\": -0.22152351295793632, \"hour\": 57}, {\"mb\": 0.038398933615810364, \"hour\": 58}, {\"mb\": 0.1538098574555509, \"hour\": 59}, {\"mb\": 0.09133508582589968, \"hour\": 60}, {\"mb\": -0.1783914629987399, \"hour\": 61}, {\"mb\": 0.4433134178100194, \"hour\": 62}, {\"mb\": 0.10078981391102586, \"hour\": 63}, {\"mb\": -0.21225028802351323, \"hour\": 64}, {\"mb\": 0.09314949927162465, \"hour\": 65}, {\"mb\": 0.04194983092596366, \"hour\": 66}, {\"mb\": -0.07242571391759918, \"hour\": 67}, {\"mb\": -0.11792410975206094, \"hour\": 68}, {\"mb\": -0.16539458893677028, \"hour\": 69}, {\"mb\": 0.14742217758099127, \"hour\": 70}, {\"mb\": -0.060334701008225876, \"hour\": 71}], \"data-b9dd60dc560f7891b967d8e82c37ad0c\": [{\"Component\": 24}, {\"Component\": 48}, {\"Component\": 72}]}}, {\"mode\": \"vega-lite\"});\n",
       "</script>"
      ],
      "text/plain": [
       "alt.LayerChart(...)"
      ]
     },
     "execution_count": 66,
     "metadata": {},
     "output_type": "execute_result"
    }
   ],
   "source": [
    "plotrmse(Fal_mb_zonal,'mb',\"Mean Bias plot of Zonal in Fall\",\"sample size:\" +  str(Fal[\"zonal_dif\"].count()))"
   ]
  },
  {
   "cell_type": "code",
   "execution_count": 68,
   "id": "744f0b58-fb57-4c65-8777-0975ad4201f3",
   "metadata": {},
   "outputs": [
    {
     "data": {
      "text/html": [
       "\n",
       "<div id=\"altair-viz-ff55e53807484f3fbc9e48d247936bd5\"></div>\n",
       "<script type=\"text/javascript\">\n",
       "  var VEGA_DEBUG = (typeof VEGA_DEBUG == \"undefined\") ? {} : VEGA_DEBUG;\n",
       "  (function(spec, embedOpt){\n",
       "    let outputDiv = document.currentScript.previousElementSibling;\n",
       "    if (outputDiv.id !== \"altair-viz-ff55e53807484f3fbc9e48d247936bd5\") {\n",
       "      outputDiv = document.getElementById(\"altair-viz-ff55e53807484f3fbc9e48d247936bd5\");\n",
       "    }\n",
       "    const paths = {\n",
       "      \"vega\": \"https://cdn.jsdelivr.net/npm//vega@5?noext\",\n",
       "      \"vega-lib\": \"https://cdn.jsdelivr.net/npm//vega-lib?noext\",\n",
       "      \"vega-lite\": \"https://cdn.jsdelivr.net/npm//vega-lite@4.17.0?noext\",\n",
       "      \"vega-embed\": \"https://cdn.jsdelivr.net/npm//vega-embed@6?noext\",\n",
       "    };\n",
       "\n",
       "    function maybeLoadScript(lib, version) {\n",
       "      var key = `${lib.replace(\"-\", \"\")}_version`;\n",
       "      return (VEGA_DEBUG[key] == version) ?\n",
       "        Promise.resolve(paths[lib]) :\n",
       "        new Promise(function(resolve, reject) {\n",
       "          var s = document.createElement('script');\n",
       "          document.getElementsByTagName(\"head\")[0].appendChild(s);\n",
       "          s.async = true;\n",
       "          s.onload = () => {\n",
       "            VEGA_DEBUG[key] = version;\n",
       "            return resolve(paths[lib]);\n",
       "          };\n",
       "          s.onerror = () => reject(`Error loading script: ${paths[lib]}`);\n",
       "          s.src = paths[lib];\n",
       "        });\n",
       "    }\n",
       "\n",
       "    function showError(err) {\n",
       "      outputDiv.innerHTML = `<div class=\"error\" style=\"color:red;\">${err}</div>`;\n",
       "      throw err;\n",
       "    }\n",
       "\n",
       "    function displayChart(vegaEmbed) {\n",
       "      vegaEmbed(outputDiv, spec, embedOpt)\n",
       "        .catch(err => showError(`Javascript Error: ${err.message}<br>This usually means there's a typo in your chart specification. See the javascript console for the full traceback.`));\n",
       "    }\n",
       "\n",
       "    if(typeof define === \"function\" && define.amd) {\n",
       "      requirejs.config({paths});\n",
       "      require([\"vega-embed\"], displayChart, err => showError(`Error loading script: ${err.message}`));\n",
       "    } else {\n",
       "      maybeLoadScript(\"vega\", \"5\")\n",
       "        .then(() => maybeLoadScript(\"vega-lite\", \"4.17.0\"))\n",
       "        .then(() => maybeLoadScript(\"vega-embed\", \"6\"))\n",
       "        .catch(showError)\n",
       "        .then(() => displayChart(vegaEmbed));\n",
       "    }\n",
       "  })({\"config\": {\"view\": {\"continuousWidth\": 400, \"continuousHeight\": 300}}, \"layer\": [{\"data\": {\"name\": \"data-a5bd81360f4f4bb54ded66e2f91f5679\"}, \"mark\": \"line\", \"encoding\": {\"color\": {\"value\": \"#FFAA00\"}, \"x\": {\"field\": \"hour\", \"type\": \"quantitative\"}, \"y\": {\"field\": \"mb\", \"type\": \"quantitative\"}}, \"height\": 300, \"title\": {\"text\": [\"Mean Bias plot of Meridional in Fall\"], \"subtitle\": [\"sample size:13059\"], \"color\": \"green\"}, \"width\": 800}, {\"data\": {\"name\": \"data-b9dd60dc560f7891b967d8e82c37ad0c\"}, \"mark\": {\"type\": \"rule\", \"color\": \"#D2386C\"}, \"encoding\": {\"x\": {\"field\": \"Component\", \"type\": \"quantitative\"}}}], \"$schema\": \"https://vega.github.io/schema/vega-lite/v4.17.0.json\", \"datasets\": {\"data-a5bd81360f4f4bb54ded66e2f91f5679\": [{\"mb\": 0.07942856732931908, \"hour\": 0}, {\"mb\": -0.6165991139979702, \"hour\": 1}, {\"mb\": -0.0084625166604645, \"hour\": 2}, {\"mb\": 0.35812607201387453, \"hour\": 3}, {\"mb\": 0.02672717861747498, \"hour\": 4}, {\"mb\": 0.04535931403742786, \"hour\": 5}, {\"mb\": -0.2814435222739842, \"hour\": 6}, {\"mb\": -0.3771460446433947, \"hour\": 7}, {\"mb\": -0.5191883342882213, \"hour\": 8}, {\"mb\": 0.08388517045572688, \"hour\": 9}, {\"mb\": -0.3493843757470015, \"hour\": 10}, {\"mb\": 0.14642901986573792, \"hour\": 11}, {\"mb\": 0.056461770382368034, \"hour\": 12}, {\"mb\": -0.1381271389419564, \"hour\": 13}, {\"mb\": 0.026307988015658087, \"hour\": 14}, {\"mb\": -0.4414529232184886, \"hour\": 15}, {\"mb\": -0.2715004442807659, \"hour\": 16}, {\"mb\": -0.1472618882098757, \"hour\": 17}, {\"mb\": 0.06467423517962509, \"hour\": 18}, {\"mb\": 0.06748964238918573, \"hour\": 19}, {\"mb\": -0.3173087635984248, \"hour\": 20}, {\"mb\": 0.19621946342129803, \"hour\": 21}, {\"mb\": -0.009491353415187637, \"hour\": 22}, {\"mb\": -0.23274164166962, \"hour\": 23}, {\"mb\": 0.061507537940407524, \"hour\": 24}, {\"mb\": -0.5708866752303237, \"hour\": 25}, {\"mb\": -0.0016358114824719882, \"hour\": 26}, {\"mb\": 0.35290971514903646, \"hour\": 27}, {\"mb\": -0.09483599615229195, \"hour\": 28}, {\"mb\": -0.34689036731253636, \"hour\": 29}, {\"mb\": -0.11144714107924814, \"hour\": 30}, {\"mb\": -0.2638580939733723, \"hour\": 31}, {\"mb\": -0.5428974419500038, \"hour\": 32}, {\"mb\": 0.16982529221063755, \"hour\": 33}, {\"mb\": -0.5138102867898615, \"hour\": 34}, {\"mb\": 0.2470781968197663, \"hour\": 35}, {\"mb\": 0.026114400825640708, \"hour\": 36}, {\"mb\": 0.15570278880584495, \"hour\": 37}, {\"mb\": 0.12318226201061912, \"hour\": 38}, {\"mb\": -0.3922789700403134, \"hour\": 39}, {\"mb\": -0.166034350109905, \"hour\": 40}, {\"mb\": -0.332560024845295, \"hour\": 41}, {\"mb\": -0.011728947964678974, \"hour\": 42}, {\"mb\": -0.17514946598448095, \"hour\": 43}, {\"mb\": -0.27461924549796113, \"hour\": 44}, {\"mb\": 0.2003783634667431, \"hour\": 45}, {\"mb\": 0.15066645480153862, \"hour\": 46}, {\"mb\": 0.1563172192248281, \"hour\": 47}, {\"mb\": 0.025554253754095035, \"hour\": 48}, {\"mb\": -0.6229919463877603, \"hour\": 49}, {\"mb\": 0.1510569634208997, \"hour\": 50}, {\"mb\": 0.2204674423722368, \"hour\": 51}, {\"mb\": 0.06416094368161208, \"hour\": 52}, {\"mb\": -0.07539126380291344, \"hour\": 53}, {\"mb\": -0.09595890314432422, \"hour\": 54}, {\"mb\": -0.3812477838137626, \"hour\": 55}, {\"mb\": -0.33553513019033243, \"hour\": 56}, {\"mb\": 0.12831153904052223, \"hour\": 57}, {\"mb\": -0.7655283867832394, \"hour\": 58}, {\"mb\": 0.1981402749469655, \"hour\": 59}, {\"mb\": -0.1459319818939792, \"hour\": 60}, {\"mb\": 0.06063338042974442, \"hour\": 61}, {\"mb\": -0.22564556459614535, \"hour\": 62}, {\"mb\": 0.09755845796488637, \"hour\": 63}, {\"mb\": -0.1531652548149106, \"hour\": 64}, {\"mb\": -0.247991953299493, \"hour\": 65}, {\"mb\": 0.0882957688494748, \"hour\": 66}, {\"mb\": 0.2682532099654725, \"hour\": 67}, {\"mb\": -0.24257675062398815, \"hour\": 68}, {\"mb\": -0.10684330402080233, \"hour\": 69}, {\"mb\": 0.0956648833712815, \"hour\": 70}, {\"mb\": -0.11881200842657642, \"hour\": 71}], \"data-b9dd60dc560f7891b967d8e82c37ad0c\": [{\"Component\": 24}, {\"Component\": 48}, {\"Component\": 72}]}}, {\"mode\": \"vega-lite\"});\n",
       "</script>"
      ],
      "text/plain": [
       "alt.LayerChart(...)"
      ]
     },
     "execution_count": 68,
     "metadata": {},
     "output_type": "execute_result"
    }
   ],
   "source": [
    "plotrmse(Fal_mb_meridional,'mb',\"Mean Bias plot of Meridional in Fall\",\"sample size:\" +  str(Fal[\"meridional_dif\"].count()))"
   ]
  },
  {
   "cell_type": "markdown",
   "id": "27ea39e9-f63b-42ef-bd29-c0c0b8d2b307",
   "metadata": {},
   "source": [
    "#### Correlation:"
   ]
  },
  {
   "cell_type": "code",
   "execution_count": 69,
   "id": "8cc37c5c-0336-446b-b9a0-26d76f4e5b15",
   "metadata": {},
   "outputs": [],
   "source": [
    "# Calculate the list\n",
    "modzonal_list = create_list(Fal,\"modzonal\")\n",
    "obszonal_list = create_list(Fal,\"obszonal\")\n",
    "modmeridional_list = create_list(Fal,\"modmeridional\")\n",
    "obsmeridional_list = create_list(Fal,\"obsmeridional\")"
   ]
  },
  {
   "cell_type": "code",
   "execution_count": 70,
   "id": "69383f89-0316-44b1-8d9f-306830427e6e",
   "metadata": {},
   "outputs": [],
   "source": [
    "up_modzonal_list,up_obszonal_list = removeNan(index(modzonal_list,obszonal_list),modzonal_list,obszonal_list)\n",
    "up_modmeridional_list,up_obsmeridional_list = removeNan(index(modmeridional_list,obsmeridional_list),modmeridional_list,obsmeridional_list)"
   ]
  },
  {
   "cell_type": "code",
   "execution_count": 71,
   "id": "17a6aca1-ad83-4706-b390-9a1774799eb6",
   "metadata": {},
   "outputs": [],
   "source": [
    "corr_zonal = correlation(up_modzonal_list,up_obszonal_list)\n",
    "corr_meridional = correlation(up_modmeridional_list,up_obsmeridional_list)"
   ]
  },
  {
   "cell_type": "code",
   "execution_count": 72,
   "id": "81d738cb-5d7f-483b-97c0-41d9c37395b9",
   "metadata": {},
   "outputs": [
    {
     "data": {
      "text/html": [
       "\n",
       "<div id=\"altair-viz-c7f0b66e1ef44348998d0e0297fec3f6\"></div>\n",
       "<script type=\"text/javascript\">\n",
       "  var VEGA_DEBUG = (typeof VEGA_DEBUG == \"undefined\") ? {} : VEGA_DEBUG;\n",
       "  (function(spec, embedOpt){\n",
       "    let outputDiv = document.currentScript.previousElementSibling;\n",
       "    if (outputDiv.id !== \"altair-viz-c7f0b66e1ef44348998d0e0297fec3f6\") {\n",
       "      outputDiv = document.getElementById(\"altair-viz-c7f0b66e1ef44348998d0e0297fec3f6\");\n",
       "    }\n",
       "    const paths = {\n",
       "      \"vega\": \"https://cdn.jsdelivr.net/npm//vega@5?noext\",\n",
       "      \"vega-lib\": \"https://cdn.jsdelivr.net/npm//vega-lib?noext\",\n",
       "      \"vega-lite\": \"https://cdn.jsdelivr.net/npm//vega-lite@4.17.0?noext\",\n",
       "      \"vega-embed\": \"https://cdn.jsdelivr.net/npm//vega-embed@6?noext\",\n",
       "    };\n",
       "\n",
       "    function maybeLoadScript(lib, version) {\n",
       "      var key = `${lib.replace(\"-\", \"\")}_version`;\n",
       "      return (VEGA_DEBUG[key] == version) ?\n",
       "        Promise.resolve(paths[lib]) :\n",
       "        new Promise(function(resolve, reject) {\n",
       "          var s = document.createElement('script');\n",
       "          document.getElementsByTagName(\"head\")[0].appendChild(s);\n",
       "          s.async = true;\n",
       "          s.onload = () => {\n",
       "            VEGA_DEBUG[key] = version;\n",
       "            return resolve(paths[lib]);\n",
       "          };\n",
       "          s.onerror = () => reject(`Error loading script: ${paths[lib]}`);\n",
       "          s.src = paths[lib];\n",
       "        });\n",
       "    }\n",
       "\n",
       "    function showError(err) {\n",
       "      outputDiv.innerHTML = `<div class=\"error\" style=\"color:red;\">${err}</div>`;\n",
       "      throw err;\n",
       "    }\n",
       "\n",
       "    function displayChart(vegaEmbed) {\n",
       "      vegaEmbed(outputDiv, spec, embedOpt)\n",
       "        .catch(err => showError(`Javascript Error: ${err.message}<br>This usually means there's a typo in your chart specification. See the javascript console for the full traceback.`));\n",
       "    }\n",
       "\n",
       "    if(typeof define === \"function\" && define.amd) {\n",
       "      requirejs.config({paths});\n",
       "      require([\"vega-embed\"], displayChart, err => showError(`Error loading script: ${err.message}`));\n",
       "    } else {\n",
       "      maybeLoadScript(\"vega\", \"5\")\n",
       "        .then(() => maybeLoadScript(\"vega-lite\", \"4.17.0\"))\n",
       "        .then(() => maybeLoadScript(\"vega-embed\", \"6\"))\n",
       "        .catch(showError)\n",
       "        .then(() => displayChart(vegaEmbed));\n",
       "    }\n",
       "  })({\"config\": {\"view\": {\"continuousWidth\": 400, \"continuousHeight\": 300}}, \"layer\": [{\"data\": {\"name\": \"data-cb5c1dd7f52bd01912c7c39e50528fd2\"}, \"mark\": \"line\", \"encoding\": {\"color\": {\"value\": \"#FFAA00\"}, \"x\": {\"field\": \"hour\", \"type\": \"quantitative\"}, \"y\": {\"field\": \"corr\", \"type\": \"quantitative\"}}, \"height\": 300, \"title\": {\"text\": [\"Correlation plot of Zonal in Fall\"], \"subtitle\": [\"sample size:13059\"], \"color\": \"green\"}, \"width\": 800}, {\"data\": {\"name\": \"data-b9dd60dc560f7891b967d8e82c37ad0c\"}, \"mark\": {\"type\": \"rule\", \"color\": \"#D2386C\"}, \"encoding\": {\"x\": {\"field\": \"Component\", \"type\": \"quantitative\"}}}], \"$schema\": \"https://vega.github.io/schema/vega-lite/v4.17.0.json\", \"datasets\": {\"data-cb5c1dd7f52bd01912c7c39e50528fd2\": [{\"corr\": 0.06277992842976834, \"hour\": 0}, {\"corr\": 0.03987535444698756, \"hour\": 1}, {\"corr\": 0.10950713851632915, \"hour\": 2}, {\"corr\": 0.1941959385426438, \"hour\": 3}, {\"corr\": 0.060753691296409666, \"hour\": 4}, {\"corr\": -0.018683259356637255, \"hour\": 5}, {\"corr\": -0.10287819951627812, \"hour\": 6}, {\"corr\": 0.019836375732487036, \"hour\": 7}, {\"corr\": 0.13858931525040968, \"hour\": 8}, {\"corr\": 0.01011427474746197, \"hour\": 9}, {\"corr\": 0.04075804913081065, \"hour\": 10}, {\"corr\": -0.04530215473033395, \"hour\": 11}, {\"corr\": 0.14116593053128798, \"hour\": 12}, {\"corr\": -0.09482694010448434, \"hour\": 13}, {\"corr\": -0.21045588534316573, \"hour\": 14}, {\"corr\": -0.17995806136843345, \"hour\": 15}, {\"corr\": 0.12793298470996994, \"hour\": 16}, {\"corr\": 0.24545201105454842, \"hour\": 17}, {\"corr\": -0.07091198775612911, \"hour\": 18}, {\"corr\": 0.06119963045760131, \"hour\": 19}, {\"corr\": 0.20077141520381975, \"hour\": 20}, {\"corr\": -0.01885110984466586, \"hour\": 21}, {\"corr\": 0.042519039116122904, \"hour\": 22}, {\"corr\": -0.035658708972847585, \"hour\": 23}, {\"corr\": 0.0615603090550222, \"hour\": 24}, {\"corr\": -0.2260895265671627, \"hour\": 25}, {\"corr\": -0.18042462317855962, \"hour\": 26}, {\"corr\": 0.12222852128698088, \"hour\": 27}, {\"corr\": 0.08983941177643294, \"hour\": 28}, {\"corr\": -0.06614250505749832, \"hour\": 29}, {\"corr\": 0.25544251344777186, \"hour\": 30}, {\"corr\": -0.01450419718722027, \"hour\": 31}, {\"corr\": -0.13031929378244322, \"hour\": 32}, {\"corr\": -0.016903515768628675, \"hour\": 33}, {\"corr\": 0.08661851650756784, \"hour\": 34}, {\"corr\": -0.007628366584621189, \"hour\": 35}, {\"corr\": -0.1623372483041851, \"hour\": 36}, {\"corr\": 0.010117636775495391, \"hour\": 37}, {\"corr\": 0.14506687491674786, \"hour\": 38}, {\"corr\": 0.05403278819610781, \"hour\": 39}, {\"corr\": 0.09573552308662715, \"hour\": 40}, {\"corr\": 0.10977599309982825, \"hour\": 41}, {\"corr\": 0.1261652482351346, \"hour\": 42}, {\"corr\": 0.11620051552735951, \"hour\": 43}, {\"corr\": 0.06395722515964049, \"hour\": 44}, {\"corr\": -0.029989229601598767, \"hour\": 45}, {\"corr\": 0.0030716279758681102, \"hour\": 46}, {\"corr\": -0.03158171919227729, \"hour\": 47}, {\"corr\": -0.018897451877232452, \"hour\": 48}, {\"corr\": 0.20151557925334784, \"hour\": 49}, {\"corr\": -0.27536190252498016, \"hour\": 50}, {\"corr\": 0.06162789539474917, \"hour\": 51}, {\"corr\": -0.1473311160604328, \"hour\": 52}, {\"corr\": -0.02136789662000002, \"hour\": 53}, {\"corr\": 0.12209737693436802, \"hour\": 54}, {\"corr\": -0.04207722193061326, \"hour\": 55}, {\"corr\": 0.04877713802217724, \"hour\": 56}, {\"corr\": -0.15447294117583302, \"hour\": 57}, {\"corr\": -0.25883650180007967, \"hour\": 58}, {\"corr\": 0.04452737786241696, \"hour\": 59}, {\"corr\": -0.23355234146328546, \"hour\": 60}, {\"corr\": -0.16575610539908575, \"hour\": 61}, {\"corr\": -0.044238970892312074, \"hour\": 62}, {\"corr\": -0.3014118241956683, \"hour\": 63}, {\"corr\": -0.07531141299764679, \"hour\": 64}, {\"corr\": 0.07699619339753279, \"hour\": 65}, {\"corr\": -0.006359080923144988, \"hour\": 66}, {\"corr\": -0.14098489871608735, \"hour\": 67}, {\"corr\": 0.043015947694028535, \"hour\": 68}, {\"corr\": -0.048741388418353467, \"hour\": 69}, {\"corr\": -0.12039723598333862, \"hour\": 70}, {\"corr\": 0.04238505447756833, \"hour\": 71}], \"data-b9dd60dc560f7891b967d8e82c37ad0c\": [{\"Component\": 24}, {\"Component\": 48}, {\"Component\": 72}]}}, {\"mode\": \"vega-lite\"});\n",
       "</script>"
      ],
      "text/plain": [
       "alt.LayerChart(...)"
      ]
     },
     "execution_count": 72,
     "metadata": {},
     "output_type": "execute_result"
    }
   ],
   "source": [
    "plotrmse(corr_zonal,'corr',\"Correlation plot of Zonal in Fall\",\"sample size:\" + str(size(up_obszonal_list)))"
   ]
  },
  {
   "cell_type": "code",
   "execution_count": 73,
   "id": "1b75902d-1a30-4c98-9f61-a9ff657f7789",
   "metadata": {},
   "outputs": [
    {
     "data": {
      "text/html": [
       "\n",
       "<div id=\"altair-viz-0f30083cb9a04d29ab2a0bf2a38efad1\"></div>\n",
       "<script type=\"text/javascript\">\n",
       "  var VEGA_DEBUG = (typeof VEGA_DEBUG == \"undefined\") ? {} : VEGA_DEBUG;\n",
       "  (function(spec, embedOpt){\n",
       "    let outputDiv = document.currentScript.previousElementSibling;\n",
       "    if (outputDiv.id !== \"altair-viz-0f30083cb9a04d29ab2a0bf2a38efad1\") {\n",
       "      outputDiv = document.getElementById(\"altair-viz-0f30083cb9a04d29ab2a0bf2a38efad1\");\n",
       "    }\n",
       "    const paths = {\n",
       "      \"vega\": \"https://cdn.jsdelivr.net/npm//vega@5?noext\",\n",
       "      \"vega-lib\": \"https://cdn.jsdelivr.net/npm//vega-lib?noext\",\n",
       "      \"vega-lite\": \"https://cdn.jsdelivr.net/npm//vega-lite@4.17.0?noext\",\n",
       "      \"vega-embed\": \"https://cdn.jsdelivr.net/npm//vega-embed@6?noext\",\n",
       "    };\n",
       "\n",
       "    function maybeLoadScript(lib, version) {\n",
       "      var key = `${lib.replace(\"-\", \"\")}_version`;\n",
       "      return (VEGA_DEBUG[key] == version) ?\n",
       "        Promise.resolve(paths[lib]) :\n",
       "        new Promise(function(resolve, reject) {\n",
       "          var s = document.createElement('script');\n",
       "          document.getElementsByTagName(\"head\")[0].appendChild(s);\n",
       "          s.async = true;\n",
       "          s.onload = () => {\n",
       "            VEGA_DEBUG[key] = version;\n",
       "            return resolve(paths[lib]);\n",
       "          };\n",
       "          s.onerror = () => reject(`Error loading script: ${paths[lib]}`);\n",
       "          s.src = paths[lib];\n",
       "        });\n",
       "    }\n",
       "\n",
       "    function showError(err) {\n",
       "      outputDiv.innerHTML = `<div class=\"error\" style=\"color:red;\">${err}</div>`;\n",
       "      throw err;\n",
       "    }\n",
       "\n",
       "    function displayChart(vegaEmbed) {\n",
       "      vegaEmbed(outputDiv, spec, embedOpt)\n",
       "        .catch(err => showError(`Javascript Error: ${err.message}<br>This usually means there's a typo in your chart specification. See the javascript console for the full traceback.`));\n",
       "    }\n",
       "\n",
       "    if(typeof define === \"function\" && define.amd) {\n",
       "      requirejs.config({paths});\n",
       "      require([\"vega-embed\"], displayChart, err => showError(`Error loading script: ${err.message}`));\n",
       "    } else {\n",
       "      maybeLoadScript(\"vega\", \"5\")\n",
       "        .then(() => maybeLoadScript(\"vega-lite\", \"4.17.0\"))\n",
       "        .then(() => maybeLoadScript(\"vega-embed\", \"6\"))\n",
       "        .catch(showError)\n",
       "        .then(() => displayChart(vegaEmbed));\n",
       "    }\n",
       "  })({\"config\": {\"view\": {\"continuousWidth\": 400, \"continuousHeight\": 300}}, \"layer\": [{\"data\": {\"name\": \"data-ac9a67b4c3b7f3ba7ce3e7902e8734e5\"}, \"mark\": \"line\", \"encoding\": {\"color\": {\"value\": \"#FFAA00\"}, \"x\": {\"field\": \"hour\", \"type\": \"quantitative\"}, \"y\": {\"field\": \"corr\", \"type\": \"quantitative\"}}, \"height\": 300, \"title\": {\"text\": [\"Correlation plot of Meridional in Fall\"], \"subtitle\": [\"sample size:13059\"], \"color\": \"green\"}, \"width\": 800}, {\"data\": {\"name\": \"data-b9dd60dc560f7891b967d8e82c37ad0c\"}, \"mark\": {\"type\": \"rule\", \"color\": \"#D2386C\"}, \"encoding\": {\"x\": {\"field\": \"Component\", \"type\": \"quantitative\"}}}], \"$schema\": \"https://vega.github.io/schema/vega-lite/v4.17.0.json\", \"datasets\": {\"data-ac9a67b4c3b7f3ba7ce3e7902e8734e5\": [{\"corr\": -0.01733031483630996, \"hour\": 0}, {\"corr\": -0.059162667882064035, \"hour\": 1}, {\"corr\": 0.20782322630318284, \"hour\": 2}, {\"corr\": -0.046660448839282095, \"hour\": 3}, {\"corr\": -0.2677202300232339, \"hour\": 4}, {\"corr\": 0.4151783246603562, \"hour\": 5}, {\"corr\": -0.06769170878553821, \"hour\": 6}, {\"corr\": 0.010627714570433686, \"hour\": 7}, {\"corr\": -0.032388760280225075, \"hour\": 8}, {\"corr\": 0.1519652277702759, \"hour\": 9}, {\"corr\": 0.0797089495465042, \"hour\": 10}, {\"corr\": -0.03470789693294251, \"hour\": 11}, {\"corr\": -0.0871811752806776, \"hour\": 12}, {\"corr\": -0.284073651092111, \"hour\": 13}, {\"corr\": -0.023933872717441112, \"hour\": 14}, {\"corr\": -0.2390597571426785, \"hour\": 15}, {\"corr\": -0.12255465481039628, \"hour\": 16}, {\"corr\": -0.1037928127979802, \"hour\": 17}, {\"corr\": 0.14346234391962098, \"hour\": 18}, {\"corr\": 0.025769164057051864, \"hour\": 19}, {\"corr\": -0.17307395666822675, \"hour\": 20}, {\"corr\": -0.02849585293653064, \"hour\": 21}, {\"corr\": 0.07266911027791842, \"hour\": 22}, {\"corr\": 0.1526675732524866, \"hour\": 23}, {\"corr\": 0.10606948251760828, \"hour\": 24}, {\"corr\": -0.012829368267337918, \"hour\": 25}, {\"corr\": 0.11973510604194706, \"hour\": 26}, {\"corr\": 0.0081893042949503, \"hour\": 27}, {\"corr\": -0.10600082460270806, \"hour\": 28}, {\"corr\": 0.017759123018590957, \"hour\": 29}, {\"corr\": -0.08817729963155387, \"hour\": 30}, {\"corr\": -0.280791055425735, \"hour\": 31}, {\"corr\": 0.14484959333128883, \"hour\": 32}, {\"corr\": -0.03639295877181332, \"hour\": 33}, {\"corr\": 0.03605099879176695, \"hour\": 34}, {\"corr\": -0.028191351131589885, \"hour\": 35}, {\"corr\": 0.02118129748087626, \"hour\": 36}, {\"corr\": -0.13224462393215908, \"hour\": 37}, {\"corr\": 0.10110300562588904, \"hour\": 38}, {\"corr\": -0.19332136941380815, \"hour\": 39}, {\"corr\": 0.0586236789522997, \"hour\": 40}, {\"corr\": -0.18244391010795388, \"hour\": 41}, {\"corr\": 0.025496192764196537, \"hour\": 42}, {\"corr\": -0.08908215773020538, \"hour\": 43}, {\"corr\": 0.11650959305392922, \"hour\": 44}, {\"corr\": -0.03247375431720646, \"hour\": 45}, {\"corr\": 0.024522017562071306, \"hour\": 46}, {\"corr\": 0.09786149435398907, \"hour\": 47}, {\"corr\": -0.22757206263926952, \"hour\": 48}, {\"corr\": 0.048915188007485136, \"hour\": 49}, {\"corr\": -0.11056355206685634, \"hour\": 50}, {\"corr\": -0.13036030390846856, \"hour\": 51}, {\"corr\": 0.1332810045825063, \"hour\": 52}, {\"corr\": 0.20378011992363848, \"hour\": 53}, {\"corr\": -0.018404147138556107, \"hour\": 54}, {\"corr\": -0.19262652219328555, \"hour\": 55}, {\"corr\": -0.02333372148960182, \"hour\": 56}, {\"corr\": 0.17468238509625642, \"hour\": 57}, {\"corr\": -0.0576838382422474, \"hour\": 58}, {\"corr\": 0.1990866959699425, \"hour\": 59}, {\"corr\": -0.026150616259035322, \"hour\": 60}, {\"corr\": -0.11009227751863876, \"hour\": 61}, {\"corr\": 0.00794338364388637, \"hour\": 62}, {\"corr\": 0.023658164246878284, \"hour\": 63}, {\"corr\": -0.15092812462992775, \"hour\": 64}, {\"corr\": -0.22615757433682174, \"hour\": 65}, {\"corr\": 0.0884799926166501, \"hour\": 66}, {\"corr\": -0.007755835978601538, \"hour\": 67}, {\"corr\": -0.013789968460045906, \"hour\": 68}, {\"corr\": -0.01602933263618693, \"hour\": 69}, {\"corr\": 0.08397575512570196, \"hour\": 70}, {\"corr\": 0.1812711887053123, \"hour\": 71}], \"data-b9dd60dc560f7891b967d8e82c37ad0c\": [{\"Component\": 24}, {\"Component\": 48}, {\"Component\": 72}]}}, {\"mode\": \"vega-lite\"});\n",
       "</script>"
      ],
      "text/plain": [
       "alt.LayerChart(...)"
      ]
     },
     "execution_count": 73,
     "metadata": {},
     "output_type": "execute_result"
    }
   ],
   "source": [
    "plotrmse(corr_meridional,'corr',\"Correlation plot of Meridional in Fall\",\"sample size:\" + str(size(up_obsmeridional_list)))"
   ]
  },
  {
   "cell_type": "markdown",
   "id": "bb85e965-f363-4bbe-8a24-2f4afa2f67e6",
   "metadata": {},
   "source": [
    "<br>\n",
    "\n",
    "### Winter:\n",
    "#### RMSE:"
   ]
  },
  {
   "cell_type": "code",
   "execution_count": 74,
   "id": "3cb455d8-ad6b-4254-b14c-d73e62bc1234",
   "metadata": {},
   "outputs": [],
   "source": [
    "# 1. Calculate the square difference\n",
    "Win[\"zonal_dif\"] = (Win[\"obszonal\"] - Win[\"modzonal\"])**2\n",
    "Win[\"meridional_dif\"] = (Win[\"obsmeridional\"] - Win[\"modmeridional\"])**2"
   ]
  },
  {
   "cell_type": "code",
   "execution_count": 75,
   "id": "8ea0faf0-43fc-4335-8666-40ececec8c13",
   "metadata": {},
   "outputs": [],
   "source": [
    "# 2. Group by hour and sum\n",
    "Win_sum_zonal = Win.groupby(\"hour\")[\"zonal_dif\"].sum()\n",
    "Win_sum_meridional = Win.groupby(\"hour\")[\"meridional_dif\"].sum()"
   ]
  },
  {
   "cell_type": "code",
   "execution_count": 76,
   "id": "3f93b4fd-40f7-493c-bf84-560620182562",
   "metadata": {},
   "outputs": [],
   "source": [
    "# 3. Divide the sums by n and take square root, calculate rmse and make it a dataframe\n",
    "count = Win.groupby(\"hour\").count()\n",
    "\n",
    "# Now we calculate rmse for each variable\n",
    "Win_rmse_zonal = rmse(Win_sum_zonal,count[\"obszonal\"])\n",
    "Win_rmse_meridional = rmse(Win_sum_meridional,count[\"obsmeridional\"])"
   ]
  },
  {
   "cell_type": "code",
   "execution_count": 77,
   "id": "72f02e73-be30-48a8-a677-e5b0969c3d5d",
   "metadata": {},
   "outputs": [
    {
     "data": {
      "text/html": [
       "\n",
       "<div id=\"altair-viz-aaae0d2ec9da4b26b49d1e27be51b3f0\"></div>\n",
       "<script type=\"text/javascript\">\n",
       "  var VEGA_DEBUG = (typeof VEGA_DEBUG == \"undefined\") ? {} : VEGA_DEBUG;\n",
       "  (function(spec, embedOpt){\n",
       "    let outputDiv = document.currentScript.previousElementSibling;\n",
       "    if (outputDiv.id !== \"altair-viz-aaae0d2ec9da4b26b49d1e27be51b3f0\") {\n",
       "      outputDiv = document.getElementById(\"altair-viz-aaae0d2ec9da4b26b49d1e27be51b3f0\");\n",
       "    }\n",
       "    const paths = {\n",
       "      \"vega\": \"https://cdn.jsdelivr.net/npm//vega@5?noext\",\n",
       "      \"vega-lib\": \"https://cdn.jsdelivr.net/npm//vega-lib?noext\",\n",
       "      \"vega-lite\": \"https://cdn.jsdelivr.net/npm//vega-lite@4.17.0?noext\",\n",
       "      \"vega-embed\": \"https://cdn.jsdelivr.net/npm//vega-embed@6?noext\",\n",
       "    };\n",
       "\n",
       "    function maybeLoadScript(lib, version) {\n",
       "      var key = `${lib.replace(\"-\", \"\")}_version`;\n",
       "      return (VEGA_DEBUG[key] == version) ?\n",
       "        Promise.resolve(paths[lib]) :\n",
       "        new Promise(function(resolve, reject) {\n",
       "          var s = document.createElement('script');\n",
       "          document.getElementsByTagName(\"head\")[0].appendChild(s);\n",
       "          s.async = true;\n",
       "          s.onload = () => {\n",
       "            VEGA_DEBUG[key] = version;\n",
       "            return resolve(paths[lib]);\n",
       "          };\n",
       "          s.onerror = () => reject(`Error loading script: ${paths[lib]}`);\n",
       "          s.src = paths[lib];\n",
       "        });\n",
       "    }\n",
       "\n",
       "    function showError(err) {\n",
       "      outputDiv.innerHTML = `<div class=\"error\" style=\"color:red;\">${err}</div>`;\n",
       "      throw err;\n",
       "    }\n",
       "\n",
       "    function displayChart(vegaEmbed) {\n",
       "      vegaEmbed(outputDiv, spec, embedOpt)\n",
       "        .catch(err => showError(`Javascript Error: ${err.message}<br>This usually means there's a typo in your chart specification. See the javascript console for the full traceback.`));\n",
       "    }\n",
       "\n",
       "    if(typeof define === \"function\" && define.amd) {\n",
       "      requirejs.config({paths});\n",
       "      require([\"vega-embed\"], displayChart, err => showError(`Error loading script: ${err.message}`));\n",
       "    } else {\n",
       "      maybeLoadScript(\"vega\", \"5\")\n",
       "        .then(() => maybeLoadScript(\"vega-lite\", \"4.17.0\"))\n",
       "        .then(() => maybeLoadScript(\"vega-embed\", \"6\"))\n",
       "        .catch(showError)\n",
       "        .then(() => displayChart(vegaEmbed));\n",
       "    }\n",
       "  })({\"config\": {\"view\": {\"continuousWidth\": 400, \"continuousHeight\": 300}}, \"layer\": [{\"data\": {\"name\": \"data-c708b52fbe94598a744a4a365e3e62cc\"}, \"mark\": \"line\", \"encoding\": {\"color\": {\"value\": \"#FFAA00\"}, \"x\": {\"field\": \"hour\", \"type\": \"quantitative\"}, \"y\": {\"field\": \"rmse\", \"type\": \"quantitative\"}}, \"height\": 300, \"title\": {\"text\": [\"RMSE plot of Zonal in Winter\"], \"subtitle\": [\"sample size:13995\"], \"color\": \"green\"}, \"width\": 800}, {\"data\": {\"name\": \"data-b9dd60dc560f7891b967d8e82c37ad0c\"}, \"mark\": {\"type\": \"rule\", \"color\": \"#D2386C\"}, \"encoding\": {\"x\": {\"field\": \"Component\", \"type\": \"quantitative\"}}}], \"$schema\": \"https://vega.github.io/schema/vega-lite/v4.17.0.json\", \"datasets\": {\"data-c708b52fbe94598a744a4a365e3e62cc\": [{\"rmse\": 2.778568688760428, \"hour\": 0}, {\"rmse\": 3.177327910651113, \"hour\": 1}, {\"rmse\": 3.5378559682681265, \"hour\": 2}, {\"rmse\": 4.748353418251085, \"hour\": 3}, {\"rmse\": 4.794392961317399, \"hour\": 4}, {\"rmse\": 5.002131690101799, \"hour\": 5}, {\"rmse\": 4.937806137643211, \"hour\": 6}, {\"rmse\": 4.164727684975208, \"hour\": 7}, {\"rmse\": 4.432015701669875, \"hour\": 8}, {\"rmse\": 4.396561449076473, \"hour\": 9}, {\"rmse\": 4.2483629624268495, \"hour\": 10}, {\"rmse\": 3.955389086419011, \"hour\": 11}, {\"rmse\": 4.273108251164394, \"hour\": 12}, {\"rmse\": 3.9518951263119195, \"hour\": 13}, {\"rmse\": 3.4957379796456984, \"hour\": 14}, {\"rmse\": 3.5339672983184887, \"hour\": 15}, {\"rmse\": 2.5059763882458017, \"hour\": 16}, {\"rmse\": 2.9477003124291516, \"hour\": 17}, {\"rmse\": 2.6436858485731185, \"hour\": 18}, {\"rmse\": 2.3094293000791692, \"hour\": 19}, {\"rmse\": 3.0407186503578565, \"hour\": 20}, {\"rmse\": 2.9258968187705343, \"hour\": 21}, {\"rmse\": 2.718505529565857, \"hour\": 22}, {\"rmse\": 3.2073017751657584, \"hour\": 23}, {\"rmse\": 3.3161369255636832, \"hour\": 24}, {\"rmse\": 3.673517625189687, \"hour\": 25}, {\"rmse\": 4.25813709305779, \"hour\": 26}, {\"rmse\": 4.057675101958107, \"hour\": 27}, {\"rmse\": 5.032081753208549, \"hour\": 28}, {\"rmse\": 5.080104221122448, \"hour\": 29}, {\"rmse\": 4.985455937578483, \"hour\": 30}, {\"rmse\": 4.571506090354658, \"hour\": 31}, {\"rmse\": 4.40804291187634, \"hour\": 32}, {\"rmse\": 4.020858556447935, \"hour\": 33}, {\"rmse\": 4.165304909058593, \"hour\": 34}, {\"rmse\": 3.857935438067386, \"hour\": 35}, {\"rmse\": 3.9207535255708645, \"hour\": 36}, {\"rmse\": 3.5621619281913453, \"hour\": 37}, {\"rmse\": 3.787310915391856, \"hour\": 38}, {\"rmse\": 3.966249475287082, \"hour\": 39}, {\"rmse\": 3.1930575694128223, \"hour\": 40}, {\"rmse\": 2.8849866338881562, \"hour\": 41}, {\"rmse\": 2.8262240708548934, \"hour\": 42}, {\"rmse\": 2.7460638197101033, \"hour\": 43}, {\"rmse\": 3.104640291337428, \"hour\": 44}, {\"rmse\": 3.0534326387701456, \"hour\": 45}, {\"rmse\": 2.9953689701935295, \"hour\": 46}, {\"rmse\": 3.0960373840292754, \"hour\": 47}, {\"rmse\": 3.0120718677587157, \"hour\": 48}, {\"rmse\": 4.054759578700532, \"hour\": 49}, {\"rmse\": 4.441926812167772, \"hour\": 50}, {\"rmse\": 5.228339898072845, \"hour\": 51}, {\"rmse\": 4.8612587327843455, \"hour\": 52}, {\"rmse\": 4.861912763637273, \"hour\": 53}, {\"rmse\": 5.617502336946587, \"hour\": 54}, {\"rmse\": 4.515255057887224, \"hour\": 55}, {\"rmse\": 4.595641092740945, \"hour\": 56}, {\"rmse\": 4.463039528529225, \"hour\": 57}, {\"rmse\": 3.742404098004598, \"hour\": 58}, {\"rmse\": 4.00102855429475, \"hour\": 59}, {\"rmse\": 4.071945695875135, \"hour\": 60}, {\"rmse\": 3.5947536868071857, \"hour\": 61}, {\"rmse\": 3.6798942779127866, \"hour\": 62}, {\"rmse\": 4.319675097907023, \"hour\": 63}, {\"rmse\": 3.0047128050588214, \"hour\": 64}, {\"rmse\": 2.791795436683828, \"hour\": 65}, {\"rmse\": 2.556629199397956, \"hour\": 66}, {\"rmse\": 2.7283860717157866, \"hour\": 67}, {\"rmse\": 2.9720468939843525, \"hour\": 68}, {\"rmse\": 2.8891533834954286, \"hour\": 69}, {\"rmse\": 2.9136239656830036, \"hour\": 70}, {\"rmse\": 2.9466986556487886, \"hour\": 71}], \"data-b9dd60dc560f7891b967d8e82c37ad0c\": [{\"Component\": 24}, {\"Component\": 48}, {\"Component\": 72}]}}, {\"mode\": \"vega-lite\"});\n",
       "</script>"
      ],
      "text/plain": [
       "alt.LayerChart(...)"
      ]
     },
     "execution_count": 77,
     "metadata": {},
     "output_type": "execute_result"
    }
   ],
   "source": [
    "plotrmse(Win_rmse_zonal,'rmse',\"RMSE plot of Zonal in Winter\",\"sample size:\" +  str(Win[\"zonal_dif\"].count()))"
   ]
  },
  {
   "cell_type": "code",
   "execution_count": 78,
   "id": "b84aa38d-2337-4c6b-ba62-88e4030d9fdb",
   "metadata": {},
   "outputs": [
    {
     "data": {
      "text/html": [
       "\n",
       "<div id=\"altair-viz-10582a0db9854e0cb69b4ece4e279a91\"></div>\n",
       "<script type=\"text/javascript\">\n",
       "  var VEGA_DEBUG = (typeof VEGA_DEBUG == \"undefined\") ? {} : VEGA_DEBUG;\n",
       "  (function(spec, embedOpt){\n",
       "    let outputDiv = document.currentScript.previousElementSibling;\n",
       "    if (outputDiv.id !== \"altair-viz-10582a0db9854e0cb69b4ece4e279a91\") {\n",
       "      outputDiv = document.getElementById(\"altair-viz-10582a0db9854e0cb69b4ece4e279a91\");\n",
       "    }\n",
       "    const paths = {\n",
       "      \"vega\": \"https://cdn.jsdelivr.net/npm//vega@5?noext\",\n",
       "      \"vega-lib\": \"https://cdn.jsdelivr.net/npm//vega-lib?noext\",\n",
       "      \"vega-lite\": \"https://cdn.jsdelivr.net/npm//vega-lite@4.17.0?noext\",\n",
       "      \"vega-embed\": \"https://cdn.jsdelivr.net/npm//vega-embed@6?noext\",\n",
       "    };\n",
       "\n",
       "    function maybeLoadScript(lib, version) {\n",
       "      var key = `${lib.replace(\"-\", \"\")}_version`;\n",
       "      return (VEGA_DEBUG[key] == version) ?\n",
       "        Promise.resolve(paths[lib]) :\n",
       "        new Promise(function(resolve, reject) {\n",
       "          var s = document.createElement('script');\n",
       "          document.getElementsByTagName(\"head\")[0].appendChild(s);\n",
       "          s.async = true;\n",
       "          s.onload = () => {\n",
       "            VEGA_DEBUG[key] = version;\n",
       "            return resolve(paths[lib]);\n",
       "          };\n",
       "          s.onerror = () => reject(`Error loading script: ${paths[lib]}`);\n",
       "          s.src = paths[lib];\n",
       "        });\n",
       "    }\n",
       "\n",
       "    function showError(err) {\n",
       "      outputDiv.innerHTML = `<div class=\"error\" style=\"color:red;\">${err}</div>`;\n",
       "      throw err;\n",
       "    }\n",
       "\n",
       "    function displayChart(vegaEmbed) {\n",
       "      vegaEmbed(outputDiv, spec, embedOpt)\n",
       "        .catch(err => showError(`Javascript Error: ${err.message}<br>This usually means there's a typo in your chart specification. See the javascript console for the full traceback.`));\n",
       "    }\n",
       "\n",
       "    if(typeof define === \"function\" && define.amd) {\n",
       "      requirejs.config({paths});\n",
       "      require([\"vega-embed\"], displayChart, err => showError(`Error loading script: ${err.message}`));\n",
       "    } else {\n",
       "      maybeLoadScript(\"vega\", \"5\")\n",
       "        .then(() => maybeLoadScript(\"vega-lite\", \"4.17.0\"))\n",
       "        .then(() => maybeLoadScript(\"vega-embed\", \"6\"))\n",
       "        .catch(showError)\n",
       "        .then(() => displayChart(vegaEmbed));\n",
       "    }\n",
       "  })({\"config\": {\"view\": {\"continuousWidth\": 400, \"continuousHeight\": 300}}, \"layer\": [{\"data\": {\"name\": \"data-d9bb4bc4e7d0bb9d55859226c26d2b62\"}, \"mark\": \"line\", \"encoding\": {\"color\": {\"value\": \"#FFAA00\"}, \"x\": {\"field\": \"hour\", \"type\": \"quantitative\"}, \"y\": {\"field\": \"rmse\", \"type\": \"quantitative\"}}, \"height\": 300, \"title\": {\"text\": [\"RMSE plot of Meridional in Winter\"], \"subtitle\": [\"sample size:13995\"], \"color\": \"green\"}, \"width\": 800}, {\"data\": {\"name\": \"data-b9dd60dc560f7891b967d8e82c37ad0c\"}, \"mark\": {\"type\": \"rule\", \"color\": \"#D2386C\"}, \"encoding\": {\"x\": {\"field\": \"Component\", \"type\": \"quantitative\"}}}], \"$schema\": \"https://vega.github.io/schema/vega-lite/v4.17.0.json\", \"datasets\": {\"data-d9bb4bc4e7d0bb9d55859226c26d2b62\": [{\"rmse\": 2.992391845748934, \"hour\": 0}, {\"rmse\": 3.596375510163906, \"hour\": 1}, {\"rmse\": 4.080969326540545, \"hour\": 2}, {\"rmse\": 3.903621491731614, \"hour\": 3}, {\"rmse\": 4.95665864240526, \"hour\": 4}, {\"rmse\": 4.371242211656134, \"hour\": 5}, {\"rmse\": 4.960588578672504, \"hour\": 6}, {\"rmse\": 5.102097743008983, \"hour\": 7}, {\"rmse\": 4.722061888262818, \"hour\": 8}, {\"rmse\": 4.3111101041625135, \"hour\": 9}, {\"rmse\": 4.4483882191629345, \"hour\": 10}, {\"rmse\": 4.539178510680618, \"hour\": 11}, {\"rmse\": 3.8399045405648833, \"hour\": 12}, {\"rmse\": 3.573105627468746, \"hour\": 13}, {\"rmse\": 3.8971524498188073, \"hour\": 14}, {\"rmse\": 3.1753557473713685, \"hour\": 15}, {\"rmse\": 3.1142995842985397, \"hour\": 16}, {\"rmse\": 2.5750359937220844, \"hour\": 17}, {\"rmse\": 2.689131481213152, \"hour\": 18}, {\"rmse\": 2.7672040908416715, \"hour\": 19}, {\"rmse\": 2.8644845834308845, \"hour\": 20}, {\"rmse\": 3.040747531595729, \"hour\": 21}, {\"rmse\": 2.9831699987148528, \"hour\": 22}, {\"rmse\": 3.372756799580522, \"hour\": 23}, {\"rmse\": 3.500303295270556, \"hour\": 24}, {\"rmse\": 4.073908583409012, \"hour\": 25}, {\"rmse\": 5.525693020705627, \"hour\": 26}, {\"rmse\": 4.948882689529253, \"hour\": 27}, {\"rmse\": 4.628347473567312, \"hour\": 28}, {\"rmse\": 4.7457500536730794, \"hour\": 29}, {\"rmse\": 4.351020486101404, \"hour\": 30}, {\"rmse\": 5.281775498123465, \"hour\": 31}, {\"rmse\": 4.589511556669938, \"hour\": 32}, {\"rmse\": 4.368643206526386, \"hour\": 33}, {\"rmse\": 4.412296643518477, \"hour\": 34}, {\"rmse\": 4.147648421096519, \"hour\": 35}, {\"rmse\": 3.5559278048080336, \"hour\": 36}, {\"rmse\": 3.917438252207605, \"hour\": 37}, {\"rmse\": 3.9965487108979607, \"hour\": 38}, {\"rmse\": 3.4871116594344795, \"hour\": 39}, {\"rmse\": 3.6894545399574983, \"hour\": 40}, {\"rmse\": 2.7796806087944788, \"hour\": 41}, {\"rmse\": 2.1411268204426284, \"hour\": 42}, {\"rmse\": 2.7717955276345223, \"hour\": 43}, {\"rmse\": 3.1123010018702626, \"hour\": 44}, {\"rmse\": 3.011701180809236, \"hour\": 45}, {\"rmse\": 3.525700057604164, \"hour\": 46}, {\"rmse\": 2.9874913995007577, \"hour\": 47}, {\"rmse\": 3.7019527243535104, \"hour\": 48}, {\"rmse\": 4.58768177283695, \"hour\": 49}, {\"rmse\": 4.95427486178769, \"hour\": 50}, {\"rmse\": 5.230959700899981, \"hour\": 51}, {\"rmse\": 4.811087454378518, \"hour\": 52}, {\"rmse\": 4.4536293319497, \"hour\": 53}, {\"rmse\": 4.961539564655955, \"hour\": 54}, {\"rmse\": 5.164975947977917, \"hour\": 55}, {\"rmse\": 4.723521300433664, \"hour\": 56}, {\"rmse\": 5.050857065049932, \"hour\": 57}, {\"rmse\": 4.31163276192493, \"hour\": 58}, {\"rmse\": 3.9697384161274605, \"hour\": 59}, {\"rmse\": 3.903949127418219, \"hour\": 60}, {\"rmse\": 4.374709560003069, \"hour\": 61}, {\"rmse\": 3.668268176682042, \"hour\": 62}, {\"rmse\": 3.6719761711016647, \"hour\": 63}, {\"rmse\": 3.2467497343099203, \"hour\": 64}, {\"rmse\": 2.789115578746338, \"hour\": 65}, {\"rmse\": 2.4228658478644753, \"hour\": 66}, {\"rmse\": 2.8214812300140286, \"hour\": 67}, {\"rmse\": 2.7783975129663276, \"hour\": 68}, {\"rmse\": 3.0206660699796215, \"hour\": 69}, {\"rmse\": 3.33706358863446, \"hour\": 70}, {\"rmse\": 3.1480468958152623, \"hour\": 71}], \"data-b9dd60dc560f7891b967d8e82c37ad0c\": [{\"Component\": 24}, {\"Component\": 48}, {\"Component\": 72}]}}, {\"mode\": \"vega-lite\"});\n",
       "</script>"
      ],
      "text/plain": [
       "alt.LayerChart(...)"
      ]
     },
     "execution_count": 78,
     "metadata": {},
     "output_type": "execute_result"
    }
   ],
   "source": [
    "plotrmse(Win_rmse_meridional,'rmse',\"RMSE plot of Meridional in Winter\",\"sample size:\" +  str(Win[\"meridional_dif\"].count()))"
   ]
  },
  {
   "cell_type": "markdown",
   "id": "51c9d959-edc6-46e9-947c-73deca6a45ce",
   "metadata": {},
   "source": [
    "#### MB:"
   ]
  },
  {
   "cell_type": "code",
   "execution_count": 79,
   "id": "726b7b2c-da8d-47a4-a1ce-ac77e50438d7",
   "metadata": {},
   "outputs": [],
   "source": [
    "# 1. Calculate the difference\n",
    "Win[\"zonal_dif\"] = Win[\"modzonal\"] - Win[\"obszonal\"]\n",
    "Win[\"meridional_dif\"] = Win[\"modmeridional\"] - Win[\"obsmeridional\"]"
   ]
  },
  {
   "cell_type": "code",
   "execution_count": 80,
   "id": "1257afa1-b777-46d2-884d-682b905e2a0c",
   "metadata": {
    "tags": []
   },
   "outputs": [],
   "source": [
    "# 2. Group by hour and sum\n",
    "Win_sum_zonal = Win.groupby(\"hour\")[\"zonal_dif\"].sum()\n",
    "Win_sum_meridional = Win.groupby(\"hour\")[\"meridional_dif\"].sum()"
   ]
  },
  {
   "cell_type": "code",
   "execution_count": 81,
   "id": "fc6188a5-2260-40c6-b2ff-e4d7a0c5b0c3",
   "metadata": {},
   "outputs": [],
   "source": [
    "# 3. Divide the sums by n and take square root, calculate rmse and make it a dataframe\n",
    "count = Fal.groupby(\"hour\").count()\n",
    "\n",
    "# Now we calculate rmse for each variable\n",
    "Win_mb_zonal = mb(Win_sum_zonal,count[\"obszonal\"])\n",
    "Win_mb_meridional = mb(Win_sum_meridional,count[\"obsmeridional\"])"
   ]
  },
  {
   "cell_type": "code",
   "execution_count": 83,
   "id": "33fbc664-322a-4cea-9f88-e8263190f4ba",
   "metadata": {},
   "outputs": [
    {
     "data": {
      "text/html": [
       "\n",
       "<div id=\"altair-viz-d49736d7862f4a58883c17c348990b1c\"></div>\n",
       "<script type=\"text/javascript\">\n",
       "  var VEGA_DEBUG = (typeof VEGA_DEBUG == \"undefined\") ? {} : VEGA_DEBUG;\n",
       "  (function(spec, embedOpt){\n",
       "    let outputDiv = document.currentScript.previousElementSibling;\n",
       "    if (outputDiv.id !== \"altair-viz-d49736d7862f4a58883c17c348990b1c\") {\n",
       "      outputDiv = document.getElementById(\"altair-viz-d49736d7862f4a58883c17c348990b1c\");\n",
       "    }\n",
       "    const paths = {\n",
       "      \"vega\": \"https://cdn.jsdelivr.net/npm//vega@5?noext\",\n",
       "      \"vega-lib\": \"https://cdn.jsdelivr.net/npm//vega-lib?noext\",\n",
       "      \"vega-lite\": \"https://cdn.jsdelivr.net/npm//vega-lite@4.17.0?noext\",\n",
       "      \"vega-embed\": \"https://cdn.jsdelivr.net/npm//vega-embed@6?noext\",\n",
       "    };\n",
       "\n",
       "    function maybeLoadScript(lib, version) {\n",
       "      var key = `${lib.replace(\"-\", \"\")}_version`;\n",
       "      return (VEGA_DEBUG[key] == version) ?\n",
       "        Promise.resolve(paths[lib]) :\n",
       "        new Promise(function(resolve, reject) {\n",
       "          var s = document.createElement('script');\n",
       "          document.getElementsByTagName(\"head\")[0].appendChild(s);\n",
       "          s.async = true;\n",
       "          s.onload = () => {\n",
       "            VEGA_DEBUG[key] = version;\n",
       "            return resolve(paths[lib]);\n",
       "          };\n",
       "          s.onerror = () => reject(`Error loading script: ${paths[lib]}`);\n",
       "          s.src = paths[lib];\n",
       "        });\n",
       "    }\n",
       "\n",
       "    function showError(err) {\n",
       "      outputDiv.innerHTML = `<div class=\"error\" style=\"color:red;\">${err}</div>`;\n",
       "      throw err;\n",
       "    }\n",
       "\n",
       "    function displayChart(vegaEmbed) {\n",
       "      vegaEmbed(outputDiv, spec, embedOpt)\n",
       "        .catch(err => showError(`Javascript Error: ${err.message}<br>This usually means there's a typo in your chart specification. See the javascript console for the full traceback.`));\n",
       "    }\n",
       "\n",
       "    if(typeof define === \"function\" && define.amd) {\n",
       "      requirejs.config({paths});\n",
       "      require([\"vega-embed\"], displayChart, err => showError(`Error loading script: ${err.message}`));\n",
       "    } else {\n",
       "      maybeLoadScript(\"vega\", \"5\")\n",
       "        .then(() => maybeLoadScript(\"vega-lite\", \"4.17.0\"))\n",
       "        .then(() => maybeLoadScript(\"vega-embed\", \"6\"))\n",
       "        .catch(showError)\n",
       "        .then(() => displayChart(vegaEmbed));\n",
       "    }\n",
       "  })({\"config\": {\"view\": {\"continuousWidth\": 400, \"continuousHeight\": 300}}, \"layer\": [{\"data\": {\"name\": \"data-e29fd266e96304e010d409756e4017af\"}, \"mark\": \"line\", \"encoding\": {\"color\": {\"value\": \"#FFAA00\"}, \"x\": {\"field\": \"hour\", \"type\": \"quantitative\"}, \"y\": {\"field\": \"mb\", \"type\": \"quantitative\"}}, \"height\": 300, \"title\": {\"text\": [\"Mean Bias plot of Zonal in Winter\"], \"subtitle\": [\"sample size:13995\"], \"color\": \"green\"}, \"width\": 800}, {\"data\": {\"name\": \"data-b9dd60dc560f7891b967d8e82c37ad0c\"}, \"mark\": {\"type\": \"rule\", \"color\": \"#D2386C\"}, \"encoding\": {\"x\": {\"field\": \"Component\", \"type\": \"quantitative\"}}}], \"$schema\": \"https://vega.github.io/schema/vega-lite/v4.17.0.json\", \"datasets\": {\"data-e29fd266e96304e010d409756e4017af\": [{\"mb\": -0.1636909884084853, \"hour\": 0}, {\"mb\": -0.08830669598978265, \"hour\": 1}, {\"mb\": 0.21678033410132488, \"hour\": 2}, {\"mb\": -0.4101637834930341, \"hour\": 3}, {\"mb\": 0.7989209576100468, \"hour\": 4}, {\"mb\": 0.05319337665134594, \"hour\": 5}, {\"mb\": 0.29899562193847423, \"hour\": 6}, {\"mb\": -0.2225782113896932, \"hour\": 7}, {\"mb\": -0.27210921536032545, \"hour\": 8}, {\"mb\": 0.3116667864568198, \"hour\": 9}, {\"mb\": 0.12267709718391455, \"hour\": 10}, {\"mb\": -0.037017224660239136, \"hour\": 11}, {\"mb\": -0.006750505681454149, \"hour\": 12}, {\"mb\": -0.006600764457304692, \"hour\": 13}, {\"mb\": -0.111121729024834, \"hour\": 14}, {\"mb\": 0.11548679836537322, \"hour\": 15}, {\"mb\": -0.12240930295367168, \"hour\": 16}, {\"mb\": -0.12641989106924412, \"hour\": 17}, {\"mb\": -0.1479314775872725, \"hour\": 18}, {\"mb\": -0.021485297620873037, \"hour\": 19}, {\"mb\": -0.15278617283809645, \"hour\": 20}, {\"mb\": 0.18581184767967068, \"hour\": 21}, {\"mb\": -0.33672203979888926, \"hour\": 22}, {\"mb\": -0.27209410256920774, \"hour\": 23}, {\"mb\": -0.26392154376138993, \"hour\": 24}, {\"mb\": 0.07533663706407774, \"hour\": 25}, {\"mb\": -0.235623024887752, \"hour\": 26}, {\"mb\": -0.1337901897763101, \"hour\": 27}, {\"mb\": 0.4486552156317028, \"hour\": 28}, {\"mb\": 0.43234964907806583, \"hour\": 29}, {\"mb\": 0.11063064040960872, \"hour\": 30}, {\"mb\": -0.31953118550838944, \"hour\": 31}, {\"mb\": -0.6428912677163754, \"hour\": 32}, {\"mb\": -0.03433240463668984, \"hour\": 33}, {\"mb\": 0.17513440952862325, \"hour\": 34}, {\"mb\": 0.060709320867629285, \"hour\": 35}, {\"mb\": -0.0734737808270028, \"hour\": 36}, {\"mb\": 0.13731570451436553, \"hour\": 37}, {\"mb\": -0.3285159279089788, \"hour\": 38}, {\"mb\": 0.5322973984221671, \"hour\": 39}, {\"mb\": -0.14300907764784968, \"hour\": 40}, {\"mb\": 0.0589265613657619, \"hour\": 41}, {\"mb\": -0.1552748960271283, \"hour\": 42}, {\"mb\": 0.12626168549967107, \"hour\": 43}, {\"mb\": -0.44796974599560874, \"hour\": 44}, {\"mb\": 0.0776176537554071, \"hour\": 45}, {\"mb\": -0.4544977637004718, \"hour\": 46}, {\"mb\": -0.3285127988848378, \"hour\": 47}, {\"mb\": -0.3501611169887009, \"hour\": 48}, {\"mb\": 0.0038116936023776166, \"hour\": 49}, {\"mb\": 0.12661573715387892, \"hour\": 50}, {\"mb\": -0.3707157874084995, \"hour\": 51}, {\"mb\": 1.1461407906866126, \"hour\": 52}, {\"mb\": 0.14510368943106866, \"hour\": 53}, {\"mb\": 0.1854896555484757, \"hour\": 54}, {\"mb\": -0.7071376008776574, \"hour\": 55}, {\"mb\": -0.019164527033116698, \"hour\": 56}, {\"mb\": -0.036752758917924754, \"hour\": 57}, {\"mb\": 0.1143618550274514, \"hour\": 58}, {\"mb\": -0.08470179614930189, \"hour\": 59}, {\"mb\": -0.1434010975239863, \"hour\": 60}, {\"mb\": 0.13448662773702538, \"hour\": 61}, {\"mb\": 0.12325681892313381, \"hour\": 62}, {\"mb\": 0.41027150573560933, \"hour\": 63}, {\"mb\": 0.38051353701246393, \"hour\": 64}, {\"mb\": -0.03723046968691581, \"hour\": 65}, {\"mb\": -0.005758235391666539, \"hour\": 66}, {\"mb\": 0.2896812736052298, \"hour\": 67}, {\"mb\": -0.31204784393818646, \"hour\": 68}, {\"mb\": 0.2312848234083954, \"hour\": 69}, {\"mb\": -0.023550781929670198, \"hour\": 70}, {\"mb\": -0.19919540163112207, \"hour\": 71}], \"data-b9dd60dc560f7891b967d8e82c37ad0c\": [{\"Component\": 24}, {\"Component\": 48}, {\"Component\": 72}]}}, {\"mode\": \"vega-lite\"});\n",
       "</script>"
      ],
      "text/plain": [
       "alt.LayerChart(...)"
      ]
     },
     "execution_count": 83,
     "metadata": {},
     "output_type": "execute_result"
    }
   ],
   "source": [
    "plotrmse(Win_mb_zonal,'mb',\"Mean Bias plot of Zonal in Winter\",\"sample size:\" +  str(Win[\"zonal_dif\"].count()))"
   ]
  },
  {
   "cell_type": "code",
   "execution_count": 84,
   "id": "78352aea-2489-4f1c-a091-e2e60887f1ba",
   "metadata": {},
   "outputs": [
    {
     "data": {
      "text/html": [
       "\n",
       "<div id=\"altair-viz-7b44ff6bede0438382c4fd0975b61c7b\"></div>\n",
       "<script type=\"text/javascript\">\n",
       "  var VEGA_DEBUG = (typeof VEGA_DEBUG == \"undefined\") ? {} : VEGA_DEBUG;\n",
       "  (function(spec, embedOpt){\n",
       "    let outputDiv = document.currentScript.previousElementSibling;\n",
       "    if (outputDiv.id !== \"altair-viz-7b44ff6bede0438382c4fd0975b61c7b\") {\n",
       "      outputDiv = document.getElementById(\"altair-viz-7b44ff6bede0438382c4fd0975b61c7b\");\n",
       "    }\n",
       "    const paths = {\n",
       "      \"vega\": \"https://cdn.jsdelivr.net/npm//vega@5?noext\",\n",
       "      \"vega-lib\": \"https://cdn.jsdelivr.net/npm//vega-lib?noext\",\n",
       "      \"vega-lite\": \"https://cdn.jsdelivr.net/npm//vega-lite@4.17.0?noext\",\n",
       "      \"vega-embed\": \"https://cdn.jsdelivr.net/npm//vega-embed@6?noext\",\n",
       "    };\n",
       "\n",
       "    function maybeLoadScript(lib, version) {\n",
       "      var key = `${lib.replace(\"-\", \"\")}_version`;\n",
       "      return (VEGA_DEBUG[key] == version) ?\n",
       "        Promise.resolve(paths[lib]) :\n",
       "        new Promise(function(resolve, reject) {\n",
       "          var s = document.createElement('script');\n",
       "          document.getElementsByTagName(\"head\")[0].appendChild(s);\n",
       "          s.async = true;\n",
       "          s.onload = () => {\n",
       "            VEGA_DEBUG[key] = version;\n",
       "            return resolve(paths[lib]);\n",
       "          };\n",
       "          s.onerror = () => reject(`Error loading script: ${paths[lib]}`);\n",
       "          s.src = paths[lib];\n",
       "        });\n",
       "    }\n",
       "\n",
       "    function showError(err) {\n",
       "      outputDiv.innerHTML = `<div class=\"error\" style=\"color:red;\">${err}</div>`;\n",
       "      throw err;\n",
       "    }\n",
       "\n",
       "    function displayChart(vegaEmbed) {\n",
       "      vegaEmbed(outputDiv, spec, embedOpt)\n",
       "        .catch(err => showError(`Javascript Error: ${err.message}<br>This usually means there's a typo in your chart specification. See the javascript console for the full traceback.`));\n",
       "    }\n",
       "\n",
       "    if(typeof define === \"function\" && define.amd) {\n",
       "      requirejs.config({paths});\n",
       "      require([\"vega-embed\"], displayChart, err => showError(`Error loading script: ${err.message}`));\n",
       "    } else {\n",
       "      maybeLoadScript(\"vega\", \"5\")\n",
       "        .then(() => maybeLoadScript(\"vega-lite\", \"4.17.0\"))\n",
       "        .then(() => maybeLoadScript(\"vega-embed\", \"6\"))\n",
       "        .catch(showError)\n",
       "        .then(() => displayChart(vegaEmbed));\n",
       "    }\n",
       "  })({\"config\": {\"view\": {\"continuousWidth\": 400, \"continuousHeight\": 300}}, \"layer\": [{\"data\": {\"name\": \"data-87b36a052969084536a372553df223f3\"}, \"mark\": \"line\", \"encoding\": {\"color\": {\"value\": \"#FFAA00\"}, \"x\": {\"field\": \"hour\", \"type\": \"quantitative\"}, \"y\": {\"field\": \"mb\", \"type\": \"quantitative\"}}, \"height\": 300, \"title\": {\"text\": [\"Mean Bias plot of Meridional in Winter\"], \"subtitle\": [\"sample size:13995\"], \"color\": \"green\"}, \"width\": 800}, {\"data\": {\"name\": \"data-b9dd60dc560f7891b967d8e82c37ad0c\"}, \"mark\": {\"type\": \"rule\", \"color\": \"#D2386C\"}, \"encoding\": {\"x\": {\"field\": \"Component\", \"type\": \"quantitative\"}}}], \"$schema\": \"https://vega.github.io/schema/vega-lite/v4.17.0.json\", \"datasets\": {\"data-87b36a052969084536a372553df223f3\": [{\"mb\": -0.04568586488829529, \"hour\": 0}, {\"mb\": -0.08591591761085249, \"hour\": 1}, {\"mb\": -0.26686150096169, \"hour\": 2}, {\"mb\": -0.38318403273532015, \"hour\": 3}, {\"mb\": 0.0504354762994785, \"hour\": 4}, {\"mb\": -0.4215437329558393, \"hour\": 5}, {\"mb\": 0.22694762697747273, \"hour\": 6}, {\"mb\": 0.05075732121918669, \"hour\": 7}, {\"mb\": 0.2937917971124247, \"hour\": 8}, {\"mb\": 0.41728810033238395, \"hour\": 9}, {\"mb\": -0.032086927127662826, \"hour\": 10}, {\"mb\": 0.40425332203713443, \"hour\": 11}, {\"mb\": 0.08048407758601397, \"hour\": 12}, {\"mb\": -0.04127106551036373, \"hour\": 13}, {\"mb\": -0.12034399485487318, \"hour\": 14}, {\"mb\": 0.4612039503516864, \"hour\": 15}, {\"mb\": -0.09856283216545307, \"hour\": 16}, {\"mb\": -0.05075522965151525, \"hour\": 17}, {\"mb\": 0.12207116296368728, \"hour\": 18}, {\"mb\": -0.18981073112469019, \"hour\": 19}, {\"mb\": -0.029105027649636763, \"hour\": 20}, {\"mb\": 0.23945260086115336, \"hour\": 21}, {\"mb\": -0.08979961796564291, \"hour\": 22}, {\"mb\": 0.07160555715883707, \"hour\": 23}, {\"mb\": 0.17971542449158992, \"hour\": 24}, {\"mb\": -0.0025714896278095033, \"hour\": 25}, {\"mb\": -0.21822767914657484, \"hour\": 26}, {\"mb\": -0.31652823070081715, \"hour\": 27}, {\"mb\": 0.15698953427561774, \"hour\": 28}, {\"mb\": -0.059108411730992044, \"hour\": 29}, {\"mb\": 0.09339286053576541, \"hour\": 30}, {\"mb\": -0.4241221382657956, \"hour\": 31}, {\"mb\": 0.30466185225420167, \"hour\": 32}, {\"mb\": -0.07867219541315677, \"hour\": 33}, {\"mb\": -0.44047467202550844, \"hour\": 34}, {\"mb\": 0.00933007602668179, \"hour\": 35}, {\"mb\": -0.33603749571614266, \"hour\": 36}, {\"mb\": 0.09126997649569735, \"hour\": 37}, {\"mb\": 0.04186693189382639, \"hour\": 38}, {\"mb\": 0.07674604744906023, \"hour\": 39}, {\"mb\": -0.19019193495509484, \"hour\": 40}, {\"mb\": 0.13315780166348837, \"hour\": 41}, {\"mb\": -0.0014909237190743594, \"hour\": 42}, {\"mb\": -0.002585414248782477, \"hour\": 43}, {\"mb\": -0.34605089848075204, \"hour\": 44}, {\"mb\": 0.581048409744742, \"hour\": 45}, {\"mb\": -0.021967048401515525, \"hour\": 46}, {\"mb\": -0.1936395761362443, \"hour\": 47}, {\"mb\": 0.24900598763217746, \"hour\": 48}, {\"mb\": -0.3342425366930977, \"hour\": 49}, {\"mb\": -0.22507116310721614, \"hour\": 50}, {\"mb\": -0.7155802077548032, \"hour\": 51}, {\"mb\": 0.011442490042868755, \"hour\": 52}, {\"mb\": -0.5815170560018902, \"hour\": 53}, {\"mb\": -0.24241088722514484, \"hour\": 54}, {\"mb\": -0.22324038909959398, \"hour\": 55}, {\"mb\": 0.26614805749963466, \"hour\": 56}, {\"mb\": 0.4681374618422618, \"hour\": 57}, {\"mb\": -0.4799285295728453, \"hour\": 58}, {\"mb\": -0.08115952480892259, \"hour\": 59}, {\"mb\": -0.5460818084548672, \"hour\": 60}, {\"mb\": -0.3898617464600663, \"hour\": 61}, {\"mb\": -0.3484492371367819, \"hour\": 62}, {\"mb\": 0.23026217260412202, \"hour\": 63}, {\"mb\": -0.11062491734067455, \"hour\": 64}, {\"mb\": -0.050415393598180064, \"hour\": 65}, {\"mb\": 0.07674168514900782, \"hour\": 66}, {\"mb\": 0.14626322168624534, \"hour\": 67}, {\"mb\": -0.20398881506933728, \"hour\": 68}, {\"mb\": 0.39025901389605333, \"hour\": 69}, {\"mb\": 0.15963846427225356, \"hour\": 70}, {\"mb\": -0.021707396117579537, \"hour\": 71}], \"data-b9dd60dc560f7891b967d8e82c37ad0c\": [{\"Component\": 24}, {\"Component\": 48}, {\"Component\": 72}]}}, {\"mode\": \"vega-lite\"});\n",
       "</script>"
      ],
      "text/plain": [
       "alt.LayerChart(...)"
      ]
     },
     "execution_count": 84,
     "metadata": {},
     "output_type": "execute_result"
    }
   ],
   "source": [
    "plotrmse(Win_mb_meridional,'mb',\"Mean Bias plot of Meridional in Winter\",\"sample size:\" +  str(Win[\"meridional_dif\"].count()))"
   ]
  },
  {
   "cell_type": "markdown",
   "id": "f003364e-545c-439c-aa1c-4a9a155d08f2",
   "metadata": {},
   "source": [
    "#### Correlation:"
   ]
  },
  {
   "cell_type": "code",
   "execution_count": 85,
   "id": "9c6eb843-6518-4377-be7b-6b030ec069a2",
   "metadata": {},
   "outputs": [],
   "source": [
    "# Calculate the list\n",
    "modzonal_list = create_list(Win,\"modzonal\")\n",
    "obszonal_list = create_list(Win,\"obszonal\")\n",
    "modmeridional_list = create_list(Win,\"modmeridional\")\n",
    "obsmeridional_list = create_list(Win,\"obsmeridional\")"
   ]
  },
  {
   "cell_type": "code",
   "execution_count": 86,
   "id": "0d846bee-d7f6-4a77-ab67-18f60e7f63f9",
   "metadata": {},
   "outputs": [],
   "source": [
    "up_modzonal_list,up_obszonal_list = removeNan(index(modzonal_list,obszonal_list),modzonal_list,obszonal_list)\n",
    "up_modmeridional_list,up_obsmeridional_list = removeNan(index(modmeridional_list,obsmeridional_list),modmeridional_list,obsmeridional_list)"
   ]
  },
  {
   "cell_type": "code",
   "execution_count": 87,
   "id": "4481b5b2-018b-4b7b-9050-580b79d07f93",
   "metadata": {},
   "outputs": [],
   "source": [
    "corr_zonal = correlation(up_modzonal_list,up_obszonal_list)\n",
    "corr_meridional = correlation(up_modmeridional_list,up_obsmeridional_list)"
   ]
  },
  {
   "cell_type": "code",
   "execution_count": 89,
   "id": "3dd1ccf5-9647-495b-a0a2-214777730a4e",
   "metadata": {},
   "outputs": [
    {
     "data": {
      "text/html": [
       "\n",
       "<div id=\"altair-viz-f1af4a41a60b4ef6a2e585f22c0cb299\"></div>\n",
       "<script type=\"text/javascript\">\n",
       "  var VEGA_DEBUG = (typeof VEGA_DEBUG == \"undefined\") ? {} : VEGA_DEBUG;\n",
       "  (function(spec, embedOpt){\n",
       "    let outputDiv = document.currentScript.previousElementSibling;\n",
       "    if (outputDiv.id !== \"altair-viz-f1af4a41a60b4ef6a2e585f22c0cb299\") {\n",
       "      outputDiv = document.getElementById(\"altair-viz-f1af4a41a60b4ef6a2e585f22c0cb299\");\n",
       "    }\n",
       "    const paths = {\n",
       "      \"vega\": \"https://cdn.jsdelivr.net/npm//vega@5?noext\",\n",
       "      \"vega-lib\": \"https://cdn.jsdelivr.net/npm//vega-lib?noext\",\n",
       "      \"vega-lite\": \"https://cdn.jsdelivr.net/npm//vega-lite@4.17.0?noext\",\n",
       "      \"vega-embed\": \"https://cdn.jsdelivr.net/npm//vega-embed@6?noext\",\n",
       "    };\n",
       "\n",
       "    function maybeLoadScript(lib, version) {\n",
       "      var key = `${lib.replace(\"-\", \"\")}_version`;\n",
       "      return (VEGA_DEBUG[key] == version) ?\n",
       "        Promise.resolve(paths[lib]) :\n",
       "        new Promise(function(resolve, reject) {\n",
       "          var s = document.createElement('script');\n",
       "          document.getElementsByTagName(\"head\")[0].appendChild(s);\n",
       "          s.async = true;\n",
       "          s.onload = () => {\n",
       "            VEGA_DEBUG[key] = version;\n",
       "            return resolve(paths[lib]);\n",
       "          };\n",
       "          s.onerror = () => reject(`Error loading script: ${paths[lib]}`);\n",
       "          s.src = paths[lib];\n",
       "        });\n",
       "    }\n",
       "\n",
       "    function showError(err) {\n",
       "      outputDiv.innerHTML = `<div class=\"error\" style=\"color:red;\">${err}</div>`;\n",
       "      throw err;\n",
       "    }\n",
       "\n",
       "    function displayChart(vegaEmbed) {\n",
       "      vegaEmbed(outputDiv, spec, embedOpt)\n",
       "        .catch(err => showError(`Javascript Error: ${err.message}<br>This usually means there's a typo in your chart specification. See the javascript console for the full traceback.`));\n",
       "    }\n",
       "\n",
       "    if(typeof define === \"function\" && define.amd) {\n",
       "      requirejs.config({paths});\n",
       "      require([\"vega-embed\"], displayChart, err => showError(`Error loading script: ${err.message}`));\n",
       "    } else {\n",
       "      maybeLoadScript(\"vega\", \"5\")\n",
       "        .then(() => maybeLoadScript(\"vega-lite\", \"4.17.0\"))\n",
       "        .then(() => maybeLoadScript(\"vega-embed\", \"6\"))\n",
       "        .catch(showError)\n",
       "        .then(() => displayChart(vegaEmbed));\n",
       "    }\n",
       "  })({\"config\": {\"view\": {\"continuousWidth\": 400, \"continuousHeight\": 300}}, \"layer\": [{\"data\": {\"name\": \"data-350a3342a5ebef460af2e36618e0542d\"}, \"mark\": \"line\", \"encoding\": {\"color\": {\"value\": \"#FFAA00\"}, \"x\": {\"field\": \"hour\", \"type\": \"quantitative\"}, \"y\": {\"field\": \"corr\", \"type\": \"quantitative\"}}, \"height\": 300, \"title\": {\"text\": [\"Correlation plot of Zonal in Winter\"], \"subtitle\": [\"sample size:13995\"], \"color\": \"green\"}, \"width\": 800}, {\"data\": {\"name\": \"data-b9dd60dc560f7891b967d8e82c37ad0c\"}, \"mark\": {\"type\": \"rule\", \"color\": \"#D2386C\"}, \"encoding\": {\"x\": {\"field\": \"Component\", \"type\": \"quantitative\"}}}], \"$schema\": \"https://vega.github.io/schema/vega-lite/v4.17.0.json\", \"datasets\": {\"data-350a3342a5ebef460af2e36618e0542d\": [{\"corr\": 0.016477054357419387, \"hour\": 0}, {\"corr\": 0.14601863402914475, \"hour\": 1}, {\"corr\": 0.20148796457992152, \"hour\": 2}, {\"corr\": -0.12714100030498554, \"hour\": 3}, {\"corr\": -0.013738255506683134, \"hour\": 4}, {\"corr\": 0.08399198925963831, \"hour\": 5}, {\"corr\": -0.04947633865791354, \"hour\": 6}, {\"corr\": 0.13618358924359478, \"hour\": 7}, {\"corr\": 0.0655477452331037, \"hour\": 8}, {\"corr\": -0.014855015822031564, \"hour\": 9}, {\"corr\": -0.004282403464131812, \"hour\": 10}, {\"corr\": 0.00565357940558445, \"hour\": 11}, {\"corr\": -0.05073988107577931, \"hour\": 12}, {\"corr\": 0.02522770656118968, \"hour\": 13}, {\"corr\": 0.12705236014290025, \"hour\": 14}, {\"corr\": 0.10276496790472095, \"hour\": 15}, {\"corr\": 0.2928702313022538, \"hour\": 16}, {\"corr\": -0.08463332405162403, \"hour\": 17}, {\"corr\": 0.044245725324751524, \"hour\": 18}, {\"corr\": 0.19912230716459345, \"hour\": 19}, {\"corr\": 0.017339310210790042, \"hour\": 20}, {\"corr\": 0.053263997683243504, \"hour\": 21}, {\"corr\": 0.1553892468979139, \"hour\": 22}, {\"corr\": -0.17778811925809948, \"hour\": 23}, {\"corr\": -0.1514411558654386, \"hour\": 24}, {\"corr\": 0.018514860775073215, \"hour\": 25}, {\"corr\": -0.02031001880055325, \"hour\": 26}, {\"corr\": 0.19721201915523445, \"hour\": 27}, {\"corr\": -0.11901049870289229, \"hour\": 28}, {\"corr\": 0.01331646872341871, \"hour\": 29}, {\"corr\": 0.022044647657959136, \"hour\": 30}, {\"corr\": -0.08287867953388889, \"hour\": 31}, {\"corr\": 0.0940065346780695, \"hour\": 32}, {\"corr\": 0.09122945989410461, \"hour\": 33}, {\"corr\": 0.02117682090498731, \"hour\": 34}, {\"corr\": 0.054379851150672114, \"hour\": 35}, {\"corr\": 0.11295683135295251, \"hour\": 36}, {\"corr\": 0.13748611195525864, \"hour\": 37}, {\"corr\": 0.016544716691173994, \"hour\": 38}, {\"corr\": 0.008515795541756691, \"hour\": 39}, {\"corr\": -0.11486735351682803, \"hour\": 40}, {\"corr\": -0.0017631500143216656, \"hour\": 41}, {\"corr\": 0.007803270691708708, \"hour\": 42}, {\"corr\": -0.06333025157715971, \"hour\": 43}, {\"corr\": -0.10856545282710212, \"hour\": 44}, {\"corr\": -0.055676074508767374, \"hour\": 45}, {\"corr\": -0.006157811332203086, \"hour\": 46}, {\"corr\": -0.0067970203820013776, \"hour\": 47}, {\"corr\": 0.05903904030434485, \"hour\": 48}, {\"corr\": 0.02234871080137107, \"hour\": 49}, {\"corr\": -0.014383186199260791, \"hour\": 50}, {\"corr\": -0.20752003693546017, \"hour\": 51}, {\"corr\": 0.0216731978058218, \"hour\": 52}, {\"corr\": 0.11152595267560547, \"hour\": 53}, {\"corr\": -0.21835108279363602, \"hour\": 54}, {\"corr\": -0.0012738491262018147, \"hour\": 55}, {\"corr\": -0.015738020007571817, \"hour\": 56}, {\"corr\": -0.0713322044731621, \"hour\": 57}, {\"corr\": 0.10611734038471056, \"hour\": 58}, {\"corr\": 0.09066372270459237, \"hour\": 59}, {\"corr\": 0.05693619561217166, \"hour\": 60}, {\"corr\": 0.150932714465217, \"hour\": 61}, {\"corr\": 0.14510148351086605, \"hour\": 62}, {\"corr\": -0.05929631939017996, \"hour\": 63}, {\"corr\": 0.12117225757678055, \"hour\": 64}, {\"corr\": 0.11949452831179601, \"hour\": 65}, {\"corr\": 0.0586734731232411, \"hour\": 66}, {\"corr\": -0.05335701010415544, \"hour\": 67}, {\"corr\": -0.14491627472449062, \"hour\": 68}, {\"corr\": -0.027237950169278515, \"hour\": 69}, {\"corr\": 0.04453342900100323, \"hour\": 70}, {\"corr\": 0.10272513444092483, \"hour\": 71}], \"data-b9dd60dc560f7891b967d8e82c37ad0c\": [{\"Component\": 24}, {\"Component\": 48}, {\"Component\": 72}]}}, {\"mode\": \"vega-lite\"});\n",
       "</script>"
      ],
      "text/plain": [
       "alt.LayerChart(...)"
      ]
     },
     "execution_count": 89,
     "metadata": {},
     "output_type": "execute_result"
    }
   ],
   "source": [
    "plotrmse(corr_zonal,'corr',\"Correlation plot of Zonal in Winter\",\"sample size:\" + str(size(up_obszonal_list)))"
   ]
  },
  {
   "cell_type": "code",
   "execution_count": 90,
   "id": "fd07de0d-4e7a-4c70-b059-909d40bc56d8",
   "metadata": {},
   "outputs": [
    {
     "data": {
      "text/html": [
       "\n",
       "<div id=\"altair-viz-3483ace312e14b4590fce8c626583440\"></div>\n",
       "<script type=\"text/javascript\">\n",
       "  var VEGA_DEBUG = (typeof VEGA_DEBUG == \"undefined\") ? {} : VEGA_DEBUG;\n",
       "  (function(spec, embedOpt){\n",
       "    let outputDiv = document.currentScript.previousElementSibling;\n",
       "    if (outputDiv.id !== \"altair-viz-3483ace312e14b4590fce8c626583440\") {\n",
       "      outputDiv = document.getElementById(\"altair-viz-3483ace312e14b4590fce8c626583440\");\n",
       "    }\n",
       "    const paths = {\n",
       "      \"vega\": \"https://cdn.jsdelivr.net/npm//vega@5?noext\",\n",
       "      \"vega-lib\": \"https://cdn.jsdelivr.net/npm//vega-lib?noext\",\n",
       "      \"vega-lite\": \"https://cdn.jsdelivr.net/npm//vega-lite@4.17.0?noext\",\n",
       "      \"vega-embed\": \"https://cdn.jsdelivr.net/npm//vega-embed@6?noext\",\n",
       "    };\n",
       "\n",
       "    function maybeLoadScript(lib, version) {\n",
       "      var key = `${lib.replace(\"-\", \"\")}_version`;\n",
       "      return (VEGA_DEBUG[key] == version) ?\n",
       "        Promise.resolve(paths[lib]) :\n",
       "        new Promise(function(resolve, reject) {\n",
       "          var s = document.createElement('script');\n",
       "          document.getElementsByTagName(\"head\")[0].appendChild(s);\n",
       "          s.async = true;\n",
       "          s.onload = () => {\n",
       "            VEGA_DEBUG[key] = version;\n",
       "            return resolve(paths[lib]);\n",
       "          };\n",
       "          s.onerror = () => reject(`Error loading script: ${paths[lib]}`);\n",
       "          s.src = paths[lib];\n",
       "        });\n",
       "    }\n",
       "\n",
       "    function showError(err) {\n",
       "      outputDiv.innerHTML = `<div class=\"error\" style=\"color:red;\">${err}</div>`;\n",
       "      throw err;\n",
       "    }\n",
       "\n",
       "    function displayChart(vegaEmbed) {\n",
       "      vegaEmbed(outputDiv, spec, embedOpt)\n",
       "        .catch(err => showError(`Javascript Error: ${err.message}<br>This usually means there's a typo in your chart specification. See the javascript console for the full traceback.`));\n",
       "    }\n",
       "\n",
       "    if(typeof define === \"function\" && define.amd) {\n",
       "      requirejs.config({paths});\n",
       "      require([\"vega-embed\"], displayChart, err => showError(`Error loading script: ${err.message}`));\n",
       "    } else {\n",
       "      maybeLoadScript(\"vega\", \"5\")\n",
       "        .then(() => maybeLoadScript(\"vega-lite\", \"4.17.0\"))\n",
       "        .then(() => maybeLoadScript(\"vega-embed\", \"6\"))\n",
       "        .catch(showError)\n",
       "        .then(() => displayChart(vegaEmbed));\n",
       "    }\n",
       "  })({\"config\": {\"view\": {\"continuousWidth\": 400, \"continuousHeight\": 300}}, \"layer\": [{\"data\": {\"name\": \"data-1a36af22334825465db8883ee37d929f\"}, \"mark\": \"line\", \"encoding\": {\"color\": {\"value\": \"#FFAA00\"}, \"x\": {\"field\": \"hour\", \"type\": \"quantitative\"}, \"y\": {\"field\": \"corr\", \"type\": \"quantitative\"}}, \"height\": 300, \"title\": {\"text\": [\"Correlation plot of Meridional in Winter\"], \"subtitle\": [\"sample size:13995\"], \"color\": \"green\"}, \"width\": 800}, {\"data\": {\"name\": \"data-b9dd60dc560f7891b967d8e82c37ad0c\"}, \"mark\": {\"type\": \"rule\", \"color\": \"#D2386C\"}, \"encoding\": {\"x\": {\"field\": \"Component\", \"type\": \"quantitative\"}}}], \"$schema\": \"https://vega.github.io/schema/vega-lite/v4.17.0.json\", \"datasets\": {\"data-1a36af22334825465db8883ee37d929f\": [{\"corr\": 0.06588600030527342, \"hour\": 0}, {\"corr\": 0.07934606505180125, \"hour\": 1}, {\"corr\": 0.32388782675166505, \"hour\": 2}, {\"corr\": 0.38240746975889045, \"hour\": 3}, {\"corr\": -0.13719680039897503, \"hour\": 4}, {\"corr\": 0.037223696554259236, \"hour\": 5}, {\"corr\": -0.10633096565185242, \"hour\": 6}, {\"corr\": -0.1295217845246299, \"hour\": 7}, {\"corr\": -0.17566484037114868, \"hour\": 8}, {\"corr\": 0.016603208278502764, \"hour\": 9}, {\"corr\": -0.10016996527831744, \"hour\": 10}, {\"corr\": -0.1276912056041276, \"hour\": 11}, {\"corr\": 0.06045942729057831, \"hour\": 12}, {\"corr\": 0.061100389516165796, \"hour\": 13}, {\"corr\": -0.024741068298423194, \"hour\": 14}, {\"corr\": 0.2203991580369853, \"hour\": 15}, {\"corr\": 0.08622630003931693, \"hour\": 16}, {\"corr\": -0.02442564519882492, \"hour\": 17}, {\"corr\": -0.18615445066624506, \"hour\": 18}, {\"corr\": 0.23232733940705289, \"hour\": 19}, {\"corr\": -0.0003788624491046526, \"hour\": 20}, {\"corr\": 0.06305362714615421, \"hour\": 21}, {\"corr\": 0.1780352120598183, \"hour\": 22}, {\"corr\": -0.10520717034085468, \"hour\": 23}, {\"corr\": -0.10411023628344765, \"hour\": 24}, {\"corr\": -0.014305821665868355, \"hour\": 25}, {\"corr\": -0.31548224381387363, \"hour\": 26}, {\"corr\": 0.03572629413975767, \"hour\": 27}, {\"corr\": 0.09065277377832472, \"hour\": 28}, {\"corr\": 0.0072537871206839145, \"hour\": 29}, {\"corr\": 0.14078221324724677, \"hour\": 30}, {\"corr\": -0.17135512400933875, \"hour\": 31}, {\"corr\": -0.11075681539566884, \"hour\": 32}, {\"corr\": 0.02306273653483175, \"hour\": 33}, {\"corr\": -0.11079841909645613, \"hour\": 34}, {\"corr\": 0.028943210311221525, \"hour\": 35}, {\"corr\": 0.1611390052424551, \"hour\": 36}, {\"corr\": -0.047583031496606164, \"hour\": 37}, {\"corr\": -0.1684005580189911, \"hour\": 38}, {\"corr\": 0.02870125652613069, \"hour\": 39}, {\"corr\": -0.05746988914474011, \"hour\": 40}, {\"corr\": -0.012440120365914863, \"hour\": 41}, {\"corr\": 0.1736804755556644, \"hour\": 42}, {\"corr\": 0.18826290568493825, \"hour\": 43}, {\"corr\": -0.14819814179098162, \"hour\": 44}, {\"corr\": 0.07264313602617203, \"hour\": 45}, {\"corr\": -0.26111976183067176, \"hour\": 46}, {\"corr\": 0.03855693882264071, \"hour\": 47}, {\"corr\": -0.13026387884207788, \"hour\": 48}, {\"corr\": -0.19972117778909787, \"hour\": 49}, {\"corr\": -0.12129562881533304, \"hour\": 50}, {\"corr\": -0.09666354237681048, \"hour\": 51}, {\"corr\": 0.04997639954910598, \"hour\": 52}, {\"corr\": 0.10049030161992663, \"hour\": 53}, {\"corr\": -0.22948564333033497, \"hour\": 54}, {\"corr\": -0.057112494027252755, \"hour\": 55}, {\"corr\": -0.04501712166767222, \"hour\": 56}, {\"corr\": -0.3007826164232766, \"hour\": 57}, {\"corr\": -0.018028565912742593, \"hour\": 58}, {\"corr\": 0.06445921042258147, \"hour\": 59}, {\"corr\": -0.005662282091963257, \"hour\": 60}, {\"corr\": -0.2243492015463698, \"hour\": 61}, {\"corr\": 0.030377385157320788, \"hour\": 62}, {\"corr\": -0.035380180407683516, \"hour\": 63}, {\"corr\": 0.26636752503674677, \"hour\": 64}, {\"corr\": -0.05609610274902325, \"hour\": 65}, {\"corr\": -0.1190712558072306, \"hour\": 66}, {\"corr\": 0.12561964998499578, \"hour\": 67}, {\"corr\": -0.03428344768176486, \"hour\": 68}, {\"corr\": -0.00893575935504162, \"hour\": 69}, {\"corr\": -0.15700238262022964, \"hour\": 70}, {\"corr\": 0.10725299286380777, \"hour\": 71}], \"data-b9dd60dc560f7891b967d8e82c37ad0c\": [{\"Component\": 24}, {\"Component\": 48}, {\"Component\": 72}]}}, {\"mode\": \"vega-lite\"});\n",
       "</script>"
      ],
      "text/plain": [
       "alt.LayerChart(...)"
      ]
     },
     "execution_count": 90,
     "metadata": {},
     "output_type": "execute_result"
    }
   ],
   "source": [
    "plotrmse(corr_meridional,'corr',\"Correlation plot of Meridional in Winter\",\"sample size:\" + str(size(up_obsmeridional_list)))"
   ]
  }
 ],
 "metadata": {
  "kernelspec": {
   "display_name": "Python 3 (ipykernel)",
   "language": "python",
   "name": "python3"
  },
  "language_info": {
   "codemirror_mode": {
    "name": "ipython",
    "version": 3
   },
   "file_extension": ".py",
   "mimetype": "text/x-python",
   "name": "python",
   "nbconvert_exporter": "python",
   "pygments_lexer": "ipython3",
   "version": "3.9.13"
  }
 },
 "nbformat": 4,
 "nbformat_minor": 5
}
