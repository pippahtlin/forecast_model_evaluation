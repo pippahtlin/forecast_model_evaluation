{
 "cells": [
  {
   "cell_type": "markdown",
   "id": "fe1dcc41-0c6c-4a32-a166-d5f69db146b4",
   "metadata": {},
   "source": [
    "## Santa Barbara Weather Forecast Model Evaluation\n",
    "### UCSB Climate Variation and Changes Research Group\n",
    "#### Advisor: Professor Charles Jones\n",
    "#### Author: Pippa Lin"
   ]
  },
  {
   "cell_type": "code",
   "execution_count": 2,
   "id": "332f5a79-ff29-46a7-b433-68b0f1ac580c",
   "metadata": {},
   "outputs": [],
   "source": [
    "import numpy as np\n",
    "import pandas as pd\n",
    "import altair as alt\n",
    "import math\n",
    "import os"
   ]
  },
  {
   "cell_type": "markdown",
   "id": "b4a74722-e0f5-4cb6-8e55-c5f1cd8de08d",
   "metadata": {
    "jp-MarkdownHeadingCollapsed": true,
    "tags": []
   },
   "source": [
    "### Introduction:\n",
    "This research project aims to interpret present and future climates in Santa Barbara from the Numerical Weather Forecast (NWF) model. The data is collected from https://clivac.eri.ucsb.edu/clivac/wrfreal/index.html. In this project, I performed statistical analysis to compare NWF model data and weather station observation, generating root mean square error, mean bias, and correlation by hour to assess model performance."
   ]
  },
  {
   "cell_type": "markdown",
   "id": "a94b637d-178f-40d7-8102-30c7e6447aa9",
   "metadata": {},
   "source": [
    "### 1.Projection Function\n",
    "This function combines wind speed and wind direction and projects it onto two perpendicular values: zonal and meridional."
   ]
  },
  {
   "cell_type": "code",
   "execution_count": 20,
   "id": "8e16765d-3113-4e04-b5b7-3d7503e9d92d",
   "metadata": {},
   "outputs": [],
   "source": [
    "def projection(direction, speed):\n",
    "    zonal = 0  # Default value for zonal\n",
    "    meridional = 0\n",
    "    \n",
    "    if (speed == 9999. or direction == 9999.):\n",
    "        zonal = 9999\n",
    "        meridional = 9999\n",
    "     \n",
    "    elif direction == 360.0:\n",
    "        direction == 0.0\n",
    "        \n",
    "    elif (direction >= 0 and direction < 90):\n",
    "        zonal = -speed * np.sin(direction)\n",
    "        meridional = -speed * np.cos(direction)\n",
    "    \n",
    "    elif (direction >= 90 and direction < 180):\n",
    "        beta = 180 - direction\n",
    "        zonal = -speed * np.sin(beta)\n",
    "        meridional = speed * np.cos(beta)\n",
    "        \n",
    "    elif (direction >= 180 and direction < 270):\n",
    "        beta  = 270.0 - direction\n",
    "        zonal =  speed * np.cos(beta)\n",
    "        meridional =  speed * np.sin(beta)\n",
    "    \n",
    "    elif (direction >= 270 and direction < 360):\n",
    "        beta = 360 - direction\n",
    "        zonal = speed * np.sin(beta)\n",
    "        meridional = -speed * np.cos(beta)\n",
    "    \n",
    "    else:\n",
    "        zonal = np.nan\n",
    "        meridional = np.nan\n",
    "\n",
    "    return zonal, meridional\n",
    "\n",
    "\n",
    "\n",
    "def projectionList(Listdirection, Listspeed):\n",
    "    Listzonal = []\n",
    "    Listmeridional = []\n",
    "    for d,s in zip(Listdirection, Listspeed):\n",
    "        Listzonal.append(projection(d,s)[0])\n",
    "        Listmeridional.append(projection(d,s)[1])\n",
    "    return Listzonal, Listmeridional"
   ]
  },
  {
   "cell_type": "markdown",
   "id": "e35d5117-92c5-47fc-8626-901ac27a474e",
   "metadata": {
    "tags": []
   },
   "source": [
    "### 2.Read the data:\n",
    "Read and tidy the data"
   ]
  },
  {
   "cell_type": "code",
   "execution_count": 4,
   "id": "f2238839-508a-4618-a27c-f5221ac7f471",
   "metadata": {},
   "outputs": [],
   "source": [
    "folder_path = '/Users/pippalin/Desktop/Climate Research/xskill-mtic1/' \n",
    "file_names = os.listdir(folder_path)\n",
    "\n",
    "# Initialize an empty list to store the data frames\n",
    "dfs = []\n",
    "\n",
    "# Loop through the list of file names and read each file into a Pandas DataFrame\n",
    "for file_name in file_names:\n",
    "    # Check if the file is a CSV file\n",
    "    if file_name.endswith('.txt'):\n",
    "        # Read the file into a Pandas DataFrame\n",
    "        file_path = os.path.join(folder_path, file_name)\n",
    "        df = pd.read_csv(file_path, skiprows = 7,nrows = 73) # since files with > 73 rows has nan values after row 73\n",
    "        # Change the column name of the data frame\n",
    "        df.set_axis(['yyyy','mm', 'dd', 'hh', 'min','ss','modtemp','modrh','modwsp','modwd','yyyy1','mm1', 'dd1', 'hh1', 'mm1','ss1','obstemp','obsrh','obswsp','obswd'], axis=1, inplace=True)\n",
    "        \n",
    "        # Frist, move the obs-part up by one, covering the first row, and drop the last row:\n",
    "        df.loc[0:len(df)-2, 'yyyy1':'obswd'] = df.loc[1:len(df)-1, 'yyyy1':'obswd'].values\n",
    "        df = df.drop(df.index[-1])\n",
    "\n",
    "        # Add a column hour\n",
    "        df[\"hour\"] = range(len(df))\n",
    "        \n",
    "        dfs.append(df)\n",
    "        \n",
    "# Concatenate the data frames into a single data frame\n",
    "merged_df = pd.concat(dfs).sort_values(by=['yyyy','mm']).reset_index(drop=True)"
   ]
  },
  {
   "cell_type": "markdown",
   "id": "99c2a89f-0170-4234-90eb-84db0486b1a2",
   "metadata": {},
   "source": [
    "### 3.Create the Zonal and Meridional columns:"
   ]
  },
  {
   "cell_type": "code",
   "execution_count": 31,
   "id": "fe8d227b-ebb1-49b2-9b67-60f82b955c41",
   "metadata": {
    "tags": []
   },
   "outputs": [],
   "source": [
    "merged_df[\"modzonal\"],merged_df[\"modmeridional\"] = projectionList(merged_df[\"modwd\"], merged_df[\"modwsp\"])\n",
    "merged_df[\"obszonal\"],merged_df[\"obsmeridional\"] = projectionList(merged_df[\"obswd\"], merged_df[\"obswsp\"])"
   ]
  },
  {
   "cell_type": "markdown",
   "id": "f0e824ae-a5ad-4402-871b-1267821500f4",
   "metadata": {},
   "source": [
    "### 4.Calculate RMSE, MB, Correlation by hour"
   ]
  },
  {
   "cell_type": "markdown",
   "id": "b209d0b9-9faf-438f-ad98-332ed71a9f4d",
   "metadata": {},
   "source": [
    "#### RMSE:\n",
    "1. Calcualte $(mod-obs)^2$\n",
    "2. Group by hour and sum up $(mod-obs)^2$\n",
    "3. Divide the sum by n and take square root"
   ]
  },
  {
   "cell_type": "code",
   "execution_count": 33,
   "id": "4cd47d9a-9a08-496b-adf4-270110b2d39c",
   "metadata": {},
   "outputs": [],
   "source": [
    "# 1. Calculate the square difference\n",
    "merged_df[\"zonal_dif\"] = (merged_df[\"obszonal\"] - merged_df[\"modzonal\"])**2\n",
    "merged_df[\"meridional_dif\"] = (merged_df[\"obsmeridional\"] - merged_df[\"modmeridional\"])**2"
   ]
  },
  {
   "cell_type": "code",
   "execution_count": 37,
   "id": "1c2eec70-081f-4311-bf8d-03f4f238ee78",
   "metadata": {},
   "outputs": [],
   "source": [
    "# 2. Group by hour and sum\n",
    "sum_zonal = merged_df.groupby(\"hour\")[\"zonal_dif\"].sum()\n",
    "sum_meridional = merged_df.groupby(\"hour\")[\"meridional_dif\"].sum()"
   ]
  },
  {
   "cell_type": "code",
   "execution_count": 38,
   "id": "71728c20-c248-4666-8ec5-020eb9be0c4e",
   "metadata": {},
   "outputs": [],
   "source": [
    "# 3. Divide the sums by n and take square root, calculate rmse and make it a dataframe\n",
    "count = merged_df.groupby(\"hour\").count()\n",
    "\n",
    "# First, write a function to calculate rmse and return rmse\n",
    "def rmse(data,count):\n",
    "    rmse = []\n",
    "    for i in range(len(data)):\n",
    "        rmse.append(np.sqrt(data[i]/count[i]))\n",
    "    rmse = pd.DataFrame(rmse,columns = ['rmse'])\n",
    "    rmse['hour'] = range(0,72)\n",
    "    return rmse\n",
    "\n",
    "# Now we calculate rmse for each variable\n",
    "rmse_zonal = rmse(sum_zonal,count[\"obszonal\"])\n",
    "rmse_meridional = rmse(sum_meridional,count[\"obsmeridional\"])"
   ]
  },
  {
   "cell_type": "markdown",
   "id": "4c635d91-ccb8-4c22-adbe-05c2db0f1e59",
   "metadata": {},
   "source": [
    "#### Write a funtcion of plotting"
   ]
  },
  {
   "cell_type": "code",
   "execution_count": 39,
   "id": "ffe56050-e75b-433a-811d-5daf67c5a1f1",
   "metadata": {},
   "outputs": [],
   "source": [
    "def plotrmse(dataframe,plotname):\n",
    "    # A straight line\n",
    "    rule = alt.Chart(pd.DataFrame({'Component': [24,48,72]})).mark_rule(color='#D2386C').encode(x='Component')\n",
    "    \n",
    "    # Plotting\n",
    "    plt = alt.Chart(dataframe).mark_line().encode(\n",
    "    x = 'hour:Q',\n",
    "    y = 'rmse',\n",
    "    color=alt.value(\"#FFAA00\")\n",
    ").properties(\n",
    "    width = 800,\n",
    "    height = 300,\n",
    "    title={\n",
    "      \"text\": [plotname],\n",
    "      \"color\": \"green\"\n",
    "    })\n",
    "    return plt + rule"
   ]
  },
  {
   "cell_type": "code",
   "execution_count": 40,
   "id": "cbb248f5-4c16-4bc3-9056-18aece072f41",
   "metadata": {},
   "outputs": [
    {
     "data": {
      "text/html": [
       "\n",
       "<div id=\"altair-viz-1b91174e83464a58b82072e0d6bcae60\"></div>\n",
       "<script type=\"text/javascript\">\n",
       "  var VEGA_DEBUG = (typeof VEGA_DEBUG == \"undefined\") ? {} : VEGA_DEBUG;\n",
       "  (function(spec, embedOpt){\n",
       "    let outputDiv = document.currentScript.previousElementSibling;\n",
       "    if (outputDiv.id !== \"altair-viz-1b91174e83464a58b82072e0d6bcae60\") {\n",
       "      outputDiv = document.getElementById(\"altair-viz-1b91174e83464a58b82072e0d6bcae60\");\n",
       "    }\n",
       "    const paths = {\n",
       "      \"vega\": \"https://cdn.jsdelivr.net/npm//vega@5?noext\",\n",
       "      \"vega-lib\": \"https://cdn.jsdelivr.net/npm//vega-lib?noext\",\n",
       "      \"vega-lite\": \"https://cdn.jsdelivr.net/npm//vega-lite@4.17.0?noext\",\n",
       "      \"vega-embed\": \"https://cdn.jsdelivr.net/npm//vega-embed@6?noext\",\n",
       "    };\n",
       "\n",
       "    function maybeLoadScript(lib, version) {\n",
       "      var key = `${lib.replace(\"-\", \"\")}_version`;\n",
       "      return (VEGA_DEBUG[key] == version) ?\n",
       "        Promise.resolve(paths[lib]) :\n",
       "        new Promise(function(resolve, reject) {\n",
       "          var s = document.createElement('script');\n",
       "          document.getElementsByTagName(\"head\")[0].appendChild(s);\n",
       "          s.async = true;\n",
       "          s.onload = () => {\n",
       "            VEGA_DEBUG[key] = version;\n",
       "            return resolve(paths[lib]);\n",
       "          };\n",
       "          s.onerror = () => reject(`Error loading script: ${paths[lib]}`);\n",
       "          s.src = paths[lib];\n",
       "        });\n",
       "    }\n",
       "\n",
       "    function showError(err) {\n",
       "      outputDiv.innerHTML = `<div class=\"error\" style=\"color:red;\">${err}</div>`;\n",
       "      throw err;\n",
       "    }\n",
       "\n",
       "    function displayChart(vegaEmbed) {\n",
       "      vegaEmbed(outputDiv, spec, embedOpt)\n",
       "        .catch(err => showError(`Javascript Error: ${err.message}<br>This usually means there's a typo in your chart specification. See the javascript console for the full traceback.`));\n",
       "    }\n",
       "\n",
       "    if(typeof define === \"function\" && define.amd) {\n",
       "      requirejs.config({paths});\n",
       "      require([\"vega-embed\"], displayChart, err => showError(`Error loading script: ${err.message}`));\n",
       "    } else {\n",
       "      maybeLoadScript(\"vega\", \"5\")\n",
       "        .then(() => maybeLoadScript(\"vega-lite\", \"4.17.0\"))\n",
       "        .then(() => maybeLoadScript(\"vega-embed\", \"6\"))\n",
       "        .catch(showError)\n",
       "        .then(() => displayChart(vegaEmbed));\n",
       "    }\n",
       "  })({\"config\": {\"view\": {\"continuousWidth\": 400, \"continuousHeight\": 300}}, \"layer\": [{\"data\": {\"name\": \"data-d27ae9d895b6cda8e36edad5a8dc31d3\"}, \"mark\": \"line\", \"encoding\": {\"color\": {\"value\": \"#FFAA00\"}, \"x\": {\"field\": \"hour\", \"type\": \"quantitative\"}, \"y\": {\"field\": \"rmse\", \"type\": \"quantitative\"}}, \"height\": 300, \"title\": {\"text\": [\"RMSE plot of Zonal\"], \"color\": \"green\"}, \"width\": 800}, {\"data\": {\"name\": \"data-b9dd60dc560f7891b967d8e82c37ad0c\"}, \"mark\": {\"type\": \"rule\", \"color\": \"#D2386C\"}, \"encoding\": {\"x\": {\"field\": \"Component\", \"type\": \"quantitative\"}}}], \"$schema\": \"https://vega.github.io/schema/vega-lite/v4.17.0.json\", \"datasets\": {\"data-d27ae9d895b6cda8e36edad5a8dc31d3\": [{\"rmse\": 2.463001720530571, \"hour\": 0}, {\"rmse\": 2.8719807856407202, \"hour\": 1}, {\"rmse\": 4.223315929449458, \"hour\": 2}, {\"rmse\": 4.708901740835646, \"hour\": 3}, {\"rmse\": 4.875411035071638, \"hour\": 4}, {\"rmse\": 4.839804222736664, \"hour\": 5}, {\"rmse\": 4.89278581663655, \"hour\": 6}, {\"rmse\": 5.070309531015078, \"hour\": 7}, {\"rmse\": 4.6554171298525215, \"hour\": 8}, {\"rmse\": 4.696190149327086, \"hour\": 9}, {\"rmse\": 4.503995856986974, \"hour\": 10}, {\"rmse\": 4.246275397525847, \"hour\": 11}, {\"rmse\": 4.058111456620244, \"hour\": 12}, {\"rmse\": 3.563311441860213, \"hour\": 13}, {\"rmse\": 3.5586820753887536, \"hour\": 14}, {\"rmse\": 2.902156626577582, \"hour\": 15}, {\"rmse\": 2.162828846689152, \"hour\": 16}, {\"rmse\": 2.3159875013980105, \"hour\": 17}, {\"rmse\": 2.526842347192915, \"hour\": 18}, {\"rmse\": 2.366681473912798, \"hour\": 19}, {\"rmse\": 2.6791998237374828, \"hour\": 20}, {\"rmse\": 2.712446057907316, \"hour\": 21}, {\"rmse\": 2.7082759483964076, \"hour\": 22}, {\"rmse\": 2.86644585484461, \"hour\": 23}, {\"rmse\": 2.8194494716192824, \"hour\": 24}, {\"rmse\": 3.2703688929922277, \"hour\": 25}, {\"rmse\": 4.336645761034961, \"hour\": 26}, {\"rmse\": 4.570990019308398, \"hour\": 27}, {\"rmse\": 5.320236532902671, \"hour\": 28}, {\"rmse\": 5.061632298774669, \"hour\": 29}, {\"rmse\": 4.83056648487602, \"hour\": 30}, {\"rmse\": 4.955158825628335, \"hour\": 31}, {\"rmse\": 5.1542802864059905, \"hour\": 32}, {\"rmse\": 4.768045005400538, \"hour\": 33}, {\"rmse\": 4.513347510019864, \"hour\": 34}, {\"rmse\": 4.331948345284133, \"hour\": 35}, {\"rmse\": 4.5081706915692275, \"hour\": 36}, {\"rmse\": 3.583273076081076, \"hour\": 37}, {\"rmse\": 3.6954952485736854, \"hour\": 38}, {\"rmse\": 3.239501825436664, \"hour\": 39}, {\"rmse\": 2.2911423509762514, \"hour\": 40}, {\"rmse\": 2.2974634515472485, \"hour\": 41}, {\"rmse\": 2.4860698338610083, \"hour\": 42}, {\"rmse\": 2.4631155143584085, \"hour\": 43}, {\"rmse\": 2.802869826590642, \"hour\": 44}, {\"rmse\": 2.7461816112414326, \"hour\": 45}, {\"rmse\": 2.7289085370742536, \"hour\": 46}, {\"rmse\": 2.7262784753409854, \"hour\": 47}, {\"rmse\": 2.574778324959516, \"hour\": 48}, {\"rmse\": 3.3371921449339643, \"hour\": 49}, {\"rmse\": 4.757716750449978, \"hour\": 50}, {\"rmse\": 4.745192502287929, \"hour\": 51}, {\"rmse\": 4.821516539492703, \"hour\": 52}, {\"rmse\": 5.051666313183971, \"hour\": 53}, {\"rmse\": 5.099727850190429, \"hour\": 54}, {\"rmse\": 4.867787682142866, \"hour\": 55}, {\"rmse\": 4.704454552880747, \"hour\": 56}, {\"rmse\": 4.772453585063837, \"hour\": 57}, {\"rmse\": 4.591176978594243, \"hour\": 58}, {\"rmse\": 4.3429131943114765, \"hour\": 59}, {\"rmse\": 4.2217518496665605, \"hour\": 60}, {\"rmse\": 3.6189444760219738, \"hour\": 61}, {\"rmse\": 3.910493078709677, \"hour\": 62}, {\"rmse\": 3.4724801662100013, \"hour\": 63}, {\"rmse\": 2.3573505707148015, \"hour\": 64}, {\"rmse\": 2.4278165122560287, \"hour\": 65}, {\"rmse\": 2.445344840330918, \"hour\": 66}, {\"rmse\": 2.561579174562769, \"hour\": 67}, {\"rmse\": 2.7003364519478397, \"hour\": 68}, {\"rmse\": 2.7054561017271603, \"hour\": 69}, {\"rmse\": 2.745212209995295, \"hour\": 70}, {\"rmse\": 2.6508895673672073, \"hour\": 71}], \"data-b9dd60dc560f7891b967d8e82c37ad0c\": [{\"Component\": 24}, {\"Component\": 48}, {\"Component\": 72}]}}, {\"mode\": \"vega-lite\"});\n",
       "</script>"
      ],
      "text/plain": [
       "alt.LayerChart(...)"
      ]
     },
     "execution_count": 40,
     "metadata": {},
     "output_type": "execute_result"
    }
   ],
   "source": [
    "plotrmse(rmse_zonal,\"RMSE plot of Zonal\")"
   ]
  },
  {
   "cell_type": "code",
   "execution_count": 41,
   "id": "0a941dc3-010c-4993-b5b4-4a0ae298a890",
   "metadata": {},
   "outputs": [
    {
     "data": {
      "text/html": [
       "\n",
       "<div id=\"altair-viz-8e6e4ec696bd454783b70792c4bebb2a\"></div>\n",
       "<script type=\"text/javascript\">\n",
       "  var VEGA_DEBUG = (typeof VEGA_DEBUG == \"undefined\") ? {} : VEGA_DEBUG;\n",
       "  (function(spec, embedOpt){\n",
       "    let outputDiv = document.currentScript.previousElementSibling;\n",
       "    if (outputDiv.id !== \"altair-viz-8e6e4ec696bd454783b70792c4bebb2a\") {\n",
       "      outputDiv = document.getElementById(\"altair-viz-8e6e4ec696bd454783b70792c4bebb2a\");\n",
       "    }\n",
       "    const paths = {\n",
       "      \"vega\": \"https://cdn.jsdelivr.net/npm//vega@5?noext\",\n",
       "      \"vega-lib\": \"https://cdn.jsdelivr.net/npm//vega-lib?noext\",\n",
       "      \"vega-lite\": \"https://cdn.jsdelivr.net/npm//vega-lite@4.17.0?noext\",\n",
       "      \"vega-embed\": \"https://cdn.jsdelivr.net/npm//vega-embed@6?noext\",\n",
       "    };\n",
       "\n",
       "    function maybeLoadScript(lib, version) {\n",
       "      var key = `${lib.replace(\"-\", \"\")}_version`;\n",
       "      return (VEGA_DEBUG[key] == version) ?\n",
       "        Promise.resolve(paths[lib]) :\n",
       "        new Promise(function(resolve, reject) {\n",
       "          var s = document.createElement('script');\n",
       "          document.getElementsByTagName(\"head\")[0].appendChild(s);\n",
       "          s.async = true;\n",
       "          s.onload = () => {\n",
       "            VEGA_DEBUG[key] = version;\n",
       "            return resolve(paths[lib]);\n",
       "          };\n",
       "          s.onerror = () => reject(`Error loading script: ${paths[lib]}`);\n",
       "          s.src = paths[lib];\n",
       "        });\n",
       "    }\n",
       "\n",
       "    function showError(err) {\n",
       "      outputDiv.innerHTML = `<div class=\"error\" style=\"color:red;\">${err}</div>`;\n",
       "      throw err;\n",
       "    }\n",
       "\n",
       "    function displayChart(vegaEmbed) {\n",
       "      vegaEmbed(outputDiv, spec, embedOpt)\n",
       "        .catch(err => showError(`Javascript Error: ${err.message}<br>This usually means there's a typo in your chart specification. See the javascript console for the full traceback.`));\n",
       "    }\n",
       "\n",
       "    if(typeof define === \"function\" && define.amd) {\n",
       "      requirejs.config({paths});\n",
       "      require([\"vega-embed\"], displayChart, err => showError(`Error loading script: ${err.message}`));\n",
       "    } else {\n",
       "      maybeLoadScript(\"vega\", \"5\")\n",
       "        .then(() => maybeLoadScript(\"vega-lite\", \"4.17.0\"))\n",
       "        .then(() => maybeLoadScript(\"vega-embed\", \"6\"))\n",
       "        .catch(showError)\n",
       "        .then(() => displayChart(vegaEmbed));\n",
       "    }\n",
       "  })({\"config\": {\"view\": {\"continuousWidth\": 400, \"continuousHeight\": 300}}, \"layer\": [{\"data\": {\"name\": \"data-44af651618d7c7ec83c530b1c2c56396\"}, \"mark\": \"line\", \"encoding\": {\"color\": {\"value\": \"#FFAA00\"}, \"x\": {\"field\": \"hour\", \"type\": \"quantitative\"}, \"y\": {\"field\": \"rmse\", \"type\": \"quantitative\"}}, \"height\": 300, \"title\": {\"text\": [\"RMSE plot of Meridional\"], \"color\": \"green\"}, \"width\": 800}, {\"data\": {\"name\": \"data-b9dd60dc560f7891b967d8e82c37ad0c\"}, \"mark\": {\"type\": \"rule\", \"color\": \"#D2386C\"}, \"encoding\": {\"x\": {\"field\": \"Component\", \"type\": \"quantitative\"}}}], \"$schema\": \"https://vega.github.io/schema/vega-lite/v4.17.0.json\", \"datasets\": {\"data-44af651618d7c7ec83c530b1c2c56396\": [{\"rmse\": 2.584915302833691, \"hour\": 0}, {\"rmse\": 3.2243087527820338, \"hour\": 1}, {\"rmse\": 3.808468293967452, \"hour\": 2}, {\"rmse\": 4.664382446953725, \"hour\": 3}, {\"rmse\": 5.516178375009145, \"hour\": 4}, {\"rmse\": 4.645020603395651, \"hour\": 5}, {\"rmse\": 5.06438000229512, \"hour\": 6}, {\"rmse\": 4.670379749043529, \"hour\": 7}, {\"rmse\": 4.747248955062286, \"hour\": 8}, {\"rmse\": 4.205093523088211, \"hour\": 9}, {\"rmse\": 4.352586476051711, \"hour\": 10}, {\"rmse\": 4.386989413526134, \"hour\": 11}, {\"rmse\": 3.792099140452453, \"hour\": 12}, {\"rmse\": 3.874534364698357, \"hour\": 13}, {\"rmse\": 3.6434720760164496, \"hour\": 14}, {\"rmse\": 2.7656751023312798, \"hour\": 15}, {\"rmse\": 2.3639743518311116, \"hour\": 16}, {\"rmse\": 2.229661432271346, \"hour\": 17}, {\"rmse\": 2.357064193884542, \"hour\": 18}, {\"rmse\": 2.460044759525253, \"hour\": 19}, {\"rmse\": 2.749363443225916, \"hour\": 20}, {\"rmse\": 2.7919978347211236, \"hour\": 21}, {\"rmse\": 2.6834856211215175, \"hour\": 22}, {\"rmse\": 2.6632228784184453, \"hour\": 23}, {\"rmse\": 2.8996895802852705, \"hour\": 24}, {\"rmse\": 3.5475458711644037, \"hour\": 25}, {\"rmse\": 4.477719051143209, \"hour\": 26}, {\"rmse\": 4.867218376931157, \"hour\": 27}, {\"rmse\": 5.07962724963676, \"hour\": 28}, {\"rmse\": 5.089969632760207, \"hour\": 29}, {\"rmse\": 4.877369203837755, \"hour\": 30}, {\"rmse\": 5.14244812035496, \"hour\": 31}, {\"rmse\": 4.7912220686346485, \"hour\": 32}, {\"rmse\": 4.714254019126762, \"hour\": 33}, {\"rmse\": 4.565021434166897, \"hour\": 34}, {\"rmse\": 4.457754520332622, \"hour\": 35}, {\"rmse\": 3.909806908449751, \"hour\": 36}, {\"rmse\": 3.8954472284706174, \"hour\": 37}, {\"rmse\": 3.5713039679565295, \"hour\": 38}, {\"rmse\": 2.9898355029792967, \"hour\": 39}, {\"rmse\": 2.9135908189746145, \"hour\": 40}, {\"rmse\": 2.2945938981597163, \"hour\": 41}, {\"rmse\": 2.209861574937268, \"hour\": 42}, {\"rmse\": 2.45763952919788, \"hour\": 43}, {\"rmse\": 2.795325700683167, \"hour\": 44}, {\"rmse\": 2.7519278855336506, \"hour\": 45}, {\"rmse\": 2.931966675789794, \"hour\": 46}, {\"rmse\": 2.744586860917347, \"hour\": 47}, {\"rmse\": 3.0142925156728073, \"hour\": 48}, {\"rmse\": 3.6748740017878094, \"hour\": 49}, {\"rmse\": 4.368680330275655, \"hour\": 50}, {\"rmse\": 5.009387864049477, \"hour\": 51}, {\"rmse\": 5.152698205165703, \"hour\": 52}, {\"rmse\": 5.037300113269934, \"hour\": 53}, {\"rmse\": 4.937301498079057, \"hour\": 54}, {\"rmse\": 5.004546515248379, \"hour\": 55}, {\"rmse\": 5.080514145993873, \"hour\": 56}, {\"rmse\": 4.836811471819887, \"hour\": 57}, {\"rmse\": 4.449063172788685, \"hour\": 58}, {\"rmse\": 4.614952991193177, \"hour\": 59}, {\"rmse\": 4.178784901059127, \"hour\": 60}, {\"rmse\": 4.088830794767615, \"hour\": 61}, {\"rmse\": 3.498099479532354, \"hour\": 62}, {\"rmse\": 3.0743601629920607, \"hour\": 63}, {\"rmse\": 2.5361938438115734, \"hour\": 64}, {\"rmse\": 2.431123338199392, \"hour\": 65}, {\"rmse\": 2.234727089505012, \"hour\": 66}, {\"rmse\": 2.4562482236941956, \"hour\": 67}, {\"rmse\": 2.685787167736711, \"hour\": 68}, {\"rmse\": 2.746629686406888, \"hour\": 69}, {\"rmse\": 2.7851227789133017, \"hour\": 70}, {\"rmse\": 2.7082070478105513, \"hour\": 71}], \"data-b9dd60dc560f7891b967d8e82c37ad0c\": [{\"Component\": 24}, {\"Component\": 48}, {\"Component\": 72}]}}, {\"mode\": \"vega-lite\"});\n",
       "</script>"
      ],
      "text/plain": [
       "alt.LayerChart(...)"
      ]
     },
     "execution_count": 41,
     "metadata": {},
     "output_type": "execute_result"
    }
   ],
   "source": [
    "plotrmse(rmse_meridional,\"RMSE plot of Meridional\")"
   ]
  },
  {
   "cell_type": "markdown",
   "id": "d399a7d6-43eb-4889-87b0-67f7f053d80a",
   "metadata": {},
   "source": [
    "<br>\n",
    "\n",
    "#### MB:\n",
    "1. Calcualte $(mod-obs)$\n",
    "2. Group by hour and sum up $(mod-obs)$\n",
    "3. Divide the sum by n"
   ]
  },
  {
   "cell_type": "code",
   "execution_count": 42,
   "id": "9c9301f4-c0a9-42e4-aea7-8c152c7b6518",
   "metadata": {},
   "outputs": [],
   "source": [
    "# 1. Calculate the difference\n",
    "merged_df[\"zonal_dif\"] = merged_df[\"obszonal\"] - merged_df[\"modzonal\"]\n",
    "merged_df[\"meridional_dif\"] = merged_df[\"obsmeridional\"] - merged_df[\"modmeridional\"]"
   ]
  },
  {
   "cell_type": "code",
   "execution_count": 43,
   "id": "a803ccd5-3a75-4363-9d67-37abcef51de6",
   "metadata": {},
   "outputs": [],
   "source": [
    "# 2. Group by hour and sum\n",
    "sum_zonal = merged_df.groupby(\"hour\")[\"zonal_dif\"].sum()\n",
    "sum_meridional = merged_df.groupby(\"hour\")[\"meridional_dif\"].sum()"
   ]
  },
  {
   "cell_type": "code",
   "execution_count": 44,
   "id": "068678a5-afbb-49f9-ab75-e5cb799d0fd4",
   "metadata": {},
   "outputs": [],
   "source": [
    "# 3. Divide the sums by n and take square root, calculate rmse and make it a dataframe\n",
    "count = merged_df.groupby(\"hour\").count()\n",
    "\n",
    "# First, write a function to calculate rmse and return rmse\n",
    "def mb(data,count):\n",
    "    mb = []\n",
    "    for i in range(len(data)):\n",
    "        mb.append(data[i]/count[i])\n",
    "    mb = pd.DataFrame(mb,columns = ['mb'])\n",
    "    mb['hour'] = range(0,72)\n",
    "    return mb\n",
    "\n",
    "# Now we calculate rmse for each variable\n",
    "mb_zonal = mb(sum_zonal,count[\"obszonal\"])\n",
    "mb_meridional = mb(sum_meridional,count[\"obsmeridional\"])"
   ]
  },
  {
   "cell_type": "markdown",
   "id": "746dc9a3-69ba-45bf-9c7c-6b2291840adb",
   "metadata": {},
   "source": [
    "#### Write a funtcion of plotting"
   ]
  },
  {
   "cell_type": "code",
   "execution_count": 45,
   "id": "dfdfe1eb-00f7-4954-a377-3c47bb10cc85",
   "metadata": {},
   "outputs": [],
   "source": [
    "def plotmb(dataframe,plotname):\n",
    "    # A straight line\n",
    "    rule = alt.Chart(pd.DataFrame({'Component': [24,48,72]})).mark_rule(color='#D2386C').encode(x='Component')\n",
    "    \n",
    "    # Plotting\n",
    "    plt = alt.Chart(dataframe).mark_line().encode(\n",
    "    x = 'hour:Q',\n",
    "    y = 'mb',\n",
    "    color=alt.value(\"#FFAA00\")\n",
    ").properties(\n",
    "    width = 800,\n",
    "    height = 300,\n",
    "    title={\n",
    "      \"text\": [plotname],\n",
    "      \"color\": \"green\"\n",
    "    })\n",
    "    return plt + rule"
   ]
  },
  {
   "cell_type": "code",
   "execution_count": 47,
   "id": "c2be949e-84e1-4ac8-90aa-b6378ec9c485",
   "metadata": {},
   "outputs": [
    {
     "data": {
      "text/html": [
       "\n",
       "<div id=\"altair-viz-5db85fd834ce4b39b602d4d8bc758a55\"></div>\n",
       "<script type=\"text/javascript\">\n",
       "  var VEGA_DEBUG = (typeof VEGA_DEBUG == \"undefined\") ? {} : VEGA_DEBUG;\n",
       "  (function(spec, embedOpt){\n",
       "    let outputDiv = document.currentScript.previousElementSibling;\n",
       "    if (outputDiv.id !== \"altair-viz-5db85fd834ce4b39b602d4d8bc758a55\") {\n",
       "      outputDiv = document.getElementById(\"altair-viz-5db85fd834ce4b39b602d4d8bc758a55\");\n",
       "    }\n",
       "    const paths = {\n",
       "      \"vega\": \"https://cdn.jsdelivr.net/npm//vega@5?noext\",\n",
       "      \"vega-lib\": \"https://cdn.jsdelivr.net/npm//vega-lib?noext\",\n",
       "      \"vega-lite\": \"https://cdn.jsdelivr.net/npm//vega-lite@4.17.0?noext\",\n",
       "      \"vega-embed\": \"https://cdn.jsdelivr.net/npm//vega-embed@6?noext\",\n",
       "    };\n",
       "\n",
       "    function maybeLoadScript(lib, version) {\n",
       "      var key = `${lib.replace(\"-\", \"\")}_version`;\n",
       "      return (VEGA_DEBUG[key] == version) ?\n",
       "        Promise.resolve(paths[lib]) :\n",
       "        new Promise(function(resolve, reject) {\n",
       "          var s = document.createElement('script');\n",
       "          document.getElementsByTagName(\"head\")[0].appendChild(s);\n",
       "          s.async = true;\n",
       "          s.onload = () => {\n",
       "            VEGA_DEBUG[key] = version;\n",
       "            return resolve(paths[lib]);\n",
       "          };\n",
       "          s.onerror = () => reject(`Error loading script: ${paths[lib]}`);\n",
       "          s.src = paths[lib];\n",
       "        });\n",
       "    }\n",
       "\n",
       "    function showError(err) {\n",
       "      outputDiv.innerHTML = `<div class=\"error\" style=\"color:red;\">${err}</div>`;\n",
       "      throw err;\n",
       "    }\n",
       "\n",
       "    function displayChart(vegaEmbed) {\n",
       "      vegaEmbed(outputDiv, spec, embedOpt)\n",
       "        .catch(err => showError(`Javascript Error: ${err.message}<br>This usually means there's a typo in your chart specification. See the javascript console for the full traceback.`));\n",
       "    }\n",
       "\n",
       "    if(typeof define === \"function\" && define.amd) {\n",
       "      requirejs.config({paths});\n",
       "      require([\"vega-embed\"], displayChart, err => showError(`Error loading script: ${err.message}`));\n",
       "    } else {\n",
       "      maybeLoadScript(\"vega\", \"5\")\n",
       "        .then(() => maybeLoadScript(\"vega-lite\", \"4.17.0\"))\n",
       "        .then(() => maybeLoadScript(\"vega-embed\", \"6\"))\n",
       "        .catch(showError)\n",
       "        .then(() => displayChart(vegaEmbed));\n",
       "    }\n",
       "  })({\"config\": {\"view\": {\"continuousWidth\": 400, \"continuousHeight\": 300}}, \"layer\": [{\"data\": {\"name\": \"data-cb77d91cef3e29adde96ce11805675c4\"}, \"mark\": \"line\", \"encoding\": {\"color\": {\"value\": \"#FFAA00\"}, \"x\": {\"field\": \"hour\", \"type\": \"quantitative\"}, \"y\": {\"field\": \"mb\", \"type\": \"quantitative\"}}, \"height\": 300, \"title\": {\"text\": [\"MB plot of Zonal\"], \"color\": \"green\"}, \"width\": 800}, {\"data\": {\"name\": \"data-b9dd60dc560f7891b967d8e82c37ad0c\"}, \"mark\": {\"type\": \"rule\", \"color\": \"#D2386C\"}, \"encoding\": {\"x\": {\"field\": \"Component\", \"type\": \"quantitative\"}}}], \"$schema\": \"https://vega.github.io/schema/vega-lite/v4.17.0.json\", \"datasets\": {\"data-cb77d91cef3e29adde96ce11805675c4\": [{\"mb\": 0.09280514392109587, \"hour\": 0}, {\"mb\": 0.0552774999886853, \"hour\": 1}, {\"mb\": -0.3724959756108922, \"hour\": 2}, {\"mb\": 0.2852200460952441, \"hour\": 3}, {\"mb\": -0.45797546044832715, \"hour\": 4}, {\"mb\": -0.1319277820864526, \"hour\": 5}, {\"mb\": -0.06117516055388469, \"hour\": 6}, {\"mb\": 0.12561103592850828, \"hour\": 7}, {\"mb\": 0.13652370992408316, \"hour\": 8}, {\"mb\": 0.24993225081704168, \"hour\": 9}, {\"mb\": 0.13138657706561807, \"hour\": 10}, {\"mb\": 0.047565591489494886, \"hour\": 11}, {\"mb\": -0.13820348094946822, \"hour\": 12}, {\"mb\": 0.11122244917192602, \"hour\": 13}, {\"mb\": -0.05442304877661205, \"hour\": 14}, {\"mb\": -0.1014925365528419, \"hour\": 15}, {\"mb\": 0.0450039943716834, \"hour\": 16}, {\"mb\": 0.004235891877141884, \"hour\": 17}, {\"mb\": 0.049608477341034594, \"hour\": 18}, {\"mb\": -0.05703786672252641, \"hour\": 19}, {\"mb\": 0.060738519746856776, \"hour\": 20}, {\"mb\": -0.042542658689573784, \"hour\": 21}, {\"mb\": -0.14668827705632695, \"hour\": 22}, {\"mb\": 0.12617121504439496, \"hour\": 23}, {\"mb\": 0.09604122871388818, \"hour\": 24}, {\"mb\": -0.11828564318842477, \"hour\": 25}, {\"mb\": 0.04041664958065943, \"hour\": 26}, {\"mb\": 0.07665390900961025, \"hour\": 27}, {\"mb\": -0.30628458147405924, \"hour\": 28}, {\"mb\": -0.003640555902807937, \"hour\": 29}, {\"mb\": 0.1251222128089718, \"hour\": 30}, {\"mb\": 0.2732220595104974, \"hour\": 31}, {\"mb\": 0.20818257012703534, \"hour\": 32}, {\"mb\": 0.172420068670905, \"hour\": 33}, {\"mb\": 0.049104459024835546, \"hour\": 34}, {\"mb\": -0.07843910114213529, \"hour\": 35}, {\"mb\": 0.0739299234309222, \"hour\": 36}, {\"mb\": -0.07671188562372028, \"hour\": 37}, {\"mb\": -0.04813373348722807, \"hour\": 38}, {\"mb\": -0.016774413433252148, \"hour\": 39}, {\"mb\": 0.08158629706255734, \"hour\": 40}, {\"mb\": -0.01332660775122113, \"hour\": 41}, {\"mb\": -0.05130405544921953, \"hour\": 42}, {\"mb\": -0.09837987404730389, \"hour\": 43}, {\"mb\": 0.209102320574372, \"hour\": 44}, {\"mb\": 0.020842962808284748, \"hour\": 45}, {\"mb\": -0.06315988503453755, \"hour\": 46}, {\"mb\": 0.17305784854986858, \"hour\": 47}, {\"mb\": 0.1009146261410646, \"hour\": 48}, {\"mb\": -0.04225571383171189, \"hour\": 49}, {\"mb\": -0.34411055778934213, \"hour\": 50}, {\"mb\": 0.06026416265702303, \"hour\": 51}, {\"mb\": -0.5326988068053989, \"hour\": 52}, {\"mb\": -0.07548768174908019, \"hour\": 53}, {\"mb\": 0.039226009482526684, \"hour\": 54}, {\"mb\": 0.11396747140890773, \"hour\": 55}, {\"mb\": -0.23219814449763215, \"hour\": 56}, {\"mb\": 0.1606787622936168, \"hour\": 57}, {\"mb\": 0.1562866677200002, \"hour\": 58}, {\"mb\": -0.10928886543313558, \"hour\": 59}, {\"mb\": -0.06501706300651504, \"hour\": 60}, {\"mb\": 0.21475462449323363, \"hour\": 61}, {\"mb\": -0.13283753298933493, \"hour\": 62}, {\"mb\": -0.17269046941880625, \"hour\": 63}, {\"mb\": -0.02857102300515165, \"hour\": 64}, {\"mb\": 0.014575591294495784, \"hour\": 65}, {\"mb\": 0.010897991178760967, \"hour\": 66}, {\"mb\": -0.15094614105519596, \"hour\": 67}, {\"mb\": 0.1480837387958174, \"hour\": 68}, {\"mb\": -0.026900537575165136, \"hour\": 69}, {\"mb\": -0.08707726302709361, \"hour\": 70}, {\"mb\": 0.16694960847490836, \"hour\": 71}], \"data-b9dd60dc560f7891b967d8e82c37ad0c\": [{\"Component\": 24}, {\"Component\": 48}, {\"Component\": 72}]}}, {\"mode\": \"vega-lite\"});\n",
       "</script>"
      ],
      "text/plain": [
       "alt.LayerChart(...)"
      ]
     },
     "execution_count": 47,
     "metadata": {},
     "output_type": "execute_result"
    }
   ],
   "source": [
    "plotmb(mb_zonal,\"MB plot of Zonal\")"
   ]
  },
  {
   "cell_type": "code",
   "execution_count": 48,
   "id": "57d4e2d5-f80e-437c-8c16-3f079e24b459",
   "metadata": {},
   "outputs": [
    {
     "data": {
      "text/html": [
       "\n",
       "<div id=\"altair-viz-4d308f64b54f4f0dae1a20bcf43c18d8\"></div>\n",
       "<script type=\"text/javascript\">\n",
       "  var VEGA_DEBUG = (typeof VEGA_DEBUG == \"undefined\") ? {} : VEGA_DEBUG;\n",
       "  (function(spec, embedOpt){\n",
       "    let outputDiv = document.currentScript.previousElementSibling;\n",
       "    if (outputDiv.id !== \"altair-viz-4d308f64b54f4f0dae1a20bcf43c18d8\") {\n",
       "      outputDiv = document.getElementById(\"altair-viz-4d308f64b54f4f0dae1a20bcf43c18d8\");\n",
       "    }\n",
       "    const paths = {\n",
       "      \"vega\": \"https://cdn.jsdelivr.net/npm//vega@5?noext\",\n",
       "      \"vega-lib\": \"https://cdn.jsdelivr.net/npm//vega-lib?noext\",\n",
       "      \"vega-lite\": \"https://cdn.jsdelivr.net/npm//vega-lite@4.17.0?noext\",\n",
       "      \"vega-embed\": \"https://cdn.jsdelivr.net/npm//vega-embed@6?noext\",\n",
       "    };\n",
       "\n",
       "    function maybeLoadScript(lib, version) {\n",
       "      var key = `${lib.replace(\"-\", \"\")}_version`;\n",
       "      return (VEGA_DEBUG[key] == version) ?\n",
       "        Promise.resolve(paths[lib]) :\n",
       "        new Promise(function(resolve, reject) {\n",
       "          var s = document.createElement('script');\n",
       "          document.getElementsByTagName(\"head\")[0].appendChild(s);\n",
       "          s.async = true;\n",
       "          s.onload = () => {\n",
       "            VEGA_DEBUG[key] = version;\n",
       "            return resolve(paths[lib]);\n",
       "          };\n",
       "          s.onerror = () => reject(`Error loading script: ${paths[lib]}`);\n",
       "          s.src = paths[lib];\n",
       "        });\n",
       "    }\n",
       "\n",
       "    function showError(err) {\n",
       "      outputDiv.innerHTML = `<div class=\"error\" style=\"color:red;\">${err}</div>`;\n",
       "      throw err;\n",
       "    }\n",
       "\n",
       "    function displayChart(vegaEmbed) {\n",
       "      vegaEmbed(outputDiv, spec, embedOpt)\n",
       "        .catch(err => showError(`Javascript Error: ${err.message}<br>This usually means there's a typo in your chart specification. See the javascript console for the full traceback.`));\n",
       "    }\n",
       "\n",
       "    if(typeof define === \"function\" && define.amd) {\n",
       "      requirejs.config({paths});\n",
       "      require([\"vega-embed\"], displayChart, err => showError(`Error loading script: ${err.message}`));\n",
       "    } else {\n",
       "      maybeLoadScript(\"vega\", \"5\")\n",
       "        .then(() => maybeLoadScript(\"vega-lite\", \"4.17.0\"))\n",
       "        .then(() => maybeLoadScript(\"vega-embed\", \"6\"))\n",
       "        .catch(showError)\n",
       "        .then(() => displayChart(vegaEmbed));\n",
       "    }\n",
       "  })({\"config\": {\"view\": {\"continuousWidth\": 400, \"continuousHeight\": 300}}, \"layer\": [{\"data\": {\"name\": \"data-bc0062ec31613495dcb01098bb3d4096\"}, \"mark\": \"line\", \"encoding\": {\"color\": {\"value\": \"#FFAA00\"}, \"x\": {\"field\": \"hour\", \"type\": \"quantitative\"}, \"y\": {\"field\": \"mb\", \"type\": \"quantitative\"}}, \"height\": 300, \"title\": {\"text\": [\"MB plot of Meridional\"], \"color\": \"green\"}, \"width\": 800}, {\"data\": {\"name\": \"data-b9dd60dc560f7891b967d8e82c37ad0c\"}, \"mark\": {\"type\": \"rule\", \"color\": \"#D2386C\"}, \"encoding\": {\"x\": {\"field\": \"Component\", \"type\": \"quantitative\"}}}], \"$schema\": \"https://vega.github.io/schema/vega-lite/v4.17.0.json\", \"datasets\": {\"data-bc0062ec31613495dcb01098bb3d4096\": [{\"mb\": 0.006719693304149255, \"hour\": 0}, {\"mb\": 0.1824351616223788, \"hour\": 1}, {\"mb\": 0.11407855752859737, \"hour\": 2}, {\"mb\": -0.11715844734486137, \"hour\": 3}, {\"mb\": -0.2122970680045283, \"hour\": 4}, {\"mb\": 0.2202677120984396, \"hour\": 5}, {\"mb\": 0.28167837718266175, \"hour\": 6}, {\"mb\": 0.196975354605567, \"hour\": 7}, {\"mb\": 0.005900293533289663, \"hour\": 8}, {\"mb\": -0.1424975626683503, \"hour\": 9}, {\"mb\": 0.012068166099750048, \"hour\": 10}, {\"mb\": -0.2365828057761776, \"hour\": 11}, {\"mb\": -0.04047186112132312, \"hour\": 12}, {\"mb\": 0.11135966130486026, \"hour\": 13}, {\"mb\": -0.02265381495530722, \"hour\": 14}, {\"mb\": -0.04993446344830068, \"hour\": 15}, {\"mb\": 0.0801549121472165, \"hour\": 16}, {\"mb\": 0.04235796218918516, \"hour\": 17}, {\"mb\": -0.1014516419739143, \"hour\": 18}, {\"mb\": -0.026146595382007833, \"hour\": 19}, {\"mb\": 0.0021442594277295756, \"hour\": 20}, {\"mb\": -0.16029736823162744, \"hour\": 21}, {\"mb\": 0.0034295234771289044, \"hour\": 22}, {\"mb\": 0.09053226173690347, \"hour\": 23}, {\"mb\": -0.05718121774148243, \"hour\": 24}, {\"mb\": 0.19722277279082245, \"hour\": 25}, {\"mb\": 0.07302369048787144, \"hour\": 26}, {\"mb\": -0.1623440686886214, \"hour\": 27}, {\"mb\": -0.10649865595602483, \"hour\": 28}, {\"mb\": 0.31808772695618237, \"hour\": 29}, {\"mb\": 0.044674043528186776, \"hour\": 30}, {\"mb\": -0.020364988368158653, \"hour\": 31}, {\"mb\": 0.05823502054848901, \"hour\": 32}, {\"mb\": -0.07209446014771131, \"hour\": 33}, {\"mb\": 0.1216393895622071, \"hour\": 34}, {\"mb\": -0.18852258196966817, \"hour\": 35}, {\"mb\": 0.03045259357280417, \"hour\": 36}, {\"mb\": -0.04865869639648216, \"hour\": 37}, {\"mb\": 0.010596659142868942, \"hour\": 38}, {\"mb\": 0.11782306126747014, \"hour\": 39}, {\"mb\": 0.040178021864148136, \"hour\": 40}, {\"mb\": 0.019480813917522346, \"hour\": 41}, {\"mb\": -0.05199577008212819, \"hour\": 42}, {\"mb\": -0.029617462842537225, \"hour\": 43}, {\"mb\": 0.057377067529590965, \"hour\": 44}, {\"mb\": -0.21024157763104728, \"hour\": 45}, {\"mb\": 0.04148707660106119, \"hour\": 46}, {\"mb\": 0.09268158782849543, \"hour\": 47}, {\"mb\": 0.013242935515041599, \"hour\": 48}, {\"mb\": 0.20948414608542526, \"hour\": 49}, {\"mb\": 0.052754813972771944, \"hour\": 50}, {\"mb\": 0.009664684988156227, \"hour\": 51}, {\"mb\": 0.0167650822352511, \"hour\": 52}, {\"mb\": 0.38660146906575826, \"hour\": 53}, {\"mb\": 0.12716239465878026, \"hour\": 54}, {\"mb\": 0.2347627676312079, \"hour\": 55}, {\"mb\": -0.08014906975204032, \"hour\": 56}, {\"mb\": -0.14131490145764383, \"hour\": 57}, {\"mb\": 0.20101523527373258, \"hour\": 58}, {\"mb\": -0.17208632124380646, \"hour\": 59}, {\"mb\": 0.004643207296544226, \"hour\": 60}, {\"mb\": 0.11358282078847058, \"hour\": 61}, {\"mb\": 0.17041835005164646, \"hour\": 62}, {\"mb\": -0.026945271554053456, \"hour\": 63}, {\"mb\": 0.10189919752697345, \"hour\": 64}, {\"mb\": 0.1111868867525859, \"hour\": 65}, {\"mb\": -0.1031077741927962, \"hour\": 66}, {\"mb\": -0.17429863800123896, \"hour\": 67}, {\"mb\": 0.05610402899293476, \"hour\": 68}, {\"mb\": -0.19129306871939342, \"hour\": 69}, {\"mb\": -0.08254674973650385, \"hour\": 70}, {\"mb\": 0.18801127988822763, \"hour\": 71}], \"data-b9dd60dc560f7891b967d8e82c37ad0c\": [{\"Component\": 24}, {\"Component\": 48}, {\"Component\": 72}]}}, {\"mode\": \"vega-lite\"});\n",
       "</script>"
      ],
      "text/plain": [
       "alt.LayerChart(...)"
      ]
     },
     "execution_count": 48,
     "metadata": {},
     "output_type": "execute_result"
    }
   ],
   "source": [
    "plotmb(mb_meridional,\"MB plot of Meridional\")"
   ]
  },
  {
   "cell_type": "markdown",
   "id": "757f3862-eb43-4d3d-90bb-dac7059ab63b",
   "metadata": {},
   "source": [
    "<br>\n",
    "\n",
    "#### Correlation:\n",
    "1. Create a matrix with:\n",
    "$$\\begin{bmatrix} [mod0h] & [mod1h] & ... & [mod84h] \\\\ [obs0h] & [obs1h] & ... & [obs84h] \\end{bmatrix}$$\n",
    "where [mod0h] contains a list of all values from 0h\n",
    "* Note: If the list contains None type value, then the correlation will be None. Therefore, we need to remove the null value in a list and also remove the corresponding obs/mod value. We can write a function to do so:\n",
    "2. Calculate correlation function between mod_nh and obs_nh"
   ]
  },
  {
   "cell_type": "code",
   "execution_count": 50,
   "id": "6f908427-6ee1-4da1-ad57-72f296601a7d",
   "metadata": {},
   "outputs": [],
   "source": [
    "# 1. Define a function which create lists with all values of that hour, also removing null values\n",
    "def create_list(var):\n",
    "    return merged_df.groupby(\"hour\")[var].apply(lambda x: x.tolist())\n",
    "\n",
    "# Calculate the list\n",
    "modzonal_list = create_list(\"modzonal\")\n",
    "obszonal_list = create_list(\"obszonal\")\n",
    "modmeridional_list = create_list(\"modmeridional\")\n",
    "obsmeridional_list = create_list(\"obsmeridional\")"
   ]
  },
  {
   "cell_type": "code",
   "execution_count": 52,
   "id": "20c3427b-e173-439d-95ed-b2b5c17cca0f",
   "metadata": {},
   "outputs": [],
   "source": [
    "# 2. Since there are NaN for each list, we need to remove nan value and the corresponding index, \n",
    "# we first record the index of the missing value and remove i\n",
    "def index(modlist,obslist):\n",
    "    # Get the index matrix\n",
    "    index = [[] for _ in range(len(modlist))]\n",
    "    for i in range(len(modlist)):\n",
    "        for j in range(len(modlist[i])):\n",
    "            if pd.isna(modlist[i][j]) or pd.isna(obslist[i][j]):\n",
    "                index[i].append(j)\n",
    "    return index"
   ]
  },
  {
   "cell_type": "code",
   "execution_count": 53,
   "id": "a5b202a9-bfa1-4b89-975e-128ed761eeb4",
   "metadata": {},
   "outputs": [],
   "source": [
    "# 3. Remove the corresponding value from the index\n",
    "def removeNan(index,modlist,obslist):\n",
    "    update_mod = [[] for _ in range(len(modlist))]\n",
    "    update_obs = [[] for _ in range(len(obslist))]\n",
    "    \n",
    "    for i in range(len(modlist)):\n",
    "        for j in range(len(modlist[i])):\n",
    "            if j not in index[i]:\n",
    "                update_mod[i].append(modlist[i][j])\n",
    "                update_obs[i].append(obslist[i][j])\n",
    "    return update_mod,update_obs"
   ]
  },
  {
   "cell_type": "code",
   "execution_count": 54,
   "id": "0c1c2fc2-9a89-4018-89ca-8b6bfe73b6e7",
   "metadata": {},
   "outputs": [],
   "source": [
    "up_modzonal_list,up_obszonal_list = removeNan(index(modzonal_list,obszonal_list),modzonal_list,obszonal_list)\n",
    "up_modmeridional_list,up_obsmeridional_list = removeNan(index(modmeridional_list,obsmeridional_list),modmeridional_list,obsmeridional_list)"
   ]
  },
  {
   "cell_type": "code",
   "execution_count": 55,
   "id": "d355e844-5719-4c65-8b1e-49daacb96161",
   "metadata": {},
   "outputs": [],
   "source": [
    "# 4. Create a function to calculate correlation and create a list\n",
    "def correlation(modlist,obslist):\n",
    "    correlation = []\n",
    "    for i in range(len(modlist)):\n",
    "        correlation.append(np.corrcoef(modlist[i],obslist[i])[0][1])\n",
    "        \n",
    "    # Turn into dataframe\n",
    "    correlation = pd.DataFrame(correlation,columns = ['corr'])\n",
    "    correlation['hour'] = range(0,72)\n",
    "    return correlation"
   ]
  },
  {
   "cell_type": "code",
   "execution_count": 56,
   "id": "8aeeecea-ce9f-4cbc-9a3a-c775fdd07b4b",
   "metadata": {},
   "outputs": [],
   "source": [
    "corr_zonal = correlation(up_modzonal_list,up_obszonal_list)\n",
    "corr_meridional = correlation(up_modmeridional_list,up_obsmeridional_list)"
   ]
  },
  {
   "cell_type": "markdown",
   "id": "571fce78-0531-480a-b952-a0e0a31bd646",
   "metadata": {},
   "source": [
    "#### Write a function for plotting"
   ]
  },
  {
   "cell_type": "code",
   "execution_count": 68,
   "id": "ec456923-aafd-4bbf-ab53-951f6dac85fb",
   "metadata": {
    "tags": []
   },
   "outputs": [],
   "source": [
    "def plotcorr(dataframe,plotname):\n",
    "    # A straight line\n",
    "    rule = alt.Chart(pd.DataFrame({'Component': [24,48,72]})).mark_rule(color='#D2386C').encode(x='Component')\n",
    "    \n",
    "    # Plotting\n",
    "    plt = alt.Chart(dataframe).mark_line().encode(\n",
    "    x = 'hour:Q',\n",
    "    y = 'corr',\n",
    "    color=alt.value(\"#FFAA00\")\n",
    ").properties(\n",
    "    width = 800,\n",
    "    height = 300,\n",
    "    title={\n",
    "      \"text\": [plotname],\n",
    "      \"color\": \"green\"\n",
    "    })\n",
    "    return plt + rule"
   ]
  },
  {
   "cell_type": "code",
   "execution_count": 69,
   "id": "5a43e615-a7ff-425e-b05d-3d769f29b136",
   "metadata": {
    "tags": []
   },
   "outputs": [
    {
     "data": {
      "text/html": [
       "\n",
       "<div id=\"altair-viz-a1ad8e8a71bf42d5bc988d5f2dc82005\"></div>\n",
       "<script type=\"text/javascript\">\n",
       "  var VEGA_DEBUG = (typeof VEGA_DEBUG == \"undefined\") ? {} : VEGA_DEBUG;\n",
       "  (function(spec, embedOpt){\n",
       "    let outputDiv = document.currentScript.previousElementSibling;\n",
       "    if (outputDiv.id !== \"altair-viz-a1ad8e8a71bf42d5bc988d5f2dc82005\") {\n",
       "      outputDiv = document.getElementById(\"altair-viz-a1ad8e8a71bf42d5bc988d5f2dc82005\");\n",
       "    }\n",
       "    const paths = {\n",
       "      \"vega\": \"https://cdn.jsdelivr.net/npm//vega@5?noext\",\n",
       "      \"vega-lib\": \"https://cdn.jsdelivr.net/npm//vega-lib?noext\",\n",
       "      \"vega-lite\": \"https://cdn.jsdelivr.net/npm//vega-lite@4.17.0?noext\",\n",
       "      \"vega-embed\": \"https://cdn.jsdelivr.net/npm//vega-embed@6?noext\",\n",
       "    };\n",
       "\n",
       "    function maybeLoadScript(lib, version) {\n",
       "      var key = `${lib.replace(\"-\", \"\")}_version`;\n",
       "      return (VEGA_DEBUG[key] == version) ?\n",
       "        Promise.resolve(paths[lib]) :\n",
       "        new Promise(function(resolve, reject) {\n",
       "          var s = document.createElement('script');\n",
       "          document.getElementsByTagName(\"head\")[0].appendChild(s);\n",
       "          s.async = true;\n",
       "          s.onload = () => {\n",
       "            VEGA_DEBUG[key] = version;\n",
       "            return resolve(paths[lib]);\n",
       "          };\n",
       "          s.onerror = () => reject(`Error loading script: ${paths[lib]}`);\n",
       "          s.src = paths[lib];\n",
       "        });\n",
       "    }\n",
       "\n",
       "    function showError(err) {\n",
       "      outputDiv.innerHTML = `<div class=\"error\" style=\"color:red;\">${err}</div>`;\n",
       "      throw err;\n",
       "    }\n",
       "\n",
       "    function displayChart(vegaEmbed) {\n",
       "      vegaEmbed(outputDiv, spec, embedOpt)\n",
       "        .catch(err => showError(`Javascript Error: ${err.message}<br>This usually means there's a typo in your chart specification. See the javascript console for the full traceback.`));\n",
       "    }\n",
       "\n",
       "    if(typeof define === \"function\" && define.amd) {\n",
       "      requirejs.config({paths});\n",
       "      require([\"vega-embed\"], displayChart, err => showError(`Error loading script: ${err.message}`));\n",
       "    } else {\n",
       "      maybeLoadScript(\"vega\", \"5\")\n",
       "        .then(() => maybeLoadScript(\"vega-lite\", \"4.17.0\"))\n",
       "        .then(() => maybeLoadScript(\"vega-embed\", \"6\"))\n",
       "        .catch(showError)\n",
       "        .then(() => displayChart(vegaEmbed));\n",
       "    }\n",
       "  })({\"config\": {\"view\": {\"continuousWidth\": 400, \"continuousHeight\": 300}}, \"layer\": [{\"data\": {\"name\": \"data-762d33cb7cdd41bc6fa7764a0bf1d36d\"}, \"mark\": \"line\", \"encoding\": {\"color\": {\"value\": \"#FFAA00\"}, \"x\": {\"field\": \"hour\", \"type\": \"quantitative\"}, \"y\": {\"field\": \"corr\", \"type\": \"quantitative\"}}, \"height\": 300, \"title\": {\"text\": [\"Correlation plot of Zonal\"], \"color\": \"green\"}, \"width\": 800}, {\"data\": {\"name\": \"data-b9dd60dc560f7891b967d8e82c37ad0c\"}, \"mark\": {\"type\": \"rule\", \"color\": \"#D2386C\"}, \"encoding\": {\"x\": {\"field\": \"Component\", \"type\": \"quantitative\"}}}], \"$schema\": \"https://vega.github.io/schema/vega-lite/v4.17.0.json\", \"datasets\": {\"data-762d33cb7cdd41bc6fa7764a0bf1d36d\": [{\"corr\": 0.024324512864660378, \"hour\": 0}, {\"corr\": 0.06547792114163449, \"hour\": 1}, {\"corr\": -0.04097503641754769, \"hour\": 2}, {\"corr\": -0.1060128132486337, \"hour\": 3}, {\"corr\": 0.016441536410397604, \"hour\": 4}, {\"corr\": 0.038762586743708784, \"hour\": 5}, {\"corr\": -0.03780655883288007, \"hour\": 6}, {\"corr\": 0.003541993634757156, \"hour\": 7}, {\"corr\": 0.11018311157361972, \"hour\": 8}, {\"corr\": 0.045594133909876905, \"hour\": 9}, {\"corr\": -0.029570907331623833, \"hour\": 10}, {\"corr\": 0.011560601531604538, \"hour\": 11}, {\"corr\": 0.05082469158096249, \"hour\": 12}, {\"corr\": 0.011890716583317059, \"hour\": 13}, {\"corr\": -0.06752018192377546, \"hour\": 14}, {\"corr\": 0.05189238466863412, \"hour\": 15}, {\"corr\": 0.15939447352917274, \"hour\": 16}, {\"corr\": 0.027700291488506144, \"hour\": 17}, {\"corr\": -0.041822264545965764, \"hour\": 18}, {\"corr\": 0.07274146489035975, \"hour\": 19}, {\"corr\": 0.04535745267625179, \"hour\": 20}, {\"corr\": 0.009109721002059281, \"hour\": 21}, {\"corr\": 0.016536053256712594, \"hour\": 22}, {\"corr\": -0.08641094559677172, \"hour\": 23}, {\"corr\": -0.10257050332710119, \"hour\": 24}, {\"corr\": -0.01200029598957572, \"hour\": 25}, {\"corr\": -0.0024609591901842845, \"hour\": 26}, {\"corr\": 0.032923184431234376, \"hour\": 27}, {\"corr\": -0.09314783659494687, \"hour\": 28}, {\"corr\": -0.016434108452757175, \"hour\": 29}, {\"corr\": 0.05420091669803006, \"hour\": 30}, {\"corr\": 0.059893545313258016, \"hour\": 31}, {\"corr\": -0.01780560223845209, \"hour\": 32}, {\"corr\": 0.022988306338388, \"hour\": 33}, {\"corr\": 0.037434125435750316, \"hour\": 34}, {\"corr\": 0.06380058709839506, \"hour\": 35}, {\"corr\": -0.08777284141434442, \"hour\": 36}, {\"corr\": 0.03983196173719083, \"hour\": 37}, {\"corr\": -0.07449863214474492, \"hour\": 38}, {\"corr\": -0.006802477619977623, \"hour\": 39}, {\"corr\": 0.11044670795873977, \"hour\": 40}, {\"corr\": 0.07877526830075976, \"hour\": 41}, {\"corr\": 0.012435572423361643, \"hour\": 42}, {\"corr\": 0.019110345092300793, \"hour\": 43}, {\"corr\": -0.06829959719394729, \"hour\": 44}, {\"corr\": -0.0543764604795009, \"hour\": 45}, {\"corr\": -0.0026413208757859567, \"hour\": 46}, {\"corr\": 0.017484611538188238, \"hour\": 47}, {\"corr\": 0.06434509434584958, \"hour\": 48}, {\"corr\": 0.017510424261910622, \"hour\": 49}, {\"corr\": -0.15026418740669437, \"hour\": 50}, {\"corr\": -0.027519013821558747, \"hour\": 51}, {\"corr\": 0.11651802281645585, \"hour\": 52}, {\"corr\": -0.031969823972457165, \"hour\": 53}, {\"corr\": -0.05777145435565152, \"hour\": 54}, {\"corr\": 0.08926877456172828, \"hour\": 55}, {\"corr\": 0.14358923440425778, \"hour\": 56}, {\"corr\": 0.02936433647650312, \"hour\": 57}, {\"corr\": -0.0061760161282651506, \"hour\": 58}, {\"corr\": 0.07502930273875533, \"hour\": 59}, {\"corr\": 0.016510376750206928, \"hour\": 60}, {\"corr\": 0.06193240806257235, \"hour\": 61}, {\"corr\": -0.1064444734898652, \"hour\": 62}, {\"corr\": -0.07931088463150873, \"hour\": 63}, {\"corr\": 0.1229416678802957, \"hour\": 64}, {\"corr\": 0.000958222968767297, \"hour\": 65}, {\"corr\": 0.004114805016312909, \"hour\": 66}, {\"corr\": -0.07015123341076417, \"hour\": 67}, {\"corr\": 0.010116085415147988, \"hour\": 68}, {\"corr\": -0.013999346937586482, \"hour\": 69}, {\"corr\": 0.010370030146258324, \"hour\": 70}, {\"corr\": 0.08463038704204622, \"hour\": 71}], \"data-b9dd60dc560f7891b967d8e82c37ad0c\": [{\"Component\": 24}, {\"Component\": 48}, {\"Component\": 72}]}}, {\"mode\": \"vega-lite\"});\n",
       "</script>"
      ],
      "text/plain": [
       "alt.LayerChart(...)"
      ]
     },
     "execution_count": 69,
     "metadata": {},
     "output_type": "execute_result"
    }
   ],
   "source": [
    "plotcorr(corr_zonal,\"Correlation plot of Zonal\")"
   ]
  },
  {
   "cell_type": "code",
   "execution_count": 60,
   "id": "a8466887-19ec-40be-b9b0-795012d8615c",
   "metadata": {},
   "outputs": [
    {
     "data": {
      "text/html": [
       "\n",
       "<div id=\"altair-viz-588c7636a0944610b54c162efb76b547\"></div>\n",
       "<script type=\"text/javascript\">\n",
       "  var VEGA_DEBUG = (typeof VEGA_DEBUG == \"undefined\") ? {} : VEGA_DEBUG;\n",
       "  (function(spec, embedOpt){\n",
       "    let outputDiv = document.currentScript.previousElementSibling;\n",
       "    if (outputDiv.id !== \"altair-viz-588c7636a0944610b54c162efb76b547\") {\n",
       "      outputDiv = document.getElementById(\"altair-viz-588c7636a0944610b54c162efb76b547\");\n",
       "    }\n",
       "    const paths = {\n",
       "      \"vega\": \"https://cdn.jsdelivr.net/npm//vega@5?noext\",\n",
       "      \"vega-lib\": \"https://cdn.jsdelivr.net/npm//vega-lib?noext\",\n",
       "      \"vega-lite\": \"https://cdn.jsdelivr.net/npm//vega-lite@4.17.0?noext\",\n",
       "      \"vega-embed\": \"https://cdn.jsdelivr.net/npm//vega-embed@6?noext\",\n",
       "    };\n",
       "\n",
       "    function maybeLoadScript(lib, version) {\n",
       "      var key = `${lib.replace(\"-\", \"\")}_version`;\n",
       "      return (VEGA_DEBUG[key] == version) ?\n",
       "        Promise.resolve(paths[lib]) :\n",
       "        new Promise(function(resolve, reject) {\n",
       "          var s = document.createElement('script');\n",
       "          document.getElementsByTagName(\"head\")[0].appendChild(s);\n",
       "          s.async = true;\n",
       "          s.onload = () => {\n",
       "            VEGA_DEBUG[key] = version;\n",
       "            return resolve(paths[lib]);\n",
       "          };\n",
       "          s.onerror = () => reject(`Error loading script: ${paths[lib]}`);\n",
       "          s.src = paths[lib];\n",
       "        });\n",
       "    }\n",
       "\n",
       "    function showError(err) {\n",
       "      outputDiv.innerHTML = `<div class=\"error\" style=\"color:red;\">${err}</div>`;\n",
       "      throw err;\n",
       "    }\n",
       "\n",
       "    function displayChart(vegaEmbed) {\n",
       "      vegaEmbed(outputDiv, spec, embedOpt)\n",
       "        .catch(err => showError(`Javascript Error: ${err.message}<br>This usually means there's a typo in your chart specification. See the javascript console for the full traceback.`));\n",
       "    }\n",
       "\n",
       "    if(typeof define === \"function\" && define.amd) {\n",
       "      requirejs.config({paths});\n",
       "      require([\"vega-embed\"], displayChart, err => showError(`Error loading script: ${err.message}`));\n",
       "    } else {\n",
       "      maybeLoadScript(\"vega\", \"5\")\n",
       "        .then(() => maybeLoadScript(\"vega-lite\", \"4.17.0\"))\n",
       "        .then(() => maybeLoadScript(\"vega-embed\", \"6\"))\n",
       "        .catch(showError)\n",
       "        .then(() => displayChart(vegaEmbed));\n",
       "    }\n",
       "  })({\"config\": {\"view\": {\"continuousWidth\": 400, \"continuousHeight\": 300}}, \"layer\": [{\"data\": {\"name\": \"data-d63ae88c1ee4ae4a2fc7a312c5cc79d8\"}, \"mark\": \"line\", \"encoding\": {\"color\": {\"value\": \"#FFAA00\"}, \"x\": {\"field\": \"hour\", \"type\": \"quantitative\"}, \"y\": {\"field\": \"corr\", \"type\": \"quantitative\"}}, \"height\": 300, \"title\": {\"text\": [\"Correlation plot of Meridional\"], \"color\": \"green\"}, \"width\": 800}, {\"data\": {\"name\": \"data-b9dd60dc560f7891b967d8e82c37ad0c\"}, \"mark\": {\"type\": \"rule\", \"color\": \"#D2386C\"}, \"encoding\": {\"x\": {\"field\": \"Component\", \"type\": \"quantitative\"}}}], \"$schema\": \"https://vega.github.io/schema/vega-lite/v4.17.0.json\", \"datasets\": {\"data-d63ae88c1ee4ae4a2fc7a312c5cc79d8\": [{\"corr\": 0.04506730832357275, \"hour\": 0}, {\"corr\": -0.02521180089865729, \"hour\": 1}, {\"corr\": 0.14275238378920305, \"hour\": 2}, {\"corr\": 0.056380759996076606, \"hour\": 3}, {\"corr\": -0.14495214999844394, \"hour\": 4}, {\"corr\": 0.14786898591743747, \"hour\": 5}, {\"corr\": -0.026078581086412738, \"hour\": 6}, {\"corr\": -0.03263295912723382, \"hour\": 7}, {\"corr\": -0.032366297238859115, \"hour\": 8}, {\"corr\": 0.15745885328738016, \"hour\": 9}, {\"corr\": 0.0218226786640691, \"hour\": 10}, {\"corr\": -0.007579899773594336, \"hour\": 11}, {\"corr\": 0.042150577169799995, \"hour\": 12}, {\"corr\": -0.09164107909960043, \"hour\": 13}, {\"corr\": -0.11454520763699777, \"hour\": 14}, {\"corr\": 0.15418958708801814, \"hour\": 15}, {\"corr\": 0.17114391570850057, \"hour\": 16}, {\"corr\": 0.04843959895276273, \"hour\": 17}, {\"corr\": -0.04978114255017632, \"hour\": 18}, {\"corr\": 0.10634926551245165, \"hour\": 19}, {\"corr\": -0.06603837750397429, \"hour\": 20}, {\"corr\": -0.016433854821104342, \"hour\": 21}, {\"corr\": 0.10512135496739382, \"hour\": 22}, {\"corr\": 0.03816137932508956, \"hour\": 23}, {\"corr\": -0.05942692918349443, \"hour\": 24}, {\"corr\": -0.045868965784500115, \"hour\": 25}, {\"corr\": -0.06316378713768207, \"hour\": 26}, {\"corr\": 0.04968198909501648, \"hour\": 27}, {\"corr\": 0.07676489565240979, \"hour\": 28}, {\"corr\": 0.026365484687900096, \"hour\": 29}, {\"corr\": 0.04007646974237549, \"hour\": 30}, {\"corr\": -0.18574415680038714, \"hour\": 31}, {\"corr\": -0.02071596096090174, \"hour\": 32}, {\"corr\": 0.035062238264898085, \"hour\": 33}, {\"corr\": -0.04321879430602441, \"hour\": 34}, {\"corr\": -0.00990596966970147, \"hour\": 35}, {\"corr\": 0.017412133165970404, \"hour\": 36}, {\"corr\": -0.015337453443814448, \"hour\": 37}, {\"corr\": -0.028124759345558546, \"hour\": 38}, {\"corr\": -0.013813269219080626, \"hour\": 39}, {\"corr\": -0.17894763032817523, \"hour\": 40}, {\"corr\": 0.04002211411376028, \"hour\": 41}, {\"corr\": 0.06472010682103371, \"hour\": 42}, {\"corr\": 0.08231207399231986, \"hour\": 43}, {\"corr\": -0.08945810332035961, \"hour\": 44}, {\"corr\": 0.04336575925278066, \"hour\": 45}, {\"corr\": -0.09610353037533909, \"hour\": 46}, {\"corr\": -0.032516060710271244, \"hour\": 47}, {\"corr\": -0.1330319276174121, \"hour\": 48}, {\"corr\": -0.09734820356282357, \"hour\": 49}, {\"corr\": -0.03415309665442384, \"hour\": 50}, {\"corr\": 0.0033925782955287276, \"hour\": 51}, {\"corr\": 0.042708053451343625, \"hour\": 52}, {\"corr\": 0.02587260806754903, \"hour\": 53}, {\"corr\": -0.027504904489929646, \"hour\": 54}, {\"corr\": -0.1165137640945655, \"hour\": 55}, {\"corr\": -0.10697634828339632, \"hour\": 56}, {\"corr\": -0.03981717699938974, \"hour\": 57}, {\"corr\": -0.004493336900524691, \"hour\": 58}, {\"corr\": -0.08209523361830269, \"hour\": 59}, {\"corr\": -0.02163926599160289, \"hour\": 60}, {\"corr\": -0.08955301138487198, \"hour\": 61}, {\"corr\": 0.021571261602110987, \"hour\": 62}, {\"corr\": -0.0010958919109322963, \"hour\": 63}, {\"corr\": 0.1908169765581387, \"hour\": 64}, {\"corr\": -0.08102384420537129, \"hour\": 65}, {\"corr\": 0.00645110884212054, \"hour\": 66}, {\"corr\": 0.07527524564799017, \"hour\": 67}, {\"corr\": -0.06914710946023214, \"hour\": 68}, {\"corr\": -0.007904385597651364, \"hour\": 69}, {\"corr\": -0.049987061456462, \"hour\": 70}, {\"corr\": 0.026851101364837666, \"hour\": 71}], \"data-b9dd60dc560f7891b967d8e82c37ad0c\": [{\"Component\": 24}, {\"Component\": 48}, {\"Component\": 72}]}}, {\"mode\": \"vega-lite\"});\n",
       "</script>"
      ],
      "text/plain": [
       "alt.LayerChart(...)"
      ]
     },
     "execution_count": 60,
     "metadata": {},
     "output_type": "execute_result"
    }
   ],
   "source": [
    "plotcorr(corr_meridional,\"Correlation plot of Meridional\")"
   ]
  }
 ],
 "metadata": {
  "kernelspec": {
   "display_name": "Python 3 (ipykernel)",
   "language": "python",
   "name": "python3"
  },
  "language_info": {
   "codemirror_mode": {
    "name": "ipython",
    "version": 3
   },
   "file_extension": ".py",
   "mimetype": "text/x-python",
   "name": "python",
   "nbconvert_exporter": "python",
   "pygments_lexer": "ipython3",
   "version": "3.9.13"
  }
 },
 "nbformat": 4,
 "nbformat_minor": 5
}
